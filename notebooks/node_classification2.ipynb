{
  "nbformat": 4,
  "nbformat_minor": 0,
  "metadata": {
    "colab": {
      "provenance": []
    },
    "kernelspec": {
      "name": "python3",
      "display_name": "Python 3"
    },
    "language_info": {
      "name": "python"
    },
    "widgets": {
      "application/vnd.jupyter.widget-state+json": {
        "74d1f801639144c08a7c5fb294bbd8d7": {
          "model_module": "@jupyter-widgets/controls",
          "model_name": "HBoxModel",
          "model_module_version": "1.5.0",
          "state": {
            "_dom_classes": [],
            "_model_module": "@jupyter-widgets/controls",
            "_model_module_version": "1.5.0",
            "_model_name": "HBoxModel",
            "_view_count": null,
            "_view_module": "@jupyter-widgets/controls",
            "_view_module_version": "1.5.0",
            "_view_name": "HBoxView",
            "box_style": "",
            "children": [
              "IPY_MODEL_54ff35a32f0f4102884604481ca6594e",
              "IPY_MODEL_efec2b39033e4dc394b65d896b6bb057",
              "IPY_MODEL_f7c65a1ff3874b40ae17696c05b0cc16"
            ],
            "layout": "IPY_MODEL_ff9c3850a89f42e2a2ad223ea0508815"
          }
        },
        "54ff35a32f0f4102884604481ca6594e": {
          "model_module": "@jupyter-widgets/controls",
          "model_name": "HTMLModel",
          "model_module_version": "1.5.0",
          "state": {
            "_dom_classes": [],
            "_model_module": "@jupyter-widgets/controls",
            "_model_module_version": "1.5.0",
            "_model_name": "HTMLModel",
            "_view_count": null,
            "_view_module": "@jupyter-widgets/controls",
            "_view_module_version": "1.5.0",
            "_view_name": "HTMLView",
            "description": "",
            "description_tooltip": null,
            "layout": "IPY_MODEL_89023e9a705144ca9e847c36157e427c",
            "placeholder": "​",
            "style": "IPY_MODEL_a6e54958305347c4a84dda3e2a4605f7",
            "value": "Computing transition probabilities: 100%"
          }
        },
        "efec2b39033e4dc394b65d896b6bb057": {
          "model_module": "@jupyter-widgets/controls",
          "model_name": "FloatProgressModel",
          "model_module_version": "1.5.0",
          "state": {
            "_dom_classes": [],
            "_model_module": "@jupyter-widgets/controls",
            "_model_module_version": "1.5.0",
            "_model_name": "FloatProgressModel",
            "_view_count": null,
            "_view_module": "@jupyter-widgets/controls",
            "_view_module_version": "1.5.0",
            "_view_name": "ProgressView",
            "bar_style": "success",
            "description": "",
            "description_tooltip": null,
            "layout": "IPY_MODEL_cc0bd8e528834b6d98229aa24faf63a2",
            "max": 37,
            "min": 0,
            "orientation": "horizontal",
            "style": "IPY_MODEL_c1003e8324c047d0b0648736c2eeda7b",
            "value": 37
          }
        },
        "f7c65a1ff3874b40ae17696c05b0cc16": {
          "model_module": "@jupyter-widgets/controls",
          "model_name": "HTMLModel",
          "model_module_version": "1.5.0",
          "state": {
            "_dom_classes": [],
            "_model_module": "@jupyter-widgets/controls",
            "_model_module_version": "1.5.0",
            "_model_name": "HTMLModel",
            "_view_count": null,
            "_view_module": "@jupyter-widgets/controls",
            "_view_module_version": "1.5.0",
            "_view_name": "HTMLView",
            "description": "",
            "description_tooltip": null,
            "layout": "IPY_MODEL_cc763629181f4b41bf13ae110612e7e7",
            "placeholder": "​",
            "style": "IPY_MODEL_de8f4bb84fbd4bb7b30bbfe13383d950",
            "value": " 37/37 [00:00&lt;00:00, 1370.32it/s]"
          }
        },
        "ff9c3850a89f42e2a2ad223ea0508815": {
          "model_module": "@jupyter-widgets/base",
          "model_name": "LayoutModel",
          "model_module_version": "1.2.0",
          "state": {
            "_model_module": "@jupyter-widgets/base",
            "_model_module_version": "1.2.0",
            "_model_name": "LayoutModel",
            "_view_count": null,
            "_view_module": "@jupyter-widgets/base",
            "_view_module_version": "1.2.0",
            "_view_name": "LayoutView",
            "align_content": null,
            "align_items": null,
            "align_self": null,
            "border": null,
            "bottom": null,
            "display": null,
            "flex": null,
            "flex_flow": null,
            "grid_area": null,
            "grid_auto_columns": null,
            "grid_auto_flow": null,
            "grid_auto_rows": null,
            "grid_column": null,
            "grid_gap": null,
            "grid_row": null,
            "grid_template_areas": null,
            "grid_template_columns": null,
            "grid_template_rows": null,
            "height": null,
            "justify_content": null,
            "justify_items": null,
            "left": null,
            "margin": null,
            "max_height": null,
            "max_width": null,
            "min_height": null,
            "min_width": null,
            "object_fit": null,
            "object_position": null,
            "order": null,
            "overflow": null,
            "overflow_x": null,
            "overflow_y": null,
            "padding": null,
            "right": null,
            "top": null,
            "visibility": null,
            "width": null
          }
        },
        "89023e9a705144ca9e847c36157e427c": {
          "model_module": "@jupyter-widgets/base",
          "model_name": "LayoutModel",
          "model_module_version": "1.2.0",
          "state": {
            "_model_module": "@jupyter-widgets/base",
            "_model_module_version": "1.2.0",
            "_model_name": "LayoutModel",
            "_view_count": null,
            "_view_module": "@jupyter-widgets/base",
            "_view_module_version": "1.2.0",
            "_view_name": "LayoutView",
            "align_content": null,
            "align_items": null,
            "align_self": null,
            "border": null,
            "bottom": null,
            "display": null,
            "flex": null,
            "flex_flow": null,
            "grid_area": null,
            "grid_auto_columns": null,
            "grid_auto_flow": null,
            "grid_auto_rows": null,
            "grid_column": null,
            "grid_gap": null,
            "grid_row": null,
            "grid_template_areas": null,
            "grid_template_columns": null,
            "grid_template_rows": null,
            "height": null,
            "justify_content": null,
            "justify_items": null,
            "left": null,
            "margin": null,
            "max_height": null,
            "max_width": null,
            "min_height": null,
            "min_width": null,
            "object_fit": null,
            "object_position": null,
            "order": null,
            "overflow": null,
            "overflow_x": null,
            "overflow_y": null,
            "padding": null,
            "right": null,
            "top": null,
            "visibility": null,
            "width": null
          }
        },
        "a6e54958305347c4a84dda3e2a4605f7": {
          "model_module": "@jupyter-widgets/controls",
          "model_name": "DescriptionStyleModel",
          "model_module_version": "1.5.0",
          "state": {
            "_model_module": "@jupyter-widgets/controls",
            "_model_module_version": "1.5.0",
            "_model_name": "DescriptionStyleModel",
            "_view_count": null,
            "_view_module": "@jupyter-widgets/base",
            "_view_module_version": "1.2.0",
            "_view_name": "StyleView",
            "description_width": ""
          }
        },
        "cc0bd8e528834b6d98229aa24faf63a2": {
          "model_module": "@jupyter-widgets/base",
          "model_name": "LayoutModel",
          "model_module_version": "1.2.0",
          "state": {
            "_model_module": "@jupyter-widgets/base",
            "_model_module_version": "1.2.0",
            "_model_name": "LayoutModel",
            "_view_count": null,
            "_view_module": "@jupyter-widgets/base",
            "_view_module_version": "1.2.0",
            "_view_name": "LayoutView",
            "align_content": null,
            "align_items": null,
            "align_self": null,
            "border": null,
            "bottom": null,
            "display": null,
            "flex": null,
            "flex_flow": null,
            "grid_area": null,
            "grid_auto_columns": null,
            "grid_auto_flow": null,
            "grid_auto_rows": null,
            "grid_column": null,
            "grid_gap": null,
            "grid_row": null,
            "grid_template_areas": null,
            "grid_template_columns": null,
            "grid_template_rows": null,
            "height": null,
            "justify_content": null,
            "justify_items": null,
            "left": null,
            "margin": null,
            "max_height": null,
            "max_width": null,
            "min_height": null,
            "min_width": null,
            "object_fit": null,
            "object_position": null,
            "order": null,
            "overflow": null,
            "overflow_x": null,
            "overflow_y": null,
            "padding": null,
            "right": null,
            "top": null,
            "visibility": null,
            "width": null
          }
        },
        "c1003e8324c047d0b0648736c2eeda7b": {
          "model_module": "@jupyter-widgets/controls",
          "model_name": "ProgressStyleModel",
          "model_module_version": "1.5.0",
          "state": {
            "_model_module": "@jupyter-widgets/controls",
            "_model_module_version": "1.5.0",
            "_model_name": "ProgressStyleModel",
            "_view_count": null,
            "_view_module": "@jupyter-widgets/base",
            "_view_module_version": "1.2.0",
            "_view_name": "StyleView",
            "bar_color": null,
            "description_width": ""
          }
        },
        "cc763629181f4b41bf13ae110612e7e7": {
          "model_module": "@jupyter-widgets/base",
          "model_name": "LayoutModel",
          "model_module_version": "1.2.0",
          "state": {
            "_model_module": "@jupyter-widgets/base",
            "_model_module_version": "1.2.0",
            "_model_name": "LayoutModel",
            "_view_count": null,
            "_view_module": "@jupyter-widgets/base",
            "_view_module_version": "1.2.0",
            "_view_name": "LayoutView",
            "align_content": null,
            "align_items": null,
            "align_self": null,
            "border": null,
            "bottom": null,
            "display": null,
            "flex": null,
            "flex_flow": null,
            "grid_area": null,
            "grid_auto_columns": null,
            "grid_auto_flow": null,
            "grid_auto_rows": null,
            "grid_column": null,
            "grid_gap": null,
            "grid_row": null,
            "grid_template_areas": null,
            "grid_template_columns": null,
            "grid_template_rows": null,
            "height": null,
            "justify_content": null,
            "justify_items": null,
            "left": null,
            "margin": null,
            "max_height": null,
            "max_width": null,
            "min_height": null,
            "min_width": null,
            "object_fit": null,
            "object_position": null,
            "order": null,
            "overflow": null,
            "overflow_x": null,
            "overflow_y": null,
            "padding": null,
            "right": null,
            "top": null,
            "visibility": null,
            "width": null
          }
        },
        "de8f4bb84fbd4bb7b30bbfe13383d950": {
          "model_module": "@jupyter-widgets/controls",
          "model_name": "DescriptionStyleModel",
          "model_module_version": "1.5.0",
          "state": {
            "_model_module": "@jupyter-widgets/controls",
            "_model_module_version": "1.5.0",
            "_model_name": "DescriptionStyleModel",
            "_view_count": null,
            "_view_module": "@jupyter-widgets/base",
            "_view_module_version": "1.2.0",
            "_view_name": "StyleView",
            "description_width": ""
          }
        }
      }
    }
  },
  "cells": [
    {
      "cell_type": "code",
      "execution_count": 1,
      "metadata": {
        "colab": {
          "base_uri": "https://localhost:8080/"
        },
        "id": "hW2axC8k07-a",
        "outputId": "9ec2441f-ef94-423d-cbe1-dbdd6cb3f666"
      },
      "outputs": [
        {
          "output_type": "stream",
          "name": "stdout",
          "text": [
            "2.0.1+cu118\n",
            "\u001b[2K     \u001b[90m━━━━━━━━━━━━━━━━━━━━━━━━━━━━━━━━━━━━━━━━\u001b[0m \u001b[32m10.2/10.2 MB\u001b[0m \u001b[31m28.4 MB/s\u001b[0m eta \u001b[36m0:00:00\u001b[0m\n",
            "\u001b[2K     \u001b[90m━━━━━━━━━━━━━━━━━━━━━━━━━━━━━━━━━━━━━━━━\u001b[0m \u001b[32m4.8/4.8 MB\u001b[0m \u001b[31m57.5 MB/s\u001b[0m eta \u001b[36m0:00:00\u001b[0m\n",
            "\u001b[?25h  Installing build dependencies ... \u001b[?25l\u001b[?25hdone\n",
            "  Getting requirements to build wheel ... \u001b[?25l\u001b[?25hdone\n",
            "  Preparing metadata (pyproject.toml) ... \u001b[?25l\u001b[?25hdone\n",
            "  Building wheel for torch_geometric (pyproject.toml) ... \u001b[?25l\u001b[?25hdone\n"
          ]
        }
      ],
      "source": [
        "# Install required packages.\n",
        "import os\n",
        "import torch\n",
        "os.environ['TORCH'] = torch.__version__\n",
        "print(torch.__version__)\n",
        "\n",
        "!pip install -q torch-scatter -f https://data.pyg.org/whl/torch-${TORCH}.html\n",
        "!pip install -q torch-sparse -f https://data.pyg.org/whl/torch-${TORCH}.html\n",
        "!pip install -q git+https://github.com/pyg-team/pytorch_geometric.git\n",
        "\n",
        "# Helper function for visualization.\n",
        "%matplotlib inline\n",
        "import matplotlib.pyplot as plt\n",
        "from sklearn.manifold import TSNE\n",
        "\n",
        "def visualize(h, color):\n",
        "    z = TSNE(n_components=2).fit_transform(h.detach().cpu().numpy())\n",
        "\n",
        "    plt.figure(figsize=(10,10))\n",
        "    plt.xticks([])\n",
        "    plt.yticks([])\n",
        "\n",
        "    plt.scatter(z[:, 0], z[:, 1], s=70, c=color, cmap=\"Set2\")\n",
        "    plt.show()"
      ]
    },
    {
      "cell_type": "code",
      "source": [
        "!pip install node2vec"
      ],
      "metadata": {
        "colab": {
          "base_uri": "https://localhost:8080/"
        },
        "id": "gUXpwAA33K3y",
        "outputId": "2d11f031-5028-4170-e9f5-2de00b2d2322"
      },
      "execution_count": 2,
      "outputs": [
        {
          "output_type": "stream",
          "name": "stdout",
          "text": [
            "Collecting node2vec\n",
            "  Downloading node2vec-0.4.6-py3-none-any.whl (7.0 kB)\n",
            "Requirement already satisfied: gensim<5.0.0,>=4.1.2 in /usr/local/lib/python3.10/dist-packages (from node2vec) (4.3.1)\n",
            "Requirement already satisfied: joblib<2.0.0,>=1.1.0 in /usr/local/lib/python3.10/dist-packages (from node2vec) (1.3.1)\n",
            "Collecting networkx<3.0,>=2.5 (from node2vec)\n",
            "  Downloading networkx-2.8.8-py3-none-any.whl (2.0 MB)\n",
            "\u001b[2K     \u001b[90m━━━━━━━━━━━━━━━━━━━━━━━━━━━━━━━━━━━━━━━━\u001b[0m \u001b[32m2.0/2.0 MB\u001b[0m \u001b[31m15.7 MB/s\u001b[0m eta \u001b[36m0:00:00\u001b[0m\n",
            "\u001b[?25hRequirement already satisfied: numpy<2.0.0,>=1.19.5 in /usr/local/lib/python3.10/dist-packages (from node2vec) (1.22.4)\n",
            "Requirement already satisfied: tqdm<5.0.0,>=4.55.1 in /usr/local/lib/python3.10/dist-packages (from node2vec) (4.65.0)\n",
            "Requirement already satisfied: scipy>=1.7.0 in /usr/local/lib/python3.10/dist-packages (from gensim<5.0.0,>=4.1.2->node2vec) (1.10.1)\n",
            "Requirement already satisfied: smart-open>=1.8.1 in /usr/local/lib/python3.10/dist-packages (from gensim<5.0.0,>=4.1.2->node2vec) (6.3.0)\n",
            "Installing collected packages: networkx, node2vec\n",
            "  Attempting uninstall: networkx\n",
            "    Found existing installation: networkx 3.1\n",
            "    Uninstalling networkx-3.1:\n",
            "      Successfully uninstalled networkx-3.1\n",
            "Successfully installed networkx-2.8.8 node2vec-0.4.6\n"
          ]
        }
      ]
    },
    {
      "cell_type": "code",
      "source": [
        "!pip install grakel"
      ],
      "metadata": {
        "colab": {
          "base_uri": "https://localhost:8080/"
        },
        "id": "1zMzF1VdmyQI",
        "outputId": "00f04c65-9d3b-4b24-ef5a-61be644c29b0"
      },
      "execution_count": 23,
      "outputs": [
        {
          "output_type": "stream",
          "name": "stdout",
          "text": [
            "Collecting grakel\n",
            "  Downloading GraKeL-0.1.9-cp310-cp310-manylinux_2_17_x86_64.manylinux2014_x86_64.whl (1.8 MB)\n",
            "\u001b[2K     \u001b[90m━━━━━━━━━━━━━━━━━━━━━━━━━━━━━━━━━━━━━━━━\u001b[0m \u001b[32m1.8/1.8 MB\u001b[0m \u001b[31m3.3 MB/s\u001b[0m eta \u001b[36m0:00:00\u001b[0m\n",
            "\u001b[?25hRequirement already satisfied: numpy>=1.14.0 in /usr/local/lib/python3.10/dist-packages (from grakel) (1.22.4)\n",
            "Requirement already satisfied: cython>=0.27.3 in /usr/local/lib/python3.10/dist-packages (from grakel) (0.29.36)\n",
            "Requirement already satisfied: scikit-learn>=0.19 in /usr/local/lib/python3.10/dist-packages (from grakel) (1.2.2)\n",
            "Requirement already satisfied: six>=1.11.0 in /usr/local/lib/python3.10/dist-packages (from grakel) (1.16.0)\n",
            "Requirement already satisfied: future>=0.16.0 in /usr/local/lib/python3.10/dist-packages (from grakel) (0.18.3)\n",
            "Requirement already satisfied: joblib in /usr/local/lib/python3.10/dist-packages (from grakel) (1.3.1)\n",
            "Requirement already satisfied: scipy>=1.3.2 in /usr/local/lib/python3.10/dist-packages (from scikit-learn>=0.19->grakel) (1.10.1)\n",
            "Requirement already satisfied: threadpoolctl>=2.0.0 in /usr/local/lib/python3.10/dist-packages (from scikit-learn>=0.19->grakel) (3.2.0)\n",
            "Installing collected packages: grakel\n",
            "Successfully installed grakel-0.1.9\n"
          ]
        }
      ]
    },
    {
      "cell_type": "code",
      "source": [
        "# https://github.com/siantist/graph_mining/tree/main/grakel/preprocessing\n",
        "def prepare_grakel_input(node_attributes_array, edge_attributes_array, num_graphs): # array of vectors\n",
        "  from grakel import Graph\n",
        "  grakel_graphs = []\n",
        "\n",
        "  for i in range(num_graphs):\n",
        "      node_attributes = node_attributes_array[i]\n",
        "      edge_attributes = edge_attributes_array[i]\n",
        "      ggraph = Graph(edges, node_labels= node_attributes, edge_labels = edge_attributes)\n",
        "      grakel_graphs.append(ggraph)\n",
        "\n",
        "  return grakel_graphs\n",
        "\n",
        "def run_kernel(self, g1, g2):\n",
        "        from grakel.kernels import PropagationAttr\n",
        "        pak = PropagationAttr(normalize=True, verbose=False)\n",
        "        pak.fit_transform([g1])\n",
        "        sc = pak.transform([g2])\n",
        "\n",
        "        return sc\n",
        "# load the dataset\n",
        "g_db2 = tud_to_networkx(\"ENZYMES\")\n",
        "\n",
        "graphs =[]\n",
        "classes = []\n",
        "adj_mats = {}\n",
        "\n",
        "grakel_graphs = {}\n",
        "grakel_array = []\n",
        "\n",
        "grakel_array2 = []\n",
        "\n",
        "# edge lists\n",
        "edgelists = {}\n",
        "\n",
        "i=0\n",
        "for g in g_db2:\n",
        "    # convert to adj mat or other graph object\n",
        "    A = nx.to_numpy_matrix(g)\n",
        "    # make the edge list from it?\n",
        "    elist = edge_dictionary(g)\n",
        "    edgelists[i] = elist\n",
        "    G = Graph(elist)\n",
        "\n",
        "    grakel_graphs[i] = G\n",
        "    grakel_array.append(G)\n",
        "\n",
        "    adj_mats[i] = A\n",
        "\n",
        "    c = g.graph['classes']\n",
        "    classes.append(c)\n",
        "\n",
        "    node_lab = g.n_labels #g_db2[0].nodes[1]['labels']\n",
        "    # make the grakel graph\n",
        "    G2 = Graph(elist, node_lab)\n",
        "\n",
        "    grakel_array2.append(G2)\n",
        "\n",
        "    i+=1\n",
        "\n"
      ],
      "metadata": {
        "colab": {
          "base_uri": "https://localhost:8080/",
          "height": 240
        },
        "id": "unm-S1TTgfS_",
        "outputId": "b23c6067-9ba2-4930-bb03-bf0db558feb4"
      },
      "execution_count": 22,
      "outputs": [
        {
          "output_type": "error",
          "ename": "NameError",
          "evalue": "ignored",
          "traceback": [
            "\u001b[0;31m---------------------------------------------------------------------------\u001b[0m",
            "\u001b[0;31mNameError\u001b[0m                                 Traceback (most recent call last)",
            "\u001b[0;32m<ipython-input-22-66bf8db6d2cf>\u001b[0m in \u001b[0;36m<cell line: 22>\u001b[0;34m()\u001b[0m\n\u001b[1;32m     20\u001b[0m         \u001b[0;32mreturn\u001b[0m \u001b[0msc\u001b[0m\u001b[0;34m\u001b[0m\u001b[0;34m\u001b[0m\u001b[0m\n\u001b[1;32m     21\u001b[0m \u001b[0;31m# load the dataset\u001b[0m\u001b[0;34m\u001b[0m\u001b[0;34m\u001b[0m\u001b[0m\n\u001b[0;32m---> 22\u001b[0;31m \u001b[0mg_db2\u001b[0m \u001b[0;34m=\u001b[0m \u001b[0mtud_to_networkx\u001b[0m\u001b[0;34m(\u001b[0m\u001b[0;34m\"ENZYMES\"\u001b[0m\u001b[0;34m)\u001b[0m\u001b[0;34m\u001b[0m\u001b[0;34m\u001b[0m\u001b[0m\n\u001b[0m\u001b[1;32m     23\u001b[0m \u001b[0;34m\u001b[0m\u001b[0m\n\u001b[1;32m     24\u001b[0m \u001b[0mgraphs\u001b[0m \u001b[0;34m=\u001b[0m\u001b[0;34m[\u001b[0m\u001b[0;34m]\u001b[0m\u001b[0;34m\u001b[0m\u001b[0;34m\u001b[0m\u001b[0m\n",
            "\u001b[0;31mNameError\u001b[0m: name 'tud_to_networkx' is not defined"
          ]
        }
      ]
    },
    {
      "cell_type": "code",
      "source": [
        "# streamline the above to prepare all the graph node embeddings\n",
        "\n",
        "from node2vec import Node2Vec# Generate walks\n",
        "for in in range(len(grakel_array)):\n",
        "  g = grakel_array[ind]\n",
        "  data = dataset[ind]\n",
        "  node2vec = Node2Vec(g, dimensions=20, walk_length=16, num_walks=100)# Reformat position nodes\n",
        "\n",
        "  model = node2vec.fit(window=10, min_count=1, batch_words=4)\n",
        "  node_embeddings = (model.wv.vectors)\n",
        "  # measure # rows of data.x\n",
        "  nrows = np.shape(data.x)[0]\n",
        "  data.y = torch.as_tensor([int(data.y)]*nrows)"
      ],
      "metadata": {
        "id": "Eed9dFzcw5Mz"
      },
      "execution_count": null,
      "outputs": []
    },
    {
      "cell_type": "code",
      "source": [
        "# https://ysig.github.io/GraKeL/0.1a8/documentation/introduction.html#performing-graph-classification\n",
        "from sklearn.svm import SVC\n",
        "clf = SVC(kernel='precomputed')\n",
        "clf.fit(K_train, y_train)\n",
        "SVC(kernel='precomputed')\n",
        "\n",
        "y_pred = clf.predict(K_test)\n",
        "from sklearn.metrics import accuracy_score\n",
        "print(\"%2.2f %%\" %(round(accuracy_score(y_test, y_pred)*100)))"
      ],
      "metadata": {
        "id": "YixpfWM8tqgx"
      },
      "execution_count": null,
      "outputs": []
    },
    {
      "cell_type": "code",
      "source": [
        "from torch_geometric.datasets import Planetoid\n",
        "from torch_geometric.transforms import NormalizeFeatures\n",
        "\n",
        "dataset = Planetoid(root='data/Planetoid', name='Cora', transform=NormalizeFeatures())\n",
        "\n",
        "print()\n",
        "print(f'Dataset: {dataset}:')\n",
        "print('======================')\n",
        "print(f'Number of graphs: {len(dataset)}')\n",
        "print(f'Number of features: {dataset.num_features}')\n",
        "print(f'Number of classes: {dataset.num_classes}')\n",
        "\n",
        "data = dataset[0]  # Get the first graph object.\n",
        "\n",
        "print()\n",
        "print(data)\n",
        "print('===========================================================================================================')\n",
        "\n",
        "# Gather some statistics about the graph.\n",
        "print(f'Number of nodes: {data.num_nodes}')\n",
        "print(f'Number of edges: {data.num_edges}')\n",
        "print(f'Average node degree: {data.num_edges / data.num_nodes:.2f}')\n",
        "print(f'Number of training nodes: {data.train_mask.sum()}')\n",
        "print(f'Training node label rate: {int(data.train_mask.sum()) / data.num_nodes:.2f}')\n",
        "print(f'Has isolated nodes: {data.has_isolated_nodes()}')\n",
        "print(f'Has self-loops: {data.has_self_loops()}')\n",
        "print(f'Is undirected: {data.is_undirected()}')"
      ],
      "metadata": {
        "colab": {
          "base_uri": "https://localhost:8080/"
        },
        "id": "2Tv-KDIQ3nfb",
        "outputId": "49dec5eb-66e3-4f2a-e5d4-4dced14a0a92"
      },
      "execution_count": null,
      "outputs": [
        {
          "output_type": "stream",
          "name": "stderr",
          "text": [
            "Downloading https://github.com/kimiyoung/planetoid/raw/master/data/ind.cora.x\n",
            "Downloading https://github.com/kimiyoung/planetoid/raw/master/data/ind.cora.tx\n",
            "Downloading https://github.com/kimiyoung/planetoid/raw/master/data/ind.cora.allx\n",
            "Downloading https://github.com/kimiyoung/planetoid/raw/master/data/ind.cora.y\n",
            "Downloading https://github.com/kimiyoung/planetoid/raw/master/data/ind.cora.ty\n",
            "Downloading https://github.com/kimiyoung/planetoid/raw/master/data/ind.cora.ally\n",
            "Downloading https://github.com/kimiyoung/planetoid/raw/master/data/ind.cora.graph\n",
            "Downloading https://github.com/kimiyoung/planetoid/raw/master/data/ind.cora.test.index\n",
            "Processing...\n"
          ]
        },
        {
          "output_type": "stream",
          "name": "stdout",
          "text": [
            "\n",
            "Dataset: Cora():\n",
            "======================\n",
            "Number of graphs: 1\n",
            "Number of features: 1433\n",
            "Number of classes: 7\n",
            "\n",
            "Data(x=[2708, 1433], edge_index=[2, 10556], y=[2708], train_mask=[2708], val_mask=[2708], test_mask=[2708])\n",
            "===========================================================================================================\n",
            "Number of nodes: 2708\n",
            "Number of edges: 10556\n",
            "Average node degree: 3.90\n",
            "Number of training nodes: 140\n",
            "Training node label rate: 0.05\n",
            "Has isolated nodes: False\n",
            "Has self-loops: False\n",
            "Is undirected: True\n"
          ]
        },
        {
          "output_type": "stream",
          "name": "stderr",
          "text": [
            "Done!\n"
          ]
        }
      ]
    },
    {
      "cell_type": "code",
      "source": [
        "from torch_geometric.datasets import TUDataset\n",
        "dataset = TUDataset(root=\"tutorial1\",name= \"ENZYMES\")\n",
        "data = dataset[0]"
      ],
      "metadata": {
        "colab": {
          "base_uri": "https://localhost:8080/"
        },
        "id": "BxZ_lt4k7jN2",
        "outputId": "641a98fd-b058-4b74-cdf6-5889a9821bd6"
      },
      "execution_count": 4,
      "outputs": [
        {
          "output_type": "stream",
          "name": "stderr",
          "text": [
            "Downloading https://www.chrsmrrs.com/graphkerneldatasets/ENZYMES.zip\n",
            "Extracting tutorial1/ENZYMES/ENZYMES.zip\n",
            "Processing...\n",
            "Done!\n"
          ]
        }
      ]
    },
    {
      "cell_type": "code",
      "source": [
        "data = dataset[1]"
      ],
      "metadata": {
        "id": "15mlQldyo7EP"
      },
      "execution_count": 25,
      "outputs": []
    },
    {
      "cell_type": "code",
      "source": [
        "np.shape(data.x)[0] # dimension that muust reshape y by"
      ],
      "metadata": {
        "colab": {
          "base_uri": "https://localhost:8080/"
        },
        "id": "K12RmbLco8vn",
        "outputId": "2cb9278f-c37e-4741-91ac-8393e700f54a"
      },
      "execution_count": 28,
      "outputs": [
        {
          "output_type": "execute_result",
          "data": {
            "text/plain": [
              "23"
            ]
          },
          "metadata": {},
          "execution_count": 28
        }
      ]
    },
    {
      "cell_type": "code",
      "source": [
        "# iterate over edges (edge_index) to add/convert to adjacency matrix\n",
        "from torch_geometric.utils import to_dense_adj\n",
        "# https://pytorch-geometric.readthedocs.io/en/latest/_modules/torch_geometric/utils/to_dense_adj.html\n",
        "a = to_dense_adj(data.edge_index)"
      ],
      "metadata": {
        "id": "FZ6zb25H3r8K"
      },
      "execution_count": 5,
      "outputs": []
    },
    {
      "cell_type": "code",
      "source": [
        "import numpy as np\n",
        "an = np.array(a[0])\n",
        "anp = an.astype(np.float)"
      ],
      "metadata": {
        "colab": {
          "base_uri": "https://localhost:8080/"
        },
        "id": "O71Cj3WdKXWs",
        "outputId": "f9422485-1ef0-4b1c-b55b-2d6f2ad4b09e"
      },
      "execution_count": 7,
      "outputs": [
        {
          "output_type": "stream",
          "name": "stderr",
          "text": [
            "<ipython-input-7-7eb8679444a7>:3: DeprecationWarning: `np.float` is a deprecated alias for the builtin `float`. To silence this warning, use `float` by itself. Doing this will not modify any behavior and is safe. If you specifically wanted the numpy scalar type, use `np.float64` here.\n",
            "Deprecated in NumPy 1.20; for more details and guidance: https://numpy.org/devdocs/release/1.20.0-notes.html#deprecations\n",
            "  anp = an.astype(np.float)\n"
          ]
        }
      ]
    },
    {
      "cell_type": "code",
      "source": [
        "import networkx as nx\n",
        "\n",
        "import numpy as np\n",
        "G=nx.from_numpy_array(anp)\n",
        "# calculate eccentricity\n",
        "#ecc = nx.eccentricity(G)\n",
        "\n",
        "from node2vec import Node2Vec# Generate walks\n",
        "node2vec = Node2Vec(G, dimensions=20, walk_length=16, num_walks=100)# Reformat position nodes\n",
        "\n",
        "model = node2vec.fit(window=10, min_count=1, batch_words=4)"
      ],
      "metadata": {
        "colab": {
          "base_uri": "https://localhost:8080/",
          "height": 67,
          "referenced_widgets": [
            "74d1f801639144c08a7c5fb294bbd8d7",
            "54ff35a32f0f4102884604481ca6594e",
            "efec2b39033e4dc394b65d896b6bb057",
            "f7c65a1ff3874b40ae17696c05b0cc16",
            "ff9c3850a89f42e2a2ad223ea0508815",
            "89023e9a705144ca9e847c36157e427c",
            "a6e54958305347c4a84dda3e2a4605f7",
            "cc0bd8e528834b6d98229aa24faf63a2",
            "c1003e8324c047d0b0648736c2eeda7b",
            "cc763629181f4b41bf13ae110612e7e7",
            "de8f4bb84fbd4bb7b30bbfe13383d950"
          ]
        },
        "id": "rxROaAIS5MEc",
        "outputId": "4e1aa540-c6ee-4861-d2db-9aecd98a0de1"
      },
      "execution_count": 8,
      "outputs": [
        {
          "output_type": "display_data",
          "data": {
            "text/plain": [
              "Computing transition probabilities:   0%|          | 0/37 [00:00<?, ?it/s]"
            ],
            "application/vnd.jupyter.widget-view+json": {
              "version_major": 2,
              "version_minor": 0,
              "model_id": "74d1f801639144c08a7c5fb294bbd8d7"
            }
          },
          "metadata": {}
        },
        {
          "output_type": "stream",
          "name": "stderr",
          "text": [
            "Generating walks (CPU: 1): 100%|██████████| 100/100 [00:00<00:00, 237.66it/s]\n"
          ]
        }
      ]
    },
    {
      "cell_type": "code",
      "source": [
        "node_embeddings = (model.wv.vectors)"
      ],
      "metadata": {
        "id": "33ZN9BBSKdYe"
      },
      "execution_count": 9,
      "outputs": []
    },
    {
      "cell_type": "code",
      "source": [
        "import torch\n",
        "from torch.nn import Linear\n",
        "import torch.nn.functional as F\n",
        "from torch_geometric.nn import GATConv\n",
        "\n",
        "class GATCN(torch.nn.Module):\n",
        "  def __init__(self, hidden_channels):\n",
        "    super().__init__()\n",
        "    torch.manual_seed(123)\n",
        "    self.conv1 =  GATConv(dataset.num_features, hidden_channels, return_attention_weights=True)\n",
        "    self.conv2 = GATConv(hidden_channels, dataset.num_classes)\n",
        "  def forward(self, x, edge_index):\n",
        "        x = self.conv1(x, edge_index)\n",
        "        x = x.relu()\n",
        "        x = F.dropout(x, p=0.5, training=self.training)\n",
        "        x = self.conv2(x, edge_index)\n",
        "        return x\n",
        "\n",
        "gatmodel = GATCN(hidden_channels=16)\n",
        "print(gatmodel)"
      ],
      "metadata": {
        "colab": {
          "base_uri": "https://localhost:8080/"
        },
        "id": "810D2g2Z7Yn2",
        "outputId": "499f619e-9e15-4bc0-d98f-cddce1dc874e"
      },
      "execution_count": 10,
      "outputs": [
        {
          "output_type": "stream",
          "name": "stdout",
          "text": [
            "GATCN(\n",
            "  (conv1): GATConv(3, 16, heads=1)\n",
            "  (conv2): GATConv(16, 6, heads=1)\n",
            ")\n"
          ]
        }
      ]
    },
    {
      "cell_type": "code",
      "source": [
        "# train the above model\n",
        "model = gatmodel\n",
        "criterion = torch.nn.CrossEntropyLoss()  # Define loss criterion.\n",
        "optimizer = torch.optim.Adam(model.parameters(), lr=0.01, weight_decay=5e-4)  # Define optimizer.\n",
        "\n",
        "def train():\n",
        "      model.train()\n",
        "      optimizer.zero_grad()  # Clear gradients.\n",
        "      out_ne = model.forward(data.x, data.edge_index) #, return_attention_weights=True)  # Perform a single forward pass.\n",
        "      loss = criterion(out_ne, data.y)\n",
        "      #loss = criterion(out[data.train_mask], data.y[data.train_mask])  # Compute the loss solely based on the training nodes.\n",
        "      loss.backward()  # Derive gradients.\n",
        "      optimizer.step()  # Update parameters based on gradients.\n",
        "      return loss, out_ne\n",
        "\n",
        "def test():\n",
        "      model.eval()\n",
        "      out = model(data.x)\n",
        "      pred = out.argmax(dim=1)  # Use the class with highest probability.\n",
        "      test_correct = pred[data.test_mask] == data.y[data.test_mask]  # Check against ground-truth labels.\n",
        "      test_acc = int(test_correct.sum()) / int(data.test_mask.sum())  # Derive ratio of correct predictions.\n",
        "      return test_acc\n",
        "\n",
        "for epoch in range(1, 201):\n",
        "    loss, out_ne = train()\n",
        "    print(f'Epoch: {epoch:03d}, Loss: {loss:.4f}')"
      ],
      "metadata": {
        "colab": {
          "base_uri": "https://localhost:8080/"
        },
        "id": "4DRlewvw8IFc",
        "outputId": "4781734f-5557-4a74-b7ba-62e92cf9d283"
      },
      "execution_count": null,
      "outputs": [
        {
          "output_type": "stream",
          "name": "stdout",
          "text": [
            "Epoch: 001, Loss: 1.9449\n",
            "Epoch: 002, Loss: 1.9275\n",
            "Epoch: 003, Loss: 1.9089\n",
            "Epoch: 004, Loss: 1.8880\n",
            "Epoch: 005, Loss: 1.8723\n",
            "Epoch: 006, Loss: 1.8511\n",
            "Epoch: 007, Loss: 1.8303\n",
            "Epoch: 008, Loss: 1.8197\n",
            "Epoch: 009, Loss: 1.8007\n",
            "Epoch: 010, Loss: 1.7863\n",
            "Epoch: 011, Loss: 1.7681\n",
            "Epoch: 012, Loss: 1.7513\n",
            "Epoch: 013, Loss: 1.7552\n",
            "Epoch: 014, Loss: 1.7317\n",
            "Epoch: 015, Loss: 1.7262\n",
            "Epoch: 016, Loss: 1.7055\n",
            "Epoch: 017, Loss: 1.7005\n",
            "Epoch: 018, Loss: 1.6928\n",
            "Epoch: 019, Loss: 1.6752\n",
            "Epoch: 020, Loss: 1.6580\n",
            "Epoch: 021, Loss: 1.6517\n",
            "Epoch: 022, Loss: 1.6424\n",
            "Epoch: 023, Loss: 1.6339\n",
            "Epoch: 024, Loss: 1.6155\n",
            "Epoch: 025, Loss: 1.6040\n",
            "Epoch: 026, Loss: 1.5926\n",
            "Epoch: 027, Loss: 1.5814\n",
            "Epoch: 028, Loss: 1.5613\n",
            "Epoch: 029, Loss: 1.5506\n",
            "Epoch: 030, Loss: 1.5360\n",
            "Epoch: 031, Loss: 1.5205\n",
            "Epoch: 032, Loss: 1.5073\n",
            "Epoch: 033, Loss: 1.5025\n",
            "Epoch: 034, Loss: 1.4832\n",
            "Epoch: 035, Loss: 1.4732\n",
            "Epoch: 036, Loss: 1.4494\n",
            "Epoch: 037, Loss: 1.4360\n",
            "Epoch: 038, Loss: 1.4219\n",
            "Epoch: 039, Loss: 1.4015\n",
            "Epoch: 040, Loss: 1.3884\n",
            "Epoch: 041, Loss: 1.3716\n",
            "Epoch: 042, Loss: 1.3690\n",
            "Epoch: 043, Loss: 1.3525\n",
            "Epoch: 044, Loss: 1.3339\n",
            "Epoch: 045, Loss: 1.3109\n",
            "Epoch: 046, Loss: 1.3057\n",
            "Epoch: 047, Loss: 1.2902\n",
            "Epoch: 048, Loss: 1.2578\n",
            "Epoch: 049, Loss: 1.2480\n",
            "Epoch: 050, Loss: 1.2401\n",
            "Epoch: 051, Loss: 1.2258\n",
            "Epoch: 052, Loss: 1.1969\n",
            "Epoch: 053, Loss: 1.2030\n",
            "Epoch: 054, Loss: 1.1684\n",
            "Epoch: 055, Loss: 1.1619\n",
            "Epoch: 056, Loss: 1.1424\n",
            "Epoch: 057, Loss: 1.1212\n",
            "Epoch: 058, Loss: 1.1062\n",
            "Epoch: 059, Loss: 1.1051\n",
            "Epoch: 060, Loss: 1.0950\n",
            "Epoch: 061, Loss: 1.0694\n",
            "Epoch: 062, Loss: 1.0533\n",
            "Epoch: 063, Loss: 1.0303\n",
            "Epoch: 064, Loss: 1.0381\n",
            "Epoch: 065, Loss: 1.0155\n",
            "Epoch: 066, Loss: 1.0173\n",
            "Epoch: 067, Loss: 0.9961\n",
            "Epoch: 068, Loss: 1.0017\n",
            "Epoch: 069, Loss: 0.9620\n",
            "Epoch: 070, Loss: 0.9567\n",
            "Epoch: 071, Loss: 0.9727\n",
            "Epoch: 072, Loss: 0.9658\n",
            "Epoch: 073, Loss: 0.9237\n",
            "Epoch: 074, Loss: 0.9324\n",
            "Epoch: 075, Loss: 0.9278\n",
            "Epoch: 076, Loss: 0.9079\n",
            "Epoch: 077, Loss: 0.9010\n",
            "Epoch: 078, Loss: 0.8864\n",
            "Epoch: 079, Loss: 0.8798\n",
            "Epoch: 080, Loss: 0.8609\n",
            "Epoch: 081, Loss: 0.8377\n",
            "Epoch: 082, Loss: 0.8303\n",
            "Epoch: 083, Loss: 0.8540\n",
            "Epoch: 084, Loss: 0.8371\n",
            "Epoch: 085, Loss: 0.8337\n",
            "Epoch: 086, Loss: 0.8279\n",
            "Epoch: 087, Loss: 0.8159\n",
            "Epoch: 088, Loss: 0.8061\n",
            "Epoch: 089, Loss: 0.8175\n",
            "Epoch: 090, Loss: 0.7883\n",
            "Epoch: 091, Loss: 0.7757\n",
            "Epoch: 092, Loss: 0.8098\n",
            "Epoch: 093, Loss: 0.7942\n",
            "Epoch: 094, Loss: 0.7764\n",
            "Epoch: 095, Loss: 0.7639\n",
            "Epoch: 096, Loss: 0.7567\n",
            "Epoch: 097, Loss: 0.7367\n",
            "Epoch: 098, Loss: 0.7405\n",
            "Epoch: 099, Loss: 0.7559\n",
            "Epoch: 100, Loss: 0.7525\n",
            "Epoch: 101, Loss: 0.7412\n",
            "Epoch: 102, Loss: 0.7379\n",
            "Epoch: 103, Loss: 0.7569\n",
            "Epoch: 104, Loss: 0.7247\n",
            "Epoch: 105, Loss: 0.7436\n",
            "Epoch: 106, Loss: 0.7279\n",
            "Epoch: 107, Loss: 0.7261\n",
            "Epoch: 108, Loss: 0.7472\n",
            "Epoch: 109, Loss: 0.7211\n",
            "Epoch: 110, Loss: 0.7025\n",
            "Epoch: 111, Loss: 0.7120\n",
            "Epoch: 112, Loss: 0.6814\n",
            "Epoch: 113, Loss: 0.7097\n",
            "Epoch: 114, Loss: 0.7050\n",
            "Epoch: 115, Loss: 0.7068\n",
            "Epoch: 116, Loss: 0.6970\n",
            "Epoch: 117, Loss: 0.6887\n",
            "Epoch: 118, Loss: 0.6786\n",
            "Epoch: 119, Loss: 0.6813\n",
            "Epoch: 120, Loss: 0.6843\n",
            "Epoch: 121, Loss: 0.6886\n",
            "Epoch: 122, Loss: 0.6558\n",
            "Epoch: 123, Loss: 0.6632\n",
            "Epoch: 124, Loss: 0.6853\n",
            "Epoch: 125, Loss: 0.6776\n",
            "Epoch: 126, Loss: 0.6835\n",
            "Epoch: 127, Loss: 0.6683\n",
            "Epoch: 128, Loss: 0.6757\n",
            "Epoch: 129, Loss: 0.6806\n",
            "Epoch: 130, Loss: 0.6856\n",
            "Epoch: 131, Loss: 0.6571\n",
            "Epoch: 132, Loss: 0.6614\n",
            "Epoch: 133, Loss: 0.6513\n",
            "Epoch: 134, Loss: 0.6428\n",
            "Epoch: 135, Loss: 0.6565\n",
            "Epoch: 136, Loss: 0.6321\n",
            "Epoch: 137, Loss: 0.6548\n",
            "Epoch: 138, Loss: 0.6462\n",
            "Epoch: 139, Loss: 0.6494\n",
            "Epoch: 140, Loss: 0.6273\n",
            "Epoch: 141, Loss: 0.6330\n",
            "Epoch: 142, Loss: 0.6331\n",
            "Epoch: 143, Loss: 0.6415\n",
            "Epoch: 144, Loss: 0.6336\n",
            "Epoch: 145, Loss: 0.6386\n",
            "Epoch: 146, Loss: 0.6332\n",
            "Epoch: 147, Loss: 0.6381\n",
            "Epoch: 148, Loss: 0.6064\n",
            "Epoch: 149, Loss: 0.6240\n",
            "Epoch: 150, Loss: 0.6040\n",
            "Epoch: 151, Loss: 0.6204\n",
            "Epoch: 152, Loss: 0.6271\n",
            "Epoch: 153, Loss: 0.6047\n",
            "Epoch: 154, Loss: 0.5887\n",
            "Epoch: 155, Loss: 0.6055\n",
            "Epoch: 156, Loss: 0.5890\n",
            "Epoch: 157, Loss: 0.6017\n",
            "Epoch: 158, Loss: 0.6152\n",
            "Epoch: 159, Loss: 0.6087\n",
            "Epoch: 160, Loss: 0.5940\n",
            "Epoch: 161, Loss: 0.5829\n",
            "Epoch: 162, Loss: 0.6149\n",
            "Epoch: 163, Loss: 0.5963\n",
            "Epoch: 164, Loss: 0.5924\n",
            "Epoch: 165, Loss: 0.5914\n",
            "Epoch: 166, Loss: 0.6042\n",
            "Epoch: 167, Loss: 0.6056\n",
            "Epoch: 168, Loss: 0.5745\n",
            "Epoch: 169, Loss: 0.5798\n",
            "Epoch: 170, Loss: 0.6045\n",
            "Epoch: 171, Loss: 0.5799\n",
            "Epoch: 172, Loss: 0.6012\n",
            "Epoch: 173, Loss: 0.5589\n",
            "Epoch: 174, Loss: 0.6064\n",
            "Epoch: 175, Loss: 0.5917\n",
            "Epoch: 176, Loss: 0.5949\n",
            "Epoch: 177, Loss: 0.5938\n",
            "Epoch: 178, Loss: 0.5860\n",
            "Epoch: 179, Loss: 0.5682\n",
            "Epoch: 180, Loss: 0.5615\n",
            "Epoch: 181, Loss: 0.5674\n",
            "Epoch: 182, Loss: 0.5638\n",
            "Epoch: 183, Loss: 0.5679\n",
            "Epoch: 184, Loss: 0.5792\n",
            "Epoch: 185, Loss: 0.5828\n",
            "Epoch: 186, Loss: 0.5608\n",
            "Epoch: 187, Loss: 0.5533\n",
            "Epoch: 188, Loss: 0.5577\n",
            "Epoch: 189, Loss: 0.5710\n",
            "Epoch: 190, Loss: 0.5549\n",
            "Epoch: 191, Loss: 0.5417\n",
            "Epoch: 192, Loss: 0.5558\n",
            "Epoch: 193, Loss: 0.5665\n",
            "Epoch: 194, Loss: 0.5660\n",
            "Epoch: 195, Loss: 0.5489\n",
            "Epoch: 196, Loss: 0.5615\n",
            "Epoch: 197, Loss: 0.5356\n",
            "Epoch: 198, Loss: 0.5471\n",
            "Epoch: 199, Loss: 0.5663\n",
            "Epoch: 200, Loss: 0.5499\n"
          ]
        }
      ]
    },
    {
      "cell_type": "code",
      "source": [
        "visualize(out_ne, color=data.y)"
      ],
      "metadata": {
        "colab": {
          "base_uri": "https://localhost:8080/",
          "height": 807
        },
        "id": "Fz5lz2YX-rco",
        "outputId": "ca2629c0-9cb7-46fe-ab16-f86f65f4c3d7"
      },
      "execution_count": null,
      "outputs": [
        {
          "output_type": "display_data",
          "data": {
            "text/plain": [
              "<Figure size 1000x1000 with 1 Axes>"
            ],
            "image/png": "[encoded data removed]"
          },
          "metadata": {}
        }
      ]
    },
    {
      "cell_type": "code",
      "source": [
        "# try same on different dataset\n",
        "from torch_geometric.datasets import TUDataset\n",
        "tdataset = TUDataset(root=\"tutorial1\",name= \"ENZYMES\")"
      ],
      "metadata": {
        "colab": {
          "base_uri": "https://localhost:8080/"
        },
        "id": "dKYLvJx2_dsg",
        "outputId": "370b4ebf-a498-4d4f-ab93-4fa0622a599f"
      },
      "execution_count": null,
      "outputs": [
        {
          "output_type": "stream",
          "name": "stderr",
          "text": [
            "Downloading https://www.chrsmrrs.com/graphkerneldatasets/ENZYMES.zip\n",
            "Extracting tutorial1/ENZYMES/ENZYMES.zip\n",
            "Processing...\n",
            "Done!\n"
          ]
        }
      ]
    },
    {
      "cell_type": "code",
      "source": [
        "data = dataset[0] # tdataset"
      ],
      "metadata": {
        "id": "Rtxjsl4kBb5v"
      },
      "execution_count": null,
      "outputs": []
    },
    {
      "cell_type": "code",
      "source": [
        "data"
      ],
      "metadata": {
        "colab": {
          "base_uri": "https://localhost:8080/"
        },
        "id": "Fz5V027IDZ38",
        "outputId": "97f7c440-c005-43ca-f72a-2c1dce99bf61"
      },
      "execution_count": null,
      "outputs": [
        {
          "output_type": "execute_result",
          "data": {
            "text/plain": [
              "Data(edge_index=[2, 102], x=[23, 3], y=[1])"
            ]
          },
          "metadata": {},
          "execution_count": 16
        }
      ]
    },
    {
      "cell_type": "code",
      "source": [
        "np.shape(data.edge_index)"
      ],
      "metadata": {
        "colab": {
          "base_uri": "https://localhost:8080/"
        },
        "id": "fHwISjM4D2gu",
        "outputId": "de7a7766-62c0-49e5-9823-8a0381b6481c"
      },
      "execution_count": null,
      "outputs": [
        {
          "output_type": "execute_result",
          "data": {
            "text/plain": [
              "torch.Size([2, 102])"
            ]
          },
          "metadata": {},
          "execution_count": 18
        }
      ]
    },
    {
      "cell_type": "code",
      "source": [
        "np.shape(data.x)"
      ],
      "metadata": {
        "colab": {
          "base_uri": "https://localhost:8080/"
        },
        "id": "X6DdwIWVD50o",
        "outputId": "8284dfdf-d53c-48d4-f1fa-7bebef5dea95"
      },
      "execution_count": null,
      "outputs": [
        {
          "output_type": "execute_result",
          "data": {
            "text/plain": [
              "torch.Size([23, 3])"
            ]
          },
          "metadata": {},
          "execution_count": 20
        }
      ]
    },
    {
      "cell_type": "code",
      "source": [
        "model = gatmodel"
      ],
      "metadata": {
        "id": "gRfi26xoF0Fo"
      },
      "execution_count": null,
      "outputs": []
    },
    {
      "cell_type": "code",
      "source": [
        "print(model)"
      ],
      "metadata": {
        "colab": {
          "base_uri": "https://localhost:8080/"
        },
        "id": "D8-JIs9eF1pt",
        "outputId": "73a5f9aa-ee71-4a8a-e8f0-9a46aad04791"
      },
      "execution_count": null,
      "outputs": [
        {
          "output_type": "stream",
          "name": "stdout",
          "text": [
            "GATCN(\n",
            "  (conv1): GATConv(1433, 16, heads=1)\n",
            "  (conv2): GATConv(16, 7, heads=1)\n",
            ")\n"
          ]
        }
      ]
    },
    {
      "cell_type": "code",
      "source": [
        "print(model)"
      ],
      "metadata": {
        "colab": {
          "base_uri": "https://localhost:8080/"
        },
        "id": "6rQWHuN87_vu",
        "outputId": "c34f9d04-6d2c-40da-cf5c-3083397cecf7"
      },
      "execution_count": null,
      "outputs": [
        {
          "output_type": "stream",
          "name": "stdout",
          "text": [
            "GATCN(\n",
            "  (conv1): GATConv(3, 16, heads=1)\n",
            "  (conv2): GATConv(16, 6, heads=1)\n",
            ")\n"
          ]
        }
      ]
    },
    {
      "cell_type": "code",
      "source": [
        "torch.as_tensor([3])"
      ],
      "metadata": {
        "colab": {
          "base_uri": "https://localhost:8080/"
        },
        "id": "QUjdu1F1_pyc",
        "outputId": "da8757db-2571-4721-87fe-c0c42f1bc477"
      },
      "execution_count": null,
      "outputs": [
        {
          "output_type": "execute_result",
          "data": {
            "text/plain": [
              "tensor([3])"
            ]
          },
          "metadata": {},
          "execution_count": 26
        }
      ]
    },
    {
      "cell_type": "code",
      "source": [
        "data.y = torch.as_tensor([int(data.y)]*37)"
      ],
      "metadata": {
        "id": "kRyYJLnP_GOP"
      },
      "execution_count": 14,
      "outputs": []
    },
    {
      "cell_type": "code",
      "source": [
        "# train the above model\n",
        "model = gatmodel\n",
        "criterion = torch.nn.CrossEntropyLoss()  # Define loss criterion.\n",
        "optimizer = torch.optim.Adam(model.parameters(), lr=0.01, weight_decay=5e-4)  # Define optimizer.\n",
        "\n",
        "def train():\n",
        "      model.train()\n",
        "      optimizer.zero_grad()  # Clear gradients.\n",
        "      out_ne = model.forward(data.x, data.edge_index) #, return_attention_weights=True)  # Perform a single forward pass.\n",
        "      print(\"outne shape,\", np.shape(out_ne))\n",
        "      print(\"data y shape,\", np.shape(data.y))\n",
        "      loss = criterion(out_ne, data.y)\n",
        "      #loss = criterion(out[data.train_mask], data.y[data.train_mask])  # Compute the loss solely based on the training nodes.\n",
        "      loss.backward()  # Derive gradients.\n",
        "      optimizer.step()  # Update parameters based on gradients.\n",
        "      return loss, out_ne\n",
        "\n",
        "def test():\n",
        "      model.eval()\n",
        "      out = model(data.x)\n",
        "      pred = out.argmax(dim=1)  # Use the class with highest probability.\n",
        "      test_correct = pred[data.test_mask] == data.y[data.test_mask]  # Check against ground-truth labels.\n",
        "      test_acc = int(test_correct.sum()) / int(data.test_mask.sum())  # Derive ratio of correct predictions.\n",
        "      return test_acc\n",
        "\n",
        "for epoch in range(1, 201):\n",
        "    loss, out_ne = train()\n",
        "    print(f'Epoch: {epoch:03d}, Loss: {loss:.4f}')"
      ],
      "metadata": {
        "colab": {
          "base_uri": "https://localhost:8080/"
        },
        "id": "vrgJkOnIDapr",
        "outputId": "84bda8b9-46af-405b-a3b1-e3e4b5548c6a"
      },
      "execution_count": null,
      "outputs": [
        {
          "output_type": "stream",
          "name": "stdout",
          "text": [
            "outne shape, torch.Size([37, 6])\n",
            "data y shape, torch.Size([37])\n",
            "Epoch: 001, Loss: 1.8992\n",
            "outne shape, torch.Size([37, 6])\n",
            "data y shape, torch.Size([37])\n",
            "Epoch: 002, Loss: 1.7504\n",
            "outne shape, torch.Size([37, 6])\n",
            "data y shape, torch.Size([37])\n",
            "Epoch: 003, Loss: 1.6649\n",
            "outne shape, torch.Size([37, 6])\n",
            "data y shape, torch.Size([37])\n",
            "Epoch: 004, Loss: 1.6366\n",
            "outne shape, torch.Size([37, 6])\n",
            "data y shape, torch.Size([37])\n",
            "Epoch: 005, Loss: 1.4460\n",
            "outne shape, torch.Size([37, 6])\n",
            "data y shape, torch.Size([37])\n",
            "Epoch: 006, Loss: 1.3078\n",
            "outne shape, torch.Size([37, 6])\n",
            "data y shape, torch.Size([37])\n",
            "Epoch: 007, Loss: 1.2550\n",
            "outne shape, torch.Size([37, 6])\n",
            "data y shape, torch.Size([37])\n",
            "Epoch: 008, Loss: 1.2129\n",
            "outne shape, torch.Size([37, 6])\n",
            "data y shape, torch.Size([37])\n",
            "Epoch: 009, Loss: 1.1360\n",
            "outne shape, torch.Size([37, 6])\n",
            "data y shape, torch.Size([37])\n",
            "Epoch: 010, Loss: 1.0897\n",
            "outne shape, torch.Size([37, 6])\n",
            "data y shape, torch.Size([37])\n",
            "Epoch: 011, Loss: 0.8330\n",
            "outne shape, torch.Size([37, 6])\n",
            "data y shape, torch.Size([37])\n",
            "Epoch: 012, Loss: 0.8281\n",
            "outne shape, torch.Size([37, 6])\n",
            "data y shape, torch.Size([37])\n",
            "Epoch: 013, Loss: 0.7231\n",
            "outne shape, torch.Size([37, 6])\n",
            "data y shape, torch.Size([37])\n",
            "Epoch: 014, Loss: 0.6482\n",
            "outne shape, torch.Size([37, 6])\n",
            "data y shape, torch.Size([37])\n",
            "Epoch: 015, Loss: 0.6077\n",
            "outne shape, torch.Size([37, 6])\n",
            "data y shape, torch.Size([37])\n",
            "Epoch: 016, Loss: 0.5639\n",
            "outne shape, torch.Size([37, 6])\n",
            "data y shape, torch.Size([37])\n",
            "Epoch: 017, Loss: 0.5141\n",
            "outne shape, torch.Size([37, 6])\n",
            "data y shape, torch.Size([37])\n",
            "Epoch: 018, Loss: 0.4294\n",
            "outne shape, torch.Size([37, 6])\n",
            "data y shape, torch.Size([37])\n",
            "Epoch: 019, Loss: 0.3677\n",
            "outne shape, torch.Size([37, 6])\n",
            "data y shape, torch.Size([37])\n",
            "Epoch: 020, Loss: 0.2800\n",
            "outne shape, torch.Size([37, 6])\n",
            "data y shape, torch.Size([37])\n",
            "Epoch: 021, Loss: 0.2266\n",
            "outne shape, torch.Size([37, 6])\n",
            "data y shape, torch.Size([37])\n",
            "Epoch: 022, Loss: 0.1724\n",
            "outne shape, torch.Size([37, 6])\n",
            "data y shape, torch.Size([37])\n",
            "Epoch: 023, Loss: 0.1107\n",
            "outne shape, torch.Size([37, 6])\n",
            "data y shape, torch.Size([37])\n",
            "Epoch: 024, Loss: 0.1099\n",
            "outne shape, torch.Size([37, 6])\n",
            "data y shape, torch.Size([37])\n",
            "Epoch: 025, Loss: 0.1530\n",
            "outne shape, torch.Size([37, 6])\n",
            "data y shape, torch.Size([37])\n",
            "Epoch: 026, Loss: 0.0711\n",
            "outne shape, torch.Size([37, 6])\n",
            "data y shape, torch.Size([37])\n",
            "Epoch: 027, Loss: 0.0506\n",
            "outne shape, torch.Size([37, 6])\n",
            "data y shape, torch.Size([37])\n",
            "Epoch: 028, Loss: 0.0513\n",
            "outne shape, torch.Size([37, 6])\n",
            "data y shape, torch.Size([37])\n",
            "Epoch: 029, Loss: 0.0305\n",
            "outne shape, torch.Size([37, 6])\n",
            "data y shape, torch.Size([37])\n",
            "Epoch: 030, Loss: 0.0457\n",
            "outne shape, torch.Size([37, 6])\n",
            "data y shape, torch.Size([37])\n",
            "Epoch: 031, Loss: 0.0333\n",
            "outne shape, torch.Size([37, 6])\n",
            "data y shape, torch.Size([37])\n",
            "Epoch: 032, Loss: 0.0302\n",
            "outne shape, torch.Size([37, 6])\n",
            "data y shape, torch.Size([37])\n",
            "Epoch: 033, Loss: 0.0230\n",
            "outne shape, torch.Size([37, 6])\n",
            "data y shape, torch.Size([37])\n",
            "Epoch: 034, Loss: 0.0148\n",
            "outne shape, torch.Size([37, 6])\n",
            "data y shape, torch.Size([37])\n",
            "Epoch: 035, Loss: 0.0166\n",
            "outne shape, torch.Size([37, 6])\n",
            "data y shape, torch.Size([37])\n",
            "Epoch: 036, Loss: 0.0152\n",
            "outne shape, torch.Size([37, 6])\n",
            "data y shape, torch.Size([37])\n",
            "Epoch: 037, Loss: 0.0162\n",
            "outne shape, torch.Size([37, 6])\n",
            "data y shape, torch.Size([37])\n",
            "Epoch: 038, Loss: 0.0095\n",
            "outne shape, torch.Size([37, 6])\n",
            "data y shape, torch.Size([37])\n",
            "Epoch: 039, Loss: 0.0107\n",
            "outne shape, torch.Size([37, 6])\n",
            "data y shape, torch.Size([37])\n",
            "Epoch: 040, Loss: 0.0080\n",
            "outne shape, torch.Size([37, 6])\n",
            "data y shape, torch.Size([37])\n",
            "Epoch: 041, Loss: 0.0051\n",
            "outne shape, torch.Size([37, 6])\n",
            "data y shape, torch.Size([37])\n",
            "Epoch: 042, Loss: 0.0059\n",
            "outne shape, torch.Size([37, 6])\n",
            "data y shape, torch.Size([37])\n",
            "Epoch: 043, Loss: 0.0036\n",
            "outne shape, torch.Size([37, 6])\n",
            "data y shape, torch.Size([37])\n",
            "Epoch: 044, Loss: 0.0045\n",
            "outne shape, torch.Size([37, 6])\n",
            "data y shape, torch.Size([37])\n",
            "Epoch: 045, Loss: 0.0062\n",
            "outne shape, torch.Size([37, 6])\n",
            "data y shape, torch.Size([37])\n",
            "Epoch: 046, Loss: 0.0022\n",
            "outne shape, torch.Size([37, 6])\n",
            "data y shape, torch.Size([37])\n",
            "Epoch: 047, Loss: 0.0051\n",
            "outne shape, torch.Size([37, 6])\n",
            "data y shape, torch.Size([37])\n",
            "Epoch: 048, Loss: 0.0030\n",
            "outne shape, torch.Size([37, 6])\n",
            "data y shape, torch.Size([37])\n",
            "Epoch: 049, Loss: 0.0041\n",
            "outne shape, torch.Size([37, 6])\n",
            "data y shape, torch.Size([37])\n",
            "Epoch: 050, Loss: 0.0062\n",
            "outne shape, torch.Size([37, 6])\n",
            "data y shape, torch.Size([37])\n",
            "Epoch: 051, Loss: 0.0017\n",
            "outne shape, torch.Size([37, 6])\n",
            "data y shape, torch.Size([37])\n",
            "Epoch: 052, Loss: 0.0030\n",
            "outne shape, torch.Size([37, 6])\n",
            "data y shape, torch.Size([37])\n",
            "Epoch: 053, Loss: 0.0044\n",
            "outne shape, torch.Size([37, 6])\n",
            "data y shape, torch.Size([37])\n",
            "Epoch: 054, Loss: 0.0027\n",
            "outne shape, torch.Size([37, 6])\n",
            "data y shape, torch.Size([37])\n",
            "Epoch: 055, Loss: 0.0062\n",
            "outne shape, torch.Size([37, 6])\n",
            "data y shape, torch.Size([37])\n",
            "Epoch: 056, Loss: 0.0060\n",
            "outne shape, torch.Size([37, 6])\n",
            "data y shape, torch.Size([37])\n",
            "Epoch: 057, Loss: 0.0029\n",
            "outne shape, torch.Size([37, 6])\n",
            "data y shape, torch.Size([37])\n",
            "Epoch: 058, Loss: 0.0014\n",
            "outne shape, torch.Size([37, 6])\n",
            "data y shape, torch.Size([37])\n",
            "Epoch: 059, Loss: 0.0042\n",
            "outne shape, torch.Size([37, 6])\n",
            "data y shape, torch.Size([37])\n",
            "Epoch: 060, Loss: 0.0052\n",
            "outne shape, torch.Size([37, 6])\n",
            "data y shape, torch.Size([37])\n",
            "Epoch: 061, Loss: 0.0026\n",
            "outne shape, torch.Size([37, 6])\n",
            "data y shape, torch.Size([37])\n",
            "Epoch: 062, Loss: 0.0032\n",
            "outne shape, torch.Size([37, 6])\n",
            "data y shape, torch.Size([37])\n",
            "Epoch: 063, Loss: 0.0031\n",
            "outne shape, torch.Size([37, 6])\n",
            "data y shape, torch.Size([37])\n",
            "Epoch: 064, Loss: 0.0025\n",
            "outne shape, torch.Size([37, 6])\n",
            "data y shape, torch.Size([37])\n",
            "Epoch: 065, Loss: 0.0045\n",
            "outne shape, torch.Size([37, 6])\n",
            "data y shape, torch.Size([37])\n",
            "Epoch: 066, Loss: 0.0032\n",
            "outne shape, torch.Size([37, 6])\n",
            "data y shape, torch.Size([37])\n",
            "Epoch: 067, Loss: 0.0011\n",
            "outne shape, torch.Size([37, 6])\n",
            "data y shape, torch.Size([37])\n",
            "Epoch: 068, Loss: 0.0031\n",
            "outne shape, torch.Size([37, 6])\n",
            "data y shape, torch.Size([37])\n",
            "Epoch: 069, Loss: 0.0014\n",
            "outne shape, torch.Size([37, 6])\n",
            "data y shape, torch.Size([37])\n",
            "Epoch: 070, Loss: 0.0038\n",
            "outne shape, torch.Size([37, 6])\n",
            "data y shape, torch.Size([37])\n",
            "Epoch: 071, Loss: 0.0019\n",
            "outne shape, torch.Size([37, 6])\n",
            "data y shape, torch.Size([37])\n",
            "Epoch: 072, Loss: 0.0014\n",
            "outne shape, torch.Size([37, 6])\n",
            "data y shape, torch.Size([37])\n",
            "Epoch: 073, Loss: 0.0012\n",
            "outne shape, torch.Size([37, 6])\n",
            "data y shape, torch.Size([37])\n",
            "Epoch: 074, Loss: 0.0013\n",
            "outne shape, torch.Size([37, 6])\n",
            "data y shape, torch.Size([37])\n",
            "Epoch: 075, Loss: 0.0018\n",
            "outne shape, torch.Size([37, 6])\n",
            "data y shape, torch.Size([37])\n",
            "Epoch: 076, Loss: 0.0029\n",
            "outne shape, torch.Size([37, 6])\n",
            "data y shape, torch.Size([37])\n",
            "Epoch: 077, Loss: 0.0017\n",
            "outne shape, torch.Size([37, 6])\n",
            "data y shape, torch.Size([37])\n",
            "Epoch: 078, Loss: 0.0028\n",
            "outne shape, torch.Size([37, 6])\n",
            "data y shape, torch.Size([37])\n",
            "Epoch: 079, Loss: 0.0013\n",
            "outne shape, torch.Size([37, 6])\n",
            "data y shape, torch.Size([37])\n",
            "Epoch: 080, Loss: 0.0018\n",
            "outne shape, torch.Size([37, 6])\n",
            "data y shape, torch.Size([37])\n",
            "Epoch: 081, Loss: 0.0038\n",
            "outne shape, torch.Size([37, 6])\n",
            "data y shape, torch.Size([37])\n",
            "Epoch: 082, Loss: 0.0025\n",
            "outne shape, torch.Size([37, 6])\n",
            "data y shape, torch.Size([37])\n",
            "Epoch: 083, Loss: 0.0021\n",
            "outne shape, torch.Size([37, 6])\n",
            "data y shape, torch.Size([37])\n",
            "Epoch: 084, Loss: 0.0044\n",
            "outne shape, torch.Size([37, 6])\n",
            "data y shape, torch.Size([37])\n",
            "Epoch: 085, Loss: 0.0020\n",
            "outne shape, torch.Size([37, 6])\n",
            "data y shape, torch.Size([37])\n",
            "Epoch: 086, Loss: 0.0013\n",
            "outne shape, torch.Size([37, 6])\n",
            "data y shape, torch.Size([37])\n",
            "Epoch: 087, Loss: 0.0019\n",
            "outne shape, torch.Size([37, 6])\n",
            "data y shape, torch.Size([37])\n",
            "Epoch: 088, Loss: 0.0024\n",
            "outne shape, torch.Size([37, 6])\n",
            "data y shape, torch.Size([37])\n",
            "Epoch: 089, Loss: 0.0038\n",
            "outne shape, torch.Size([37, 6])\n",
            "data y shape, torch.Size([37])\n",
            "Epoch: 090, Loss: 0.0012\n",
            "outne shape, torch.Size([37, 6])\n",
            "data y shape, torch.Size([37])\n",
            "Epoch: 091, Loss: 0.0013\n",
            "outne shape, torch.Size([37, 6])\n",
            "data y shape, torch.Size([37])\n",
            "Epoch: 092, Loss: 0.0015\n",
            "outne shape, torch.Size([37, 6])\n",
            "data y shape, torch.Size([37])\n",
            "Epoch: 093, Loss: 0.0016\n",
            "outne shape, torch.Size([37, 6])\n",
            "data y shape, torch.Size([37])\n",
            "Epoch: 094, Loss: 0.0012\n",
            "outne shape, torch.Size([37, 6])\n",
            "data y shape, torch.Size([37])\n",
            "Epoch: 095, Loss: 0.0008\n",
            "outne shape, torch.Size([37, 6])\n",
            "data y shape, torch.Size([37])\n",
            "Epoch: 096, Loss: 0.0020\n",
            "outne shape, torch.Size([37, 6])\n",
            "data y shape, torch.Size([37])\n",
            "Epoch: 097, Loss: 0.0046\n",
            "outne shape, torch.Size([37, 6])\n",
            "data y shape, torch.Size([37])\n",
            "Epoch: 098, Loss: 0.0034\n",
            "outne shape, torch.Size([37, 6])\n",
            "data y shape, torch.Size([37])\n",
            "Epoch: 099, Loss: 0.0012\n",
            "outne shape, torch.Size([37, 6])\n",
            "data y shape, torch.Size([37])\n",
            "Epoch: 100, Loss: 0.0014\n",
            "outne shape, torch.Size([37, 6])\n",
            "data y shape, torch.Size([37])\n",
            "Epoch: 101, Loss: 0.0014\n",
            "outne shape, torch.Size([37, 6])\n",
            "data y shape, torch.Size([37])\n",
            "Epoch: 102, Loss: 0.0024\n",
            "outne shape, torch.Size([37, 6])\n",
            "data y shape, torch.Size([37])\n",
            "Epoch: 103, Loss: 0.0008\n",
            "outne shape, torch.Size([37, 6])\n",
            "data y shape, torch.Size([37])\n",
            "Epoch: 104, Loss: 0.0013\n",
            "outne shape, torch.Size([37, 6])\n",
            "data y shape, torch.Size([37])\n",
            "Epoch: 105, Loss: 0.0009\n",
            "outne shape, torch.Size([37, 6])\n",
            "data y shape, torch.Size([37])\n",
            "Epoch: 106, Loss: 0.0043\n",
            "outne shape, torch.Size([37, 6])\n",
            "data y shape, torch.Size([37])\n",
            "Epoch: 107, Loss: 0.0014\n",
            "outne shape, torch.Size([37, 6])\n",
            "data y shape, torch.Size([37])\n",
            "Epoch: 108, Loss: 0.0009\n",
            "outne shape, torch.Size([37, 6])\n",
            "data y shape, torch.Size([37])\n",
            "Epoch: 109, Loss: 0.0008\n",
            "outne shape, torch.Size([37, 6])\n",
            "data y shape, torch.Size([37])\n",
            "Epoch: 110, Loss: 0.0014\n",
            "outne shape, torch.Size([37, 6])\n",
            "data y shape, torch.Size([37])\n",
            "Epoch: 111, Loss: 0.0008\n",
            "outne shape, torch.Size([37, 6])\n",
            "data y shape, torch.Size([37])\n",
            "Epoch: 112, Loss: 0.0013\n",
            "outne shape, torch.Size([37, 6])\n",
            "data y shape, torch.Size([37])\n",
            "Epoch: 113, Loss: 0.0013\n",
            "outne shape, torch.Size([37, 6])\n",
            "data y shape, torch.Size([37])\n",
            "Epoch: 114, Loss: 0.0010\n",
            "outne shape, torch.Size([37, 6])\n",
            "data y shape, torch.Size([37])\n",
            "Epoch: 115, Loss: 0.0023\n",
            "outne shape, torch.Size([37, 6])\n",
            "data y shape, torch.Size([37])\n",
            "Epoch: 116, Loss: 0.0020\n",
            "outne shape, torch.Size([37, 6])\n",
            "data y shape, torch.Size([37])\n",
            "Epoch: 117, Loss: 0.0007\n",
            "outne shape, torch.Size([37, 6])\n",
            "data y shape, torch.Size([37])\n",
            "Epoch: 118, Loss: 0.0036\n",
            "outne shape, torch.Size([37, 6])\n",
            "data y shape, torch.Size([37])\n",
            "Epoch: 119, Loss: 0.0024\n",
            "outne shape, torch.Size([37, 6])\n",
            "data y shape, torch.Size([37])\n",
            "Epoch: 120, Loss: 0.0029\n",
            "outne shape, torch.Size([37, 6])\n",
            "data y shape, torch.Size([37])\n",
            "Epoch: 121, Loss: 0.0016\n",
            "outne shape, torch.Size([37, 6])\n",
            "data y shape, torch.Size([37])\n",
            "Epoch: 122, Loss: 0.0005\n",
            "outne shape, torch.Size([37, 6])\n",
            "data y shape, torch.Size([37])\n",
            "Epoch: 123, Loss: 0.0007\n",
            "outne shape, torch.Size([37, 6])\n",
            "data y shape, torch.Size([37])\n",
            "Epoch: 124, Loss: 0.0006\n",
            "outne shape, torch.Size([37, 6])\n",
            "data y shape, torch.Size([37])\n",
            "Epoch: 125, Loss: 0.0016\n",
            "outne shape, torch.Size([37, 6])\n",
            "data y shape, torch.Size([37])\n",
            "Epoch: 126, Loss: 0.0007\n",
            "outne shape, torch.Size([37, 6])\n",
            "data y shape, torch.Size([37])\n",
            "Epoch: 127, Loss: 0.0008\n",
            "outne shape, torch.Size([37, 6])\n",
            "data y shape, torch.Size([37])\n",
            "Epoch: 128, Loss: 0.0017\n",
            "outne shape, torch.Size([37, 6])\n",
            "data y shape, torch.Size([37])\n",
            "Epoch: 129, Loss: 0.0008\n",
            "outne shape, torch.Size([37, 6])\n",
            "data y shape, torch.Size([37])\n",
            "Epoch: 130, Loss: 0.0015\n",
            "outne shape, torch.Size([37, 6])\n",
            "data y shape, torch.Size([37])\n",
            "Epoch: 131, Loss: 0.0027\n",
            "outne shape, torch.Size([37, 6])\n",
            "data y shape, torch.Size([37])\n",
            "Epoch: 132, Loss: 0.0013\n",
            "outne shape, torch.Size([37, 6])\n",
            "data y shape, torch.Size([37])\n",
            "Epoch: 133, Loss: 0.0013\n",
            "outne shape, torch.Size([37, 6])\n",
            "data y shape, torch.Size([37])\n",
            "Epoch: 134, Loss: 0.0019\n",
            "outne shape, torch.Size([37, 6])\n",
            "data y shape, torch.Size([37])\n",
            "Epoch: 135, Loss: 0.0010\n",
            "outne shape, torch.Size([37, 6])\n",
            "data y shape, torch.Size([37])\n",
            "Epoch: 136, Loss: 0.0012\n",
            "outne shape, torch.Size([37, 6])\n",
            "data y shape, torch.Size([37])\n",
            "Epoch: 137, Loss: 0.0007\n",
            "outne shape, torch.Size([37, 6])\n",
            "data y shape, torch.Size([37])\n",
            "Epoch: 138, Loss: 0.0010\n",
            "outne shape, torch.Size([37, 6])\n",
            "data y shape, torch.Size([37])\n",
            "Epoch: 139, Loss: 0.0010\n",
            "outne shape, torch.Size([37, 6])\n",
            "data y shape, torch.Size([37])\n",
            "Epoch: 140, Loss: 0.0006\n",
            "outne shape, torch.Size([37, 6])\n",
            "data y shape, torch.Size([37])\n",
            "Epoch: 141, Loss: 0.0007\n",
            "outne shape, torch.Size([37, 6])\n",
            "data y shape, torch.Size([37])\n",
            "Epoch: 142, Loss: 0.0014\n",
            "outne shape, torch.Size([37, 6])\n",
            "data y shape, torch.Size([37])\n",
            "Epoch: 143, Loss: 0.0026\n",
            "outne shape, torch.Size([37, 6])\n",
            "data y shape, torch.Size([37])\n",
            "Epoch: 144, Loss: 0.0003\n",
            "outne shape, torch.Size([37, 6])\n",
            "data y shape, torch.Size([37])\n",
            "Epoch: 145, Loss: 0.0006\n",
            "outne shape, torch.Size([37, 6])\n",
            "data y shape, torch.Size([37])\n",
            "Epoch: 146, Loss: 0.0008\n",
            "outne shape, torch.Size([37, 6])\n",
            "data y shape, torch.Size([37])\n",
            "Epoch: 147, Loss: 0.0026\n",
            "outne shape, torch.Size([37, 6])\n",
            "data y shape, torch.Size([37])\n",
            "Epoch: 148, Loss: 0.0003\n",
            "outne shape, torch.Size([37, 6])\n",
            "data y shape, torch.Size([37])\n",
            "Epoch: 149, Loss: 0.0010\n",
            "outne shape, torch.Size([37, 6])\n",
            "data y shape, torch.Size([37])\n",
            "Epoch: 150, Loss: 0.0020\n",
            "outne shape, torch.Size([37, 6])\n",
            "data y shape, torch.Size([37])\n",
            "Epoch: 151, Loss: 0.0018\n",
            "outne shape, torch.Size([37, 6])\n",
            "data y shape, torch.Size([37])\n",
            "Epoch: 152, Loss: 0.0016\n",
            "outne shape, torch.Size([37, 6])\n",
            "data y shape, torch.Size([37])\n",
            "Epoch: 153, Loss: 0.0007\n",
            "outne shape, torch.Size([37, 6])\n",
            "data y shape, torch.Size([37])\n",
            "Epoch: 154, Loss: 0.0008\n",
            "outne shape, torch.Size([37, 6])\n",
            "data y shape, torch.Size([37])\n",
            "Epoch: 155, Loss: 0.0009\n",
            "outne shape, torch.Size([37, 6])\n",
            "data y shape, torch.Size([37])\n",
            "Epoch: 156, Loss: 0.0017\n",
            "outne shape, torch.Size([37, 6])\n",
            "data y shape, torch.Size([37])\n",
            "Epoch: 157, Loss: 0.0004\n",
            "outne shape, torch.Size([37, 6])\n",
            "data y shape, torch.Size([37])\n",
            "Epoch: 158, Loss: 0.0014\n",
            "outne shape, torch.Size([37, 6])\n",
            "data y shape, torch.Size([37])\n",
            "Epoch: 159, Loss: 0.0017\n",
            "outne shape, torch.Size([37, 6])\n",
            "data y shape, torch.Size([37])\n",
            "Epoch: 160, Loss: 0.0004\n",
            "outne shape, torch.Size([37, 6])\n",
            "data y shape, torch.Size([37])\n",
            "Epoch: 161, Loss: 0.0008\n",
            "outne shape, torch.Size([37, 6])\n",
            "data y shape, torch.Size([37])\n",
            "Epoch: 162, Loss: 0.0005\n",
            "outne shape, torch.Size([37, 6])\n",
            "data y shape, torch.Size([37])\n",
            "Epoch: 163, Loss: 0.0006\n",
            "outne shape, torch.Size([37, 6])\n",
            "data y shape, torch.Size([37])\n",
            "Epoch: 164, Loss: 0.0041\n",
            "outne shape, torch.Size([37, 6])\n",
            "data y shape, torch.Size([37])\n",
            "Epoch: 165, Loss: 0.0008\n",
            "outne shape, torch.Size([37, 6])\n",
            "data y shape, torch.Size([37])\n",
            "Epoch: 166, Loss: 0.0009\n",
            "outne shape, torch.Size([37, 6])\n",
            "data y shape, torch.Size([37])\n",
            "Epoch: 167, Loss: 0.0033\n",
            "outne shape, torch.Size([37, 6])\n",
            "data y shape, torch.Size([37])\n",
            "Epoch: 168, Loss: 0.0003\n",
            "outne shape, torch.Size([37, 6])\n",
            "data y shape, torch.Size([37])\n",
            "Epoch: 169, Loss: 0.0007\n",
            "outne shape, torch.Size([37, 6])\n",
            "data y shape, torch.Size([37])\n",
            "Epoch: 170, Loss: 0.0020\n",
            "outne shape, torch.Size([37, 6])\n",
            "data y shape, torch.Size([37])\n",
            "Epoch: 171, Loss: 0.0014\n",
            "outne shape, torch.Size([37, 6])\n",
            "data y shape, torch.Size([37])\n",
            "Epoch: 172, Loss: 0.0018\n",
            "outne shape, torch.Size([37, 6])\n",
            "data y shape, torch.Size([37])\n",
            "Epoch: 173, Loss: 0.0014\n",
            "outne shape, torch.Size([37, 6])\n",
            "data y shape, torch.Size([37])\n",
            "Epoch: 174, Loss: 0.0015\n",
            "outne shape, torch.Size([37, 6])\n",
            "data y shape, torch.Size([37])\n",
            "Epoch: 175, Loss: 0.0008\n",
            "outne shape, torch.Size([37, 6])\n",
            "data y shape, torch.Size([37])\n",
            "Epoch: 176, Loss: 0.0011\n",
            "outne shape, torch.Size([37, 6])\n",
            "data y shape, torch.Size([37])\n",
            "Epoch: 177, Loss: 0.0011\n",
            "outne shape, torch.Size([37, 6])\n",
            "data y shape, torch.Size([37])\n",
            "Epoch: 178, Loss: 0.0014\n",
            "outne shape, torch.Size([37, 6])\n",
            "data y shape, torch.Size([37])\n",
            "Epoch: 179, Loss: 0.0007\n",
            "outne shape, torch.Size([37, 6])\n",
            "data y shape, torch.Size([37])\n",
            "Epoch: 180, Loss: 0.0027\n",
            "outne shape, torch.Size([37, 6])\n",
            "data y shape, torch.Size([37])\n",
            "Epoch: 181, Loss: 0.0023\n",
            "outne shape, torch.Size([37, 6])\n",
            "data y shape, torch.Size([37])\n",
            "Epoch: 182, Loss: 0.0005\n",
            "outne shape, torch.Size([37, 6])\n",
            "data y shape, torch.Size([37])\n",
            "Epoch: 183, Loss: 0.0006\n",
            "outne shape, torch.Size([37, 6])\n",
            "data y shape, torch.Size([37])\n",
            "Epoch: 184, Loss: 0.0037\n",
            "outne shape, torch.Size([37, 6])\n",
            "data y shape, torch.Size([37])\n",
            "Epoch: 185, Loss: 0.0019\n",
            "outne shape, torch.Size([37, 6])\n",
            "data y shape, torch.Size([37])\n",
            "Epoch: 186, Loss: 0.0012\n",
            "outne shape, torch.Size([37, 6])\n",
            "data y shape, torch.Size([37])\n",
            "Epoch: 187, Loss: 0.0025\n",
            "outne shape, torch.Size([37, 6])\n",
            "data y shape, torch.Size([37])\n",
            "Epoch: 188, Loss: 0.0007\n",
            "outne shape, torch.Size([37, 6])\n",
            "data y shape, torch.Size([37])\n",
            "Epoch: 189, Loss: 0.0026\n",
            "outne shape, torch.Size([37, 6])\n",
            "data y shape, torch.Size([37])\n",
            "Epoch: 190, Loss: 0.0004\n",
            "outne shape, torch.Size([37, 6])\n",
            "data y shape, torch.Size([37])\n",
            "Epoch: 191, Loss: 0.0004\n",
            "outne shape, torch.Size([37, 6])\n",
            "data y shape, torch.Size([37])\n",
            "Epoch: 192, Loss: 0.0002\n",
            "outne shape, torch.Size([37, 6])\n",
            "data y shape, torch.Size([37])\n",
            "Epoch: 193, Loss: 0.0026\n",
            "outne shape, torch.Size([37, 6])\n",
            "data y shape, torch.Size([37])\n",
            "Epoch: 194, Loss: 0.0013\n",
            "outne shape, torch.Size([37, 6])\n",
            "data y shape, torch.Size([37])\n",
            "Epoch: 195, Loss: 0.0005\n",
            "outne shape, torch.Size([37, 6])\n",
            "data y shape, torch.Size([37])\n",
            "Epoch: 196, Loss: 0.0033\n",
            "outne shape, torch.Size([37, 6])\n",
            "data y shape, torch.Size([37])\n",
            "Epoch: 197, Loss: 0.0003\n",
            "outne shape, torch.Size([37, 6])\n",
            "data y shape, torch.Size([37])\n",
            "Epoch: 198, Loss: 0.0006\n",
            "outne shape, torch.Size([37, 6])\n",
            "data y shape, torch.Size([37])\n",
            "Epoch: 199, Loss: 0.0010\n",
            "outne shape, torch.Size([37, 6])\n",
            "data y shape, torch.Size([37])\n",
            "Epoch: 200, Loss: 0.0005\n"
          ]
        }
      ]
    },
    {
      "cell_type": "code",
      "source": [
        "np.shape(data.x)"
      ],
      "metadata": {
        "colab": {
          "base_uri": "https://localhost:8080/"
        },
        "id": "cilmp8ZYNMGt",
        "outputId": "77a6f027-a8ef-49c6-e0f8-31b05e710a38"
      },
      "execution_count": 11,
      "outputs": [
        {
          "output_type": "execute_result",
          "data": {
            "text/plain": [
              "torch.Size([37, 3])"
            ]
          },
          "metadata": {},
          "execution_count": 11
        }
      ]
    },
    {
      "cell_type": "code",
      "source": [
        "np.shape(node_embeddings)"
      ],
      "metadata": {
        "colab": {
          "base_uri": "https://localhost:8080/"
        },
        "id": "myTtzax7NOla",
        "outputId": "e93ce1f8-4e0b-4dda-b1d6-b6d1d6774d6c"
      },
      "execution_count": 12,
      "outputs": [
        {
          "output_type": "execute_result",
          "data": {
            "text/plain": [
              "(37, 20)"
            ]
          },
          "metadata": {},
          "execution_count": 12
        }
      ]
    },
    {
      "cell_type": "code",
      "source": [
        "data.x = torch.as_tensor(node_embeddings)"
      ],
      "metadata": {
        "id": "jRy3fqdZN03Z"
      },
      "execution_count": 15,
      "outputs": []
    },
    {
      "cell_type": "code",
      "source": [
        "class GATCN2(torch.nn.Module):\n",
        "  def __init__(self, hidden_channels):\n",
        "    super().__init__()\n",
        "    torch.manual_seed(123)\n",
        "    self.conv1 =  GATConv(20, hidden_channels, return_attention_weights=True)\n",
        "    self.conv2 = GATConv(hidden_channels, dataset.num_classes)\n",
        "  def forward(self, x, edge_index):\n",
        "        x = self.conv1(x, edge_index)\n",
        "        x = x.relu()\n",
        "        x = F.dropout(x, p=0.5, training=self.training)\n",
        "        x = self.conv2(x, edge_index)\n",
        "        return x\n",
        "\n",
        "gatmodel2 = GATCN2(hidden_channels=16)\n",
        "print(gatmodel2)"
      ],
      "metadata": {
        "colab": {
          "base_uri": "https://localhost:8080/"
        },
        "id": "9Ou15mJrOWvP",
        "outputId": "89f9798c-6093-475d-cc1e-c84408dacf11"
      },
      "execution_count": 17,
      "outputs": [
        {
          "output_type": "stream",
          "name": "stdout",
          "text": [
            "GATCN2(\n",
            "  (conv1): GATConv(20, 16, heads=1)\n",
            "  (conv2): GATConv(16, 6, heads=1)\n",
            ")\n"
          ]
        }
      ]
    },
    {
      "cell_type": "code",
      "source": [
        "# now perform on the node embedding (From node2vec)\n",
        "\n",
        "# train the above model\n",
        "model = gatmodel2\n",
        "criterion = torch.nn.CrossEntropyLoss()  # Define loss criterion.\n",
        "optimizer = torch.optim.Adam(model.parameters(), lr=0.01, weight_decay=5e-4)  # Define optimizer.\n",
        "\n",
        "def train():\n",
        "      model.train()\n",
        "      optimizer.zero_grad()  # Clear gradients.\n",
        "      out_ne = model.forward(data.x, data.edge_index) #, return_attention_weights=True)  # Perform a single forward pass.\n",
        "      loss = criterion(out_ne, data.y)\n",
        "      #loss = criterion(out[data.train_mask], data.y[data.train_mask])  # Compute the loss solely based on the training nodes.\n",
        "      loss.backward()  # Derive gradients.\n",
        "      optimizer.step()  # Update parameters based on gradients.\n",
        "      return loss, out_ne\n",
        "\n",
        "def test():\n",
        "      model.eval()\n",
        "      out = model(data.x)\n",
        "      pred = out.argmax(dim=1)  # Use the class with highest probability.\n",
        "      test_correct = pred[data.test_mask] == data.y[data.test_mask]  # Check against ground-truth labels.\n",
        "      test_acc = int(test_correct.sum()) / int(data.test_mask.sum())  # Derive ratio of correct predictions.\n",
        "      return test_acc\n",
        "\n",
        "out_nes = []\n",
        "for epoch in range(1, 201):\n",
        "    loss, out_ne = train()\n",
        "    # experiment 2: save each node embedding at timestep\n",
        "    out_nes.append(out_ne)\n",
        "    print(f'Epoch: {epoch:03d}, Loss: {loss:.4f}')\n",
        "# evaluate node embedding with similarity function from grakel ?  what is the effect of feeding back to grakel kernel?\n",
        "\n"
      ],
      "metadata": {
        "id": "xUK5uK13DyDo",
        "colab": {
          "base_uri": "https://localhost:8080/"
        },
        "outputId": "2c4467c4-dfd7-4306-eb64-edab6750e391"
      },
      "execution_count": 18,
      "outputs": [
        {
          "output_type": "stream",
          "name": "stdout",
          "text": [
            "Epoch: 001, Loss: 1.6796\n",
            "Epoch: 002, Loss: 1.3496\n",
            "Epoch: 003, Loss: 1.1813\n",
            "Epoch: 004, Loss: 0.8140\n",
            "Epoch: 005, Loss: 0.6732\n",
            "Epoch: 006, Loss: 0.5477\n",
            "Epoch: 007, Loss: 0.3397\n",
            "Epoch: 008, Loss: 0.2560\n",
            "Epoch: 009, Loss: 0.1266\n",
            "Epoch: 010, Loss: 0.1240\n",
            "Epoch: 011, Loss: 0.0871\n",
            "Epoch: 012, Loss: 0.0527\n",
            "Epoch: 013, Loss: 0.0424\n",
            "Epoch: 014, Loss: 0.0245\n",
            "Epoch: 015, Loss: 0.0460\n",
            "Epoch: 016, Loss: 0.0189\n",
            "Epoch: 017, Loss: 0.0251\n",
            "Epoch: 018, Loss: 0.0231\n",
            "Epoch: 019, Loss: 0.0007\n",
            "Epoch: 020, Loss: 0.0070\n",
            "Epoch: 021, Loss: 0.0039\n",
            "Epoch: 022, Loss: 0.0069\n",
            "Epoch: 023, Loss: 0.0122\n",
            "Epoch: 024, Loss: 0.0038\n",
            "Epoch: 025, Loss: 0.0037\n",
            "Epoch: 026, Loss: 0.0008\n",
            "Epoch: 027, Loss: 0.0015\n",
            "Epoch: 028, Loss: 0.0010\n",
            "Epoch: 029, Loss: 0.0048\n",
            "Epoch: 030, Loss: 0.0021\n",
            "Epoch: 031, Loss: 0.0006\n",
            "Epoch: 032, Loss: 0.0021\n",
            "Epoch: 033, Loss: 0.0016\n",
            "Epoch: 034, Loss: 0.0088\n",
            "Epoch: 035, Loss: 0.0002\n",
            "Epoch: 036, Loss: 0.0013\n",
            "Epoch: 037, Loss: 0.0005\n",
            "Epoch: 038, Loss: 0.0012\n",
            "Epoch: 039, Loss: 0.0002\n",
            "Epoch: 040, Loss: 0.0020\n",
            "Epoch: 041, Loss: 0.0003\n",
            "Epoch: 042, Loss: 0.0019\n",
            "Epoch: 043, Loss: 0.0003\n",
            "Epoch: 044, Loss: 0.0012\n",
            "Epoch: 045, Loss: 0.0004\n",
            "Epoch: 046, Loss: 0.0010\n",
            "Epoch: 047, Loss: 0.0003\n",
            "Epoch: 048, Loss: 0.0000\n",
            "Epoch: 049, Loss: 0.0006\n",
            "Epoch: 050, Loss: 0.0009\n",
            "Epoch: 051, Loss: 0.0001\n",
            "Epoch: 052, Loss: 0.0000\n",
            "Epoch: 053, Loss: 0.0004\n",
            "Epoch: 054, Loss: 0.0037\n",
            "Epoch: 055, Loss: 0.0006\n",
            "Epoch: 056, Loss: 0.0013\n",
            "Epoch: 057, Loss: 0.0002\n",
            "Epoch: 058, Loss: 0.0004\n",
            "Epoch: 059, Loss: 0.0001\n",
            "Epoch: 060, Loss: 0.0001\n",
            "Epoch: 061, Loss: 0.0001\n",
            "Epoch: 062, Loss: 0.0001\n",
            "Epoch: 063, Loss: 0.0008\n",
            "Epoch: 064, Loss: 0.0005\n",
            "Epoch: 065, Loss: 0.0003\n",
            "Epoch: 066, Loss: 0.0023\n",
            "Epoch: 067, Loss: 0.0053\n",
            "Epoch: 068, Loss: 0.0001\n",
            "Epoch: 069, Loss: 0.0004\n",
            "Epoch: 070, Loss: 0.0008\n",
            "Epoch: 071, Loss: 0.0007\n",
            "Epoch: 072, Loss: 0.0004\n",
            "Epoch: 073, Loss: 0.0004\n",
            "Epoch: 074, Loss: 0.0002\n",
            "Epoch: 075, Loss: 0.0003\n",
            "Epoch: 076, Loss: 0.0003\n",
            "Epoch: 077, Loss: 0.0001\n",
            "Epoch: 078, Loss: 0.0011\n",
            "Epoch: 079, Loss: 0.0004\n",
            "Epoch: 080, Loss: 0.0001\n",
            "Epoch: 081, Loss: 0.0004\n",
            "Epoch: 082, Loss: 0.0015\n",
            "Epoch: 083, Loss: 0.0007\n",
            "Epoch: 084, Loss: 0.0005\n",
            "Epoch: 085, Loss: 0.0001\n",
            "Epoch: 086, Loss: 0.0000\n",
            "Epoch: 087, Loss: 0.0004\n",
            "Epoch: 088, Loss: 0.0002\n",
            "Epoch: 089, Loss: 0.0000\n",
            "Epoch: 090, Loss: 0.0001\n",
            "Epoch: 091, Loss: 0.0008\n",
            "Epoch: 092, Loss: 0.0002\n",
            "Epoch: 093, Loss: 0.0004\n",
            "Epoch: 094, Loss: 0.0001\n",
            "Epoch: 095, Loss: 0.0000\n",
            "Epoch: 096, Loss: 0.0007\n",
            "Epoch: 097, Loss: 0.0036\n",
            "Epoch: 098, Loss: 0.0000\n",
            "Epoch: 099, Loss: 0.0001\n",
            "Epoch: 100, Loss: 0.0005\n",
            "Epoch: 101, Loss: 0.0001\n",
            "Epoch: 102, Loss: 0.0006\n",
            "Epoch: 103, Loss: 0.0001\n",
            "Epoch: 104, Loss: 0.0008\n",
            "Epoch: 105, Loss: 0.0002\n",
            "Epoch: 106, Loss: 0.0000\n",
            "Epoch: 107, Loss: 0.0018\n",
            "Epoch: 108, Loss: 0.0001\n",
            "Epoch: 109, Loss: 0.0006\n",
            "Epoch: 110, Loss: 0.0005\n",
            "Epoch: 111, Loss: 0.0021\n",
            "Epoch: 112, Loss: 0.0004\n",
            "Epoch: 113, Loss: 0.0001\n",
            "Epoch: 114, Loss: 0.0001\n",
            "Epoch: 115, Loss: 0.0001\n",
            "Epoch: 116, Loss: 0.0001\n",
            "Epoch: 117, Loss: 0.0004\n",
            "Epoch: 118, Loss: 0.0001\n",
            "Epoch: 119, Loss: 0.0002\n",
            "Epoch: 120, Loss: 0.0001\n",
            "Epoch: 121, Loss: 0.0005\n",
            "Epoch: 122, Loss: 0.0011\n",
            "Epoch: 123, Loss: 0.0019\n",
            "Epoch: 124, Loss: 0.0001\n",
            "Epoch: 125, Loss: 0.0016\n",
            "Epoch: 126, Loss: 0.0002\n",
            "Epoch: 127, Loss: 0.0009\n",
            "Epoch: 128, Loss: 0.0000\n",
            "Epoch: 129, Loss: 0.0000\n",
            "Epoch: 130, Loss: 0.0009\n",
            "Epoch: 131, Loss: 0.0001\n",
            "Epoch: 132, Loss: 0.0000\n",
            "Epoch: 133, Loss: 0.0000\n",
            "Epoch: 134, Loss: 0.0000\n",
            "Epoch: 135, Loss: 0.0004\n",
            "Epoch: 136, Loss: 0.0000\n",
            "Epoch: 137, Loss: 0.0001\n",
            "Epoch: 138, Loss: 0.0005\n",
            "Epoch: 139, Loss: 0.0003\n",
            "Epoch: 140, Loss: 0.0000\n",
            "Epoch: 141, Loss: 0.0000\n",
            "Epoch: 142, Loss: 0.0001\n",
            "Epoch: 143, Loss: 0.0003\n",
            "Epoch: 144, Loss: 0.0013\n",
            "Epoch: 145, Loss: 0.0009\n",
            "Epoch: 146, Loss: 0.0001\n",
            "Epoch: 147, Loss: 0.0000\n",
            "Epoch: 148, Loss: 0.0004\n",
            "Epoch: 149, Loss: 0.0002\n",
            "Epoch: 150, Loss: 0.0001\n",
            "Epoch: 151, Loss: 0.0007\n",
            "Epoch: 152, Loss: 0.0010\n",
            "Epoch: 153, Loss: 0.0001\n",
            "Epoch: 154, Loss: 0.0001\n",
            "Epoch: 155, Loss: 0.0002\n",
            "Epoch: 156, Loss: 0.0002\n",
            "Epoch: 157, Loss: 0.0001\n",
            "Epoch: 158, Loss: 0.0000\n",
            "Epoch: 159, Loss: 0.0001\n",
            "Epoch: 160, Loss: 0.0000\n",
            "Epoch: 161, Loss: 0.0001\n",
            "Epoch: 162, Loss: 0.0002\n",
            "Epoch: 163, Loss: 0.0002\n",
            "Epoch: 164, Loss: 0.0002\n",
            "Epoch: 165, Loss: 0.0002\n",
            "Epoch: 166, Loss: 0.0006\n",
            "Epoch: 167, Loss: 0.0003\n",
            "Epoch: 168, Loss: 0.0007\n",
            "Epoch: 169, Loss: 0.0006\n",
            "Epoch: 170, Loss: 0.0069\n",
            "Epoch: 171, Loss: 0.0014\n",
            "Epoch: 172, Loss: 0.0002\n",
            "Epoch: 173, Loss: 0.0013\n",
            "Epoch: 174, Loss: 0.0001\n",
            "Epoch: 175, Loss: 0.0015\n",
            "Epoch: 176, Loss: 0.0005\n",
            "Epoch: 177, Loss: 0.0004\n",
            "Epoch: 178, Loss: 0.0000\n",
            "Epoch: 179, Loss: 0.0007\n",
            "Epoch: 180, Loss: 0.0009\n",
            "Epoch: 181, Loss: 0.0006\n",
            "Epoch: 182, Loss: 0.0004\n",
            "Epoch: 183, Loss: 0.0011\n",
            "Epoch: 184, Loss: 0.0001\n",
            "Epoch: 185, Loss: 0.0005\n",
            "Epoch: 186, Loss: 0.0001\n",
            "Epoch: 187, Loss: 0.0000\n",
            "Epoch: 188, Loss: 0.0001\n",
            "Epoch: 189, Loss: 0.0016\n",
            "Epoch: 190, Loss: 0.0001\n",
            "Epoch: 191, Loss: 0.0001\n",
            "Epoch: 192, Loss: 0.0001\n",
            "Epoch: 193, Loss: 0.0007\n",
            "Epoch: 194, Loss: 0.0003\n",
            "Epoch: 195, Loss: 0.0002\n",
            "Epoch: 196, Loss: 0.0000\n",
            "Epoch: 197, Loss: 0.0005\n",
            "Epoch: 198, Loss: 0.0000\n",
            "Epoch: 199, Loss: 0.0001\n",
            "Epoch: 200, Loss: 0.0008\n"
          ]
        }
      ]
    },
    {
      "cell_type": "code",
      "source": [
        "np.shape(out_ne)"
      ],
      "metadata": {
        "colab": {
          "base_uri": "https://localhost:8080/"
        },
        "id": "WJfAIgVXUqWu",
        "outputId": "bfe15afa-84d5-4229-8754-f34cdc2e7b6a"
      },
      "execution_count": 19,
      "outputs": [
        {
          "output_type": "execute_result",
          "data": {
            "text/plain": [
              "torch.Size([37, 6])"
            ]
          },
          "metadata": {},
          "execution_count": 19
        }
      ]
    },
    {
      "cell_type": "code",
      "source": [
        "out_ne[0]"
      ],
      "metadata": {
        "colab": {
          "base_uri": "https://localhost:8080/"
        },
        "id": "t8Moe12EUzkO",
        "outputId": "3aebbf05-df65-4ce3-bee2-3a1c964ccb9f"
      },
      "execution_count": 20,
      "outputs": [
        {
          "output_type": "execute_result",
          "data": {
            "text/plain": [
              "tensor([-5.9831, -4.8785, -6.4517, -6.5308, -3.1646, 10.3964],\n",
              "       grad_fn=<SelectBackward0>)"
            ]
          },
          "metadata": {},
          "execution_count": 20
        }
      ]
    },
    {
      "cell_type": "code",
      "source": [
        "out_ne1= out_ne"
      ],
      "metadata": {
        "id": "_h51XelanyIE"
      },
      "execution_count": 24,
      "outputs": []
    },
    {
      "cell_type": "code",
      "source": [
        "# measure the impact of topological index from nodes to edges (local) ? can graph operator predict its dynamics?\n",
        "\n",
        "# topological index calculation here\n",
        "# use topological incidence matrices\n",
        "def zagreb_m1_index(degrees):\n",
        "    \"\"\" Zagreb M1 Index \"\"\"\n",
        "    return sum(map(lambda d: d**2, degrees))\n",
        "\n",
        "#equal to the sum of the products of the degrees of pairs of adjacent vertices.\n",
        "# map() expects a function and a list\n",
        "def zagreb_m2_index(degrees, edges):\n",
        "  #print(\"edges are \", edges)\n",
        "  s = 0\n",
        "  for e in edges:\n",
        "    s = s+ degrees[e[0]]*degrees[e[1]]\n",
        "\n",
        "  return s\n",
        "  #return sum( map(lambda (e1, e2): degrees[e1]*degrees[e2] , edges) )\n",
        "\n",
        "def connectivity_index(degrees, edges, power):\n",
        "  \"\"\" Connectivity index (R)\"\"\"\n",
        "  E = edges # E - all edges\n",
        "  if len(E) == 0: return 0\n",
        "  s = 0\n",
        "  for e in edges:\n",
        "    s = s + pow(degrees[e[0]]*degrees[e[1]], power)\n",
        "  return s\n",
        "  #return np.float64(np.sum( map(lambda (e1 ,e2): ( degrees[e1]*degrees[e2] ) ** power , E) , dtype=np.longdouble))\n",
        "\n",
        "def augmented_zagreb_index(edges, degrees):\n",
        "    \"\"\" Augmented Zagreb Index\"\"\"\n",
        "    E = edges # E - all edges\n",
        "    d = degrees\n",
        "    if len(E) < 2: return 0\n",
        "    s = 0\n",
        "    for e in edges:\n",
        "      s = s+ pow(degrees[e[0]]*degrees[e[1]] / (degrees[e[0]]+ degrees[e[1]]-2),3)\n",
        "\n",
        "    return s\n",
        "    #return np.float64(np.sum( map(lambda (e1 ,e2): (np.longdouble(d[e1]*d[e2]) / (d[e1]+d[e2]-2)) **3, E) , dtype=np.longdouble))\n",
        "\n",
        "def eccentric_connectivity_index(degrees, eccentricity):\n",
        "  \"\"\" Eccentric Connectivity Index\n",
        "  The molecuar graph must be connected, otherwise the function Return False\"\"\"\n",
        "  # sum_v deg(v)*ecc(v)\n",
        "  #if not self.is_connected(degrees, eccentricity):\n",
        "  #    return False\n",
        "  return sum( map( lambda a,b: a*b, degrees, eccentricity ) )\n",
        "\n",
        "\n",
        "def molecular_topological_index(A, distance_matrix, degrees):\n",
        "  \"\"\" (Schultz) Molecular Topological Index (MTI)\n",
        "\n",
        "  The molecuar graph must be connected, otherwise the function Return False\"\"\"\n",
        "  if not self.is_connected():\n",
        "      return False\n",
        "  # (A+D)*d\n",
        "\n",
        "  #A = np.matrix(self.__A)\n",
        "  d = np.matrix(degrees)\n",
        "  return np.float64(( (A + distance_matrix) * d.T ).sum(dtype=np.longdouble))\n",
        "\n",
        "\n"
      ],
      "metadata": {
        "id": "yG7oHlBxuj3i"
      },
      "execution_count": null,
      "outputs": []
    },
    {
      "cell_type": "code",
      "source": [
        "# map back to an adjacency (weighted edge) matrix\n",
        "# vector is of topological indices\n",
        "def map_to_edgemat(vector, degrees, edge_list):\n",
        "  wts = []\n",
        "  for e in edge_list:\n",
        "    s = vector[e[0]]/(degrees[e[0]]) + vector[e[1]]/(degrees[e[1]]) # from thm 1\n",
        "    wts.append(s)\n",
        "  #reshape into adj mat nx.adjacency_matrix(G)\n",
        "  nvertices = np.max(edge_list)\n",
        "  a = edgelist_to_adjmat(edge_list, wts, nvertices)\n",
        "  return a\n"
      ],
      "metadata": {
        "id": "k9qnYopnY3nR"
      },
      "execution_count": null,
      "outputs": []
    },
    {
      "cell_type": "code",
      "source": [
        "def edgelist_to_adjmat(edge_list, weight_list, nvertices):\n",
        "\n",
        "  adj_mat = np.zeros((nvertices,nvertices))\n",
        "\n",
        "  nedges = len(edge_list) # same length as weight list\n",
        "  for i in range(nedges):\n",
        "    e1 = edge_list[i][0]\n",
        "    e2 = edge_list[i][1]\n",
        "    w = weight_list[i]\n",
        "    adj_mat[e1, e2 ]= w\n",
        "  return adj_mat\n",
        "\n",
        "def adjmat_to_edgelist(A):\n",
        "  elist = []\n",
        "  ind1 = 0\n",
        "  for row in A:\n",
        "    # add to\n",
        "    # check permutation exists\n",
        "    ind2 =0\n",
        "    for el in row:\n",
        "      pair1 = (ind1, ind2)\n",
        "      pair2 = (ind2, ind1)\n",
        "      if pair1 not in elist:\n",
        "        if pair2 not in elist:\n",
        "          # do not append duplicates ?\n",
        "          if ind1 != ind2:\n",
        "            elist.append(pair1)\n",
        "      ind2 = ind2 + 1\n",
        "    ind1 = ind1+1\n",
        "\n",
        "  return elist"
      ],
      "metadata": {
        "id": "CG-3mn01hn6U"
      },
      "execution_count": null,
      "outputs": []
    },
    {
      "cell_type": "markdown",
      "source": [
        "https://ijmc.kashanu.ac.ir/article_10107_7219f11930f0bb2a7a243517ae34b7d6.pdf (edge decomposition of topological indices)\n",
        "\n",
        "Thm 1: $TI(G) = \\sum_{(u,v) in E} [ \\frac{F(u)}{d(u)} + \\frac{F(v)}{d(v)} ]$"
      ],
      "metadata": {
        "id": "U13Bj9ADkFEf"
      }
    },
    {
      "cell_type": "code",
      "source": [
        "# second order random walk based on topological index -> node embeddings\n",
        "top_mat = zagreb_m1_index(gdegrees)\n",
        "# easiest: pass the topological matrix into weight parameter of https://github.com/eliorc/node2vec\n",
        "topmodel = node2vec.fit(window=10, min_count=1, batch_words=4, weight = top_mat)"
      ],
      "metadata": {
        "id": "-lZkEFdT2cYI"
      },
      "execution_count": null,
      "outputs": []
    },
    {
      "cell_type": "markdown",
      "source": [
        "idea: turn the node embeddings to time series  , then perform a signal processing transform/ technique on it\n",
        "\n",
        "(https://ysig.github.io/GraKeL/0.1a7/kernels/weisfeiler_lehman.html ) apply WL on its sequence  \n",
        "\n",
        " Walsh functions take min/max within 0,1 interval\n",
        "\n",
        " https://quantatrisk.com/2015/04/07/walsh-hadamard-transform-python/"
      ],
      "metadata": {
        "id": "pkEAjwDzhVWx"
      }
    },
    {
      "cell_type": "code",
      "source": [
        "from grakel.kernels import WeisfeilerLehman, VertexHistogram\n",
        "\n",
        "wl_kernel = WeisfeilerLehman(n_iter=5, normalize=True, base_graph_kernel=VertexHistogram)"
      ],
      "metadata": {
        "id": "aDqLLQz_r7qd"
      },
      "execution_count": null,
      "outputs": []
    },
    {
      "cell_type": "code",
      "source": [
        "# write a plot for the indices as well as visualizing the graphs in networkx\n",
        "\n",
        "# note the trends as a function of graph properties (sparsity, # triangles, etc)\n",
        "import matplotlib.pyplot as plt\n",
        "def plot_indices(vector):\n",
        "  n = len(vector)\n",
        "  t = np.arange(n)\n",
        "  plt.scatter(t, vector)\n",
        "  plt.show()"
      ],
      "metadata": {
        "id": "bM8mnqpMhdc2"
      },
      "execution_count": null,
      "outputs": []
    }
  ]
}