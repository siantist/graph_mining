{
 "cells": [
  {
   "cell_type": "code",
   "execution_count": 1,
   "id": "f46700ec",
   "metadata": {},
   "outputs": [
    {
     "ename": "ModuleNotFoundError",
     "evalue": "No module named 'graphblas'",
     "output_type": "error",
     "traceback": [
      "\u001b[0;31m---------------------------------------------------------------------------\u001b[0m",
      "\u001b[0;31mModuleNotFoundError\u001b[0m                       Traceback (most recent call last)",
      "\u001b[0;32m/var/folders/8m/pt7_wvd11vbfl5hhydrtd5t00000gn/T/ipykernel_35644/884771638.py\u001b[0m in \u001b[0;36m<module>\u001b[0;34m\u001b[0m\n\u001b[0;32m----> 1\u001b[0;31m \u001b[0;32mfrom\u001b[0m \u001b[0mgraphblas\u001b[0m \u001b[0;32mimport\u001b[0m \u001b[0mmonoid\u001b[0m\u001b[0;34m\u001b[0m\u001b[0m\n\u001b[0m\u001b[1;32m      2\u001b[0m \u001b[0;32mfrom\u001b[0m \u001b[0mgraphblas\u001b[0m\u001b[0;34m.\u001b[0m\u001b[0msemiring\u001b[0m \u001b[0;32mimport\u001b[0m \u001b[0many_pair\u001b[0m\u001b[0;34m,\u001b[0m \u001b[0mplus_first\u001b[0m\u001b[0;34m\u001b[0m\u001b[0m\n\u001b[1;32m      3\u001b[0m \u001b[0;34m\u001b[0m\u001b[0m\n\u001b[1;32m      4\u001b[0m \u001b[0;32mfrom\u001b[0m \u001b[0;34m.\u001b[0m\u001b[0mboundary\u001b[0m \u001b[0;32mimport\u001b[0m \u001b[0medge_boundary\u001b[0m\u001b[0;34m,\u001b[0m \u001b[0mnode_boundary\u001b[0m\u001b[0;34m\u001b[0m\u001b[0m\n",
      "\u001b[0;31mModuleNotFoundError\u001b[0m: No module named 'graphblas'"
     ]
    }
   ],
   "source": [
    "from graphblas import monoid\n",
    "from graphblas.semiring import any_pair, plus_first\n",
    "\n",
    "from .boundary import edge_boundary, node_boundary\n"
   ]
  },
  {
   "cell_type": "markdown",
   "id": "5af6e2d4",
   "metadata": {},
   "source": [
    "kron_khatri_rao.ipynb\n",
    "\n",
    "https://github.com/python-graphblas/graphblas-algorithms/blob/main/graphblas_algorithms/algorithms/cuts.py\n",
    "\n",
    "Use these algorithms to find cut-related quantities:"
   ]
  },
  {
   "cell_type": "code",
   "execution_count": null,
   "id": "0dea9524",
   "metadata": {},
   "outputs": [],
   "source": [
    "\n",
    "def cut_size(G, S, T=None, *, is_weighted=False):\n",
    "    edges = edge_boundary(G, S, T, is_weighted=is_weighted)\n",
    "    if is_weighted:\n",
    "        rv = edges.reduce_scalar(monoid.plus).get(0)\n",
    "    else:\n",
    "        rv = edges.nvals\n",
    "    if G.is_directed():\n",
    "        edges = edge_boundary(G, T, S, is_weighted=is_weighted)\n",
    "        if is_weighted:\n",
    "            rv += edges.reduce_scalar(monoid.plus).get(0)\n",
    "        else:\n",
    "            rv += edges.nvals\n",
    "    return rv\n",
    "\n",
    "\n",
    "def volume(G, S, *, weighted=False):\n",
    "    if weighted:\n",
    "        degrees = plus_first(G._A @ S)\n",
    "    else:\n",
    "        degrees = G.get_property(\"row_degrees+\", mask=S.S)\n",
    "    return degrees.reduce(monoid.plus).get(0)\n",
    "\n",
    "\n",
    "def normalized_cut_size(G, S, T=None):\n",
    "    num_cut_edges = cut_size(G, S, T)\n",
    "    volume_S = volume(G, S)\n",
    "    volume_T = volume(G, T)\n",
    "    return num_cut_edges * ((1 / volume_S) + (1 / volume_T))\n",
    "\n",
    "\n",
    "def conductance(G, S, T=None):\n",
    "    num_cut_edges = cut_size(G, S, T)\n",
    "    volume_S = volume(G, S)\n",
    "    volume_T = volume(G, T)\n",
    "    return num_cut_edges / min(volume_S, volume_T)\n",
    "\n",
    "\n",
    "def edge_expansion(G, S, T=None):\n",
    "    num_cut_edges = cut_size(G, S, T)\n",
    "    if T is None:\n",
    "        Tnvals = S.size - S.nvals\n",
    "    else:\n",
    "        Tnvals = T.nvals\n",
    "    return num_cut_edges / min(S.nvals, Tnvals)\n",
    "\n",
    "\n",
    "def mixing_expansion(G, S, T=None):\n",
    "    num_cut_edges = cut_size(G, S, T)\n",
    "    return num_cut_edges / G._A.nvals  # Why no factor of 2 in denominator?\n",
    "\n",
    "\n",
    "def node_expansion(G, S):\n",
    "    neighborhood = any_pair(S @ G._A)\n",
    "    return neighborhood.nvals / S.nvals\n",
    "\n",
    "\n",
    "def boundary_expansion(G, S):\n",
    "    result = node_boundary(G, S)\n",
    "    return result.nvals / S.nvals"
   ]
  },
  {
   "cell_type": "code",
   "execution_count": 3,
   "id": "89a12fc6",
   "metadata": {},
   "outputs": [
    {
     "ename": "ModuleNotFoundError",
     "evalue": "No module named 'graphblas'",
     "output_type": "error",
     "traceback": [
      "\u001b[0;31m---------------------------------------------------------------------------\u001b[0m",
      "\u001b[0;31mModuleNotFoundError\u001b[0m                       Traceback (most recent call last)",
      "\u001b[0;32m/var/folders/8m/pt7_wvd11vbfl5hhydrtd5t00000gn/T/ipykernel_30592/1792270719.py\u001b[0m in \u001b[0;36m<module>\u001b[0;34m\u001b[0m\n\u001b[1;32m      1\u001b[0m \u001b[0;31m# https://github.com/python-graphblas/graphblas-algorithms/blob/main/graphblas_algorithms/algorithms/centrality/eigenvector.py\u001b[0m\u001b[0;34m\u001b[0m\u001b[0;34m\u001b[0m\u001b[0m\n\u001b[1;32m      2\u001b[0m \u001b[0;34m\u001b[0m\u001b[0m\n\u001b[0;32m----> 3\u001b[0;31m \u001b[0;32mfrom\u001b[0m \u001b[0mgraphblas\u001b[0m \u001b[0;32mimport\u001b[0m \u001b[0mVector\u001b[0m\u001b[0;34m\u001b[0m\u001b[0m\n\u001b[0m\u001b[1;32m      4\u001b[0m \u001b[0;34m\u001b[0m\u001b[0m\n\u001b[1;32m      5\u001b[0m \u001b[0;32mfrom\u001b[0m \u001b[0mgraphblas_algorithms\u001b[0m\u001b[0;34m.\u001b[0m\u001b[0malgorithms\u001b[0m\u001b[0;34m.\u001b[0m\u001b[0m_helpers\u001b[0m \u001b[0;32mimport\u001b[0m \u001b[0mis_converged\u001b[0m\u001b[0;34m,\u001b[0m \u001b[0mnormalize\u001b[0m\u001b[0;34m\u001b[0m\u001b[0m\n",
      "\u001b[0;31mModuleNotFoundError\u001b[0m: No module named 'graphblas'"
     ]
    }
   ],
   "source": [
    "# https://github.com/python-graphblas/graphblas-algorithms/blob/main/graphblas_algorithms/algorithms/centrality/eigenvector.py\n",
    "\n",
    "from graphblas import Vector\n",
    "\n",
    "from graphblas_algorithms.algorithms._helpers import is_converged, normalize\n",
    "from graphblas_algorithms.algorithms.exceptions import (\n",
    "    ConvergenceFailure,\n",
    "    GraphBlasAlgorithmException,\n",
    "    PointlessConcept,\n",
    ")\n",
    "\n",
    "__all__ = [\"eigenvector_centrality\"]\n",
    "\n",
    "\n",
    "def eigenvector_centrality(G, max_iter=100, tol=1.0e-6, nstart=None, name=\"eigenvector_centrality\"):\n",
    "    N = len(G)\n",
    "    if N == 0:\n",
    "        raise PointlessConcept(\"cannot compute centrality for the null graph\")\n",
    "    x = Vector(float, N, name=\"x\")\n",
    "    if nstart is None:\n",
    "        x << 1.0 / N\n",
    "    else:\n",
    "        x << nstart\n",
    "        denom = x.reduce().get(0)  # why not use L2 norm?\n",
    "        if denom == 0:\n",
    "            raise GraphBlasAlgorithmException(\"initial vector cannot have all zero values\")\n",
    "        x *= 1.0 / denom\n",
    "\n",
    "    # Power iteration: make up to max_iter iterations\n",
    "    A = G._A\n",
    "    xprev = Vector(float, N, name=\"x_prev\")\n",
    "    for _ in range(max_iter):\n",
    "        xprev << x\n",
    "        x += x @ A\n",
    "        normalize(x, \"L2\")\n",
    "        if is_converged(xprev, x, tol):  # sum(abs(xprev - x)) < N * tol\n",
    "            x.name = name\n",
    "            return x\n",
    "    raise ConvergenceFailure(max_iter)\n",
    "    "
   ]
  },
  {
   "cell_type": "markdown",
   "id": "871acd78",
   "metadata": {},
   "source": [
    "Code the graph operators (line graph, clique graph) in graphblas "
   ]
  },
  {
   "cell_type": "code",
   "execution_count": 2,
   "id": "c9969158",
   "metadata": {},
   "outputs": [
    {
     "ename": "ModuleNotFoundError",
     "evalue": "No module named 'graphblas'",
     "output_type": "error",
     "traceback": [
      "\u001b[0;31m---------------------------------------------------------------------------\u001b[0m",
      "\u001b[0;31mModuleNotFoundError\u001b[0m                       Traceback (most recent call last)",
      "\u001b[0;32m/var/folders/8m/pt7_wvd11vbfl5hhydrtd5t00000gn/T/ipykernel_30592/795408546.py\u001b[0m in \u001b[0;36m<module>\u001b[0;34m\u001b[0m\n\u001b[1;32m      1\u001b[0m \u001b[0;31m#https://github.com/python-graphblas/graphblas-algorithms/blob/main/graphblas_algorithms/algorithms/simple_paths.py\u001b[0m\u001b[0;34m\u001b[0m\u001b[0;34m\u001b[0m\u001b[0m\n\u001b[0;32m----> 2\u001b[0;31m \u001b[0;32mimport\u001b[0m \u001b[0mgraphblas\u001b[0m\u001b[0;34m\u001b[0m\u001b[0m\n\u001b[0m\u001b[1;32m      3\u001b[0m \u001b[0;32mfrom\u001b[0m \u001b[0mgraphblas\u001b[0m \u001b[0;32mimport\u001b[0m \u001b[0mMatrix\u001b[0m\u001b[0;34m,\u001b[0m \u001b[0mbinary\u001b[0m\u001b[0;34m\u001b[0m\u001b[0m\n\u001b[1;32m      4\u001b[0m \u001b[0;34m\u001b[0m\u001b[0m\n\u001b[1;32m      5\u001b[0m \u001b[0m__all__\u001b[0m \u001b[0;34m=\u001b[0m \u001b[0;34m[\u001b[0m\u001b[0;34m\"is_simple_path\"\u001b[0m\u001b[0;34m]\u001b[0m\u001b[0;34m\u001b[0m\u001b[0m\n",
      "\u001b[0;31mModuleNotFoundError\u001b[0m: No module named 'graphblas'"
     ]
    }
   ],
   "source": [
    "#https://github.com/python-graphblas/graphblas-algorithms/blob/main/graphblas_algorithms/algorithms/simple_paths.py\n",
    "import graphblas\n",
    "from graphblas import Matrix, binary\n",
    "\n",
    "__all__ = [\"is_simple_path\"]\n",
    "\n",
    "\n",
    "def is_simple_path(G, nodes):\n",
    "    if len(nodes) == 0:\n",
    "        return False\n",
    "    if len(nodes) == 1:\n",
    "        return nodes[0] in G\n",
    "    A = G._A\n",
    "    if A.nvals < len(nodes) - 1:\n",
    "        return False\n",
    "    key_to_id = G._key_to_id\n",
    "    indices = [key_to_id[key] for key in nodes if key in key_to_id]\n",
    "    if len(indices) != len(nodes) or len(indices) > len(set(indices)):\n",
    "        return False\n",
    "    # Check all steps in path at once\n",
    "    P = Matrix.from_coo(indices[:-1], indices[1:], True, nrows=A.nrows, ncols=A.ncols)\n",
    "    P << binary.second(A & P)\n",
    "    return P.nvals == len(indices) - 1"
   ]
  },
  {
   "cell_type": "markdown",
   "id": "b5fd22bd",
   "metadata": {},
   "source": [
    "graphblas notes:\n",
    "\n",
    "first: add, second:multiply"
   ]
  },
  {
   "cell_type": "markdown",
   "id": "e81b9ab8",
   "metadata": {},
   "source": [
    "AX = b over tropical semiring solution code\n",
    "\n",
    "The positive determinant of matrix A is $|A|^+$ and is defined by $|A|^+ = \\sum_{ \\sigma \\in \\mathcal{A}_n} \\Pi_{i=1}^n a_{i \\sigma(i)}$ and $|A|^- = \\sum_{\\sigma \\mathcal{S}_n \\setminus \\mathcal{A}_n} \\Pi_{i=1}^n a_{i \\sigma(i)}$. \n",
    "\n",
    "The $\\epsilon$-determinant of $A$ can be rewritten as $det_{\\epsilon}(A) = |A|^+ + \\epsilon( |A|^-)$. \n",
    "\n",
    "Def. The $\\epsilon$-determinant of $A$ is $det_{\\epsilon}(A) = \\sum_{\\sigma \\in S_n} \\epsilon^{\\tau(\\sigma)}( a_{1 \\sigma(1)} \\cdots a_{ n \\sigma(n)})$ which is also equal to $|A|^+ + \\epsilon(|A|^-)$ \n",
    "\n",
    "Thm 4:solution $X* = (A^- b) = (d^{-1} d_1, d^{-1} d_2, \\cdots, d^{-1} d_n)^T$ \n",
    "where $d = det_{eps}(A)$ and $d_j = det_{eps}(A_{[j]}), j \\in [n]$. "
   ]
  },
  {
   "cell_type": "code",
   "execution_count": null,
   "id": "a4737a20",
   "metadata": {},
   "outputs": [],
   "source": [
    "# pseudo inverse of system matrix (sec 4.1)\n",
    "\n",
    "\n",
    "def pos_det(A):\n",
    "    \n",
    "def neg_det(A):\n",
    "    \n",
    "def det_eps(A, eps):\n",
    "    return pos_det(A) + eps*neg_det(A)\n",
    "\n",
    "def submat(A, i, j):\n",
    "    Ai = np.delete(A, (i), axis=0)\n",
    "    Aij = np.delete(Ai, (j), axis=1)\n",
    "    return Aij\n",
    "\n",
    "def adj_eps(A, eps): # eps-adjoint matrix\n",
    "    # (n-1)(n-1) submatrix of A remove i-th row and j-th column \n",
    "    A_n1 = submat(A, i, j)\n",
    "    eps_ij = np.pow(eps, i+j)\n",
    "    prod= eps_ij*A_n1\n",
    "    return np.transpose(prod)\n",
    "\n",
    "def pseudo_inv(A, eps):\n",
    "    A_deteps = det_eps(A, eps)\n",
    "    A_deteps_inv = np.inv(A_deteps)\n",
    "    return np.matmul(A_deteps_inv, adj_eps(A, eps))\n",
    "    \n",
    "# solution is A^- * b where A^- is pseudoinverse"
   ]
  },
  {
   "cell_type": "code",
   "execution_count": null,
   "id": "3e7a250e",
   "metadata": {},
   "outputs": [],
   "source": [
    "# from thm 4\n"
   ]
  },
  {
   "cell_type": "markdown",
   "id": "5c8d7fc0",
   "metadata": {},
   "source": [
    "code graph computation properties (based on shortest distance -> reciprocal deg distance) based on graphblas (in python?)\n",
    "\n",
    "Then plugin the properties from graphblas into grakel ? \n",
    "\n",
    "min cycle basis over tropical semiring -> and what does it mean in terms of graph properties ?\n",
    "\n",
    "shortest paths \n",
    "https://github.com/python-graphblas/graphblas-algorithms/blob/main/graphblas_algorithms/algorithms/shortest_paths/generic.py\n",
    "\n",
    "intro slides\n",
    "https://apps.dtic.mil/sti/pdfs/AD1083909.pdf\n"
   ]
  },
  {
   "cell_type": "code",
   "execution_count": null,
   "id": "b5b3ea54",
   "metadata": {},
   "outputs": [],
   "source": [
    "# reciprocal deg dist based on python-graphblas\n"
   ]
  },
  {
   "cell_type": "markdown",
   "id": "29a9402c",
   "metadata": {},
   "source": [
    "hypergraph algorithms for shortest paths, centrality, etc\n",
    "\n",
    "pdf: centrality_in_social_networks_theor \n"
   ]
  },
  {
   "cell_type": "code",
   "execution_count": null,
   "id": "119227a3",
   "metadata": {},
   "outputs": [],
   "source": []
  }
 ],
 "metadata": {
  "kernelspec": {
   "display_name": "Python 3 (ipykernel)",
   "language": "python",
   "name": "python3"
  },
  "language_info": {
   "codemirror_mode": {
    "name": "ipython",
    "version": 3
   },
   "file_extension": ".py",
   "mimetype": "text/x-python",
   "name": "python",
   "nbconvert_exporter": "python",
   "pygments_lexer": "ipython3",
   "version": "3.7.0"
  }
 },
 "nbformat": 4,
 "nbformat_minor": 5
}
