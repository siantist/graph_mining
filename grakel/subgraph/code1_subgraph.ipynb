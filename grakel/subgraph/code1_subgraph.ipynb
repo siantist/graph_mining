{
 "cells": [
  {
   "cell_type": "code",
   "execution_count": null,
   "id": "6b84de54",
   "metadata": {},
   "outputs": [],
   "source": [
    "k = SubgraphMatching()\n",
    "\n",
    "print(\"fit\")\n",
    "k.fit([({(1, 2), (2, 3), (2, 1), (3, 2)},\n",
    "       {1: 'N', 2: 'C', 3: 'O'},\n",
    "       {(1, 2): ('N', 'C'), (2, 1): ('C', 'N'),\n",
    "        (2, 3): ('C', 'O'), (3, 2): ('O', 'C')})])\n",
    "\n",
    "print(\"transform\")\n",
    "print(k.transform([({(1, 2), (2, 3), (3, 4), (3, 5), (5, 6),\n",
    "                     (2, 1), (3, 2), (4, 3), (5, 3), (6, 5)},\n",
    "                    {1: 'O', 2: 'C', 3: 'N', 4: 'C', 5: 'C', 6: 'O'},\n",
    "                    {(1, 2): ('O', 'C'), (2, 3): ('C', 'N'),\n",
    "                     (3, 4): ('N', 'C'), (3, 5): ('N', 'C'),\n",
    "                     (5, 6): ('C', 'O'), (2, 1): ('C', 'O'),\n",
    "                     (3, 2): ('N', 'C'), (4, 3): ('C', 'N'),\n",
    "                     (5, 3): ('C', 'N'), (6, 5): ('O', 'C')})]))"
   ]
  },
  {
   "cell_type": "markdown",
   "id": "0be7e0d3",
   "metadata": {},
   "source": [
    "link: https://github.com/ysig/GraKeL\n",
    "\n",
    "subgraph matching kernel : counts number of matchings btwn subgraphs of bounded size in 2 graphs\n",
    " \n",
    " \n",
    "idea: subgraph matching kernel for \n",
    " \n",
    "A graph isomorphism is a bijection $\\phi: V-> V'$ that preserves adjacencies or $u,v \\in V: (v,u) \\in E \\leftrightarrow (\\phi(v), \\phi(u)) \\in E'$\n",
    "\n",
    "and $\\psi : V \\times V \\rightarrow V' \\times V'$ is mapping of vertex pairs implied by the bijection $\\phi$ s.t. $\\psi ((v,u)) = (\\phi(v), \\phi(u))$ \n",
    "\n",
    " \n",
    "Let $B(G,G')$ be the set of bijections between sets $S\\subseteq V, S' \\subseteq V'$ and $\\lambda: B(G, G') \\rightarrow R+$ be a weight function. The subgraph matching kernel is:\n",
    "\n",
    "$k(G, G') = \\sum_{\\phi \\in B(G,G')} \\lambda(\\phi) \\Pi_{v \\in S} k_V(v, \\phi(v)) \\Pi_{e \\in S \\times S} k_E (e, \\psi(e))$\n",
    "\n",
    "\n",
    "To count the number of isomorphisms between subgraphs, the kernel capitalizes on a classical result of Levi [Lev73] which makes a connection between common subgraphs of two graphs and cliques in their <b> product graph </b>. More specifically, each maximum clique in the product graph is associated with a maximum common subgraph of the factor graphs. This allows someone to compute the common subgraph isomorphism kernel by enumerating the cliques of the product graph.\n",
    "\n",
    "sm_kernel: returns\n",
    "tv_np : np.array\n",
    "        An array holding values for all clique sizes from 0 to k."
   ]
  },
  {
   "cell_type": "markdown",
   "id": "2be3b2ad",
   "metadata": {},
   "source": [
    "After creating the weighted product graph, the kernel enumerates its cliques. The kernel starts from an empty clique and extends it stepwise by all vertices preserving the clique property. Let  be the weight of a clique . Whenever the clique  is extended by a new vertex , the weight of the clique is updated as follows: first it is multiplied by the weight of the vertex , and then, it is multiplied by all the edges connecting  to a vertex in , that is . The algorithm effectively avoids duplicates by removing a vertex from the candidate set after all cliques containing it have been exhaustively explored\n",
    "\n",
    "Idea: update the weight by a different rule. \n",
    "\n",
    "For this part, the definition of the kernel is also the product of k_V and k_E; but do we need to choose how to iterate over them? \n",
    "\n",
    "determine lambda by the "
   ]
  },
  {
   "cell_type": "markdown",
   "id": "4c26eba6",
   "metadata": {},
   "source": [
    "fit transform (fit and transform on same dataset)\n",
    "\n",
    "returns:\n",
    "     K : numpy array, shape = [n_targets, n_input_graphs]\n",
    "            corresponding to the kernel matrix, a calculation between\n",
    "            all pairs of graphs between target an features\n",
    "            \n",
    "            \n",
    "fit: self.X = self.parse_input(X) \n",
    "\n",
    "transform:  (Transform - calculate kernel matrix) \n",
    "        km = self._calculate_kernel_matrix(Y)\n",
    "        self._Y = Y\n",
    "\n",
    "        ( Self transform must appear before the diagonal call on normilization)\n",
    "        \n",
    "        self._is_transformed = True\n",
    "        if self.normalize:\n",
    "            X_diag, Y_diag = self.diagonal()\n",
    "            km /= np.sqrt(np.outer(Y_diag, X_diag))\n",
    "        return km\n",
    "\n",
    "def _calculate_kernel_matrix(self, Y=None):\n",
    "        \"\"\"Calculate the kernel matrix given a target_graph and a kernel"
   ]
  },
  {
   "cell_type": "markdown",
   "id": "159bc0b4",
   "metadata": {},
   "source": [
    "\n",
    "lambdas_ : np.array, shape=(1, k+1)\n",
    "        All the lambdas corresponding to all the valid sizes of subgraphs.\n",
    "    \n",
    "$\\lambda : B(G,G') \\rightarrow R^+ $ is a weight function where $B(G,G')$ is the set of all bijections between sets S in V and S' in V'. "
   ]
  },
  {
   "cell_type": "code",
   "execution_count": 1,
   "id": "f155d88e",
   "metadata": {},
   "outputs": [],
   "source": [
    "from grakel.kernels import SubgraphMatching\n",
    "\n",
    "k1 = SubgraphMatching()"
   ]
  },
  {
   "cell_type": "code",
   "execution_count": null,
   "id": "c08276b8",
   "metadata": {},
   "outputs": [],
   "source": [
    "# defined current graph\n",
    "current_graph = [({(1, 2), (2, 3), (2, 1), (3, 2)},\n",
    "       {1: 'N', 2: 'C', 3: 'O'},\n",
    "       {(1, 2): ('N', 'C'), (2, 1): ('C', 'N'),\n",
    "        (2, 3): ('C', 'O'), (3, 2): ('O', 'C')})]\n",
    "\n",
    "k1.fit(current_graph) "
   ]
  },
  {
   "cell_type": "code",
   "execution_count": 2,
   "id": "4d970665",
   "metadata": {},
   "outputs": [],
   "source": [
    "# try running the sm_kernel function on sample data\n",
    "from grakel.kernels._c_functions import sm_kernel\n"
   ]
  },
  {
   "cell_type": "code",
   "execution_count": null,
   "id": "50bcabe2",
   "metadata": {},
   "outputs": [],
   "source": [
    "other_graphs = [({(1, 2), (2, 3), (3, 4), (3, 5), (5, 6),\n",
    "                         (2, 1), (3, 2), (4, 3), (5, 3), (6, 5)},\n",
    "                        {1: 'O', 2: 'C', 3: 'N', 4: 'C', 5: 'C', 6: 'O'},\n",
    "                        {(1, 2): ('O', 'C'), (2, 3): ('C', 'N'),\n",
    "                         (3, 4): ('N', 'C'), (3, 5): ('N', 'C'),\n",
    "                         (5, 6): ('C', 'O'), (2, 1): ('C', 'O'),\n",
    "                         (3, 2): ('N', 'C'), (4, 3): ('C', 'N'),\n",
    "                         (5, 3): ('C', 'N'), (6, 5): ('O', 'C')})]"
   ]
  },
  {
   "cell_type": "code",
   "execution_count": null,
   "id": "4fde7123",
   "metadata": {},
   "outputs": [],
   "source": [
    "# print self lambdas\n",
    "\n",
    "# lambdas corresponding to all the valid sizes of subgraphs\n",
    "\n",
    "# default: set them to 1's ? \n",
    "# measure: the # of bijections btwn S in G and S' in G' \n",
    "k1.lambdas_"
   ]
  },
  {
   "cell_type": "code",
   "execution_count": null,
   "id": "21197270",
   "metadata": {},
   "outputs": [],
   "source": [
    "# how does it compare two graphs and score it? : pairwise_operation returns kernel value\n",
    "\n",
    "\n",
    "tv = sm_kernel(x, y, self.kv, self.ke, self.k) \n",
    "# sm_kernel: returns tv_np : np.array An array holding values for all clique sizes from 0 to k.\n",
    "kscore=  np.dot(self.lambdas_, tv)"
   ]
  },
  {
   "cell_type": "code",
   "execution_count": null,
   "id": "83a187cf",
   "metadata": {},
   "outputs": [],
   "source": [
    "# calculate k_V(v, v') based on labels found within each group of vertices"
   ]
  },
  {
   "cell_type": "markdown",
   "id": "d121a02b",
   "metadata": {},
   "source": [
    "idea : imbalance flow to find partition for groups of clusters -> use subgraph matching kernel for these subgraphs\n"
   ]
  },
  {
   "cell_type": "code",
   "execution_count": null,
   "id": "bab29213",
   "metadata": {},
   "outputs": [],
   "source": []
  }
 ],
 "metadata": {
  "kernelspec": {
   "display_name": "Python 3 (ipykernel)",
   "language": "python",
   "name": "python3"
  },
  "language_info": {
   "codemirror_mode": {
    "name": "ipython",
    "version": 3
   },
   "file_extension": ".py",
   "mimetype": "text/x-python",
   "name": "python",
   "nbconvert_exporter": "python",
   "pygments_lexer": "ipython3",
   "version": "3.7.0"
  }
 },
 "nbformat": 4,
 "nbformat_minor": 5
}
