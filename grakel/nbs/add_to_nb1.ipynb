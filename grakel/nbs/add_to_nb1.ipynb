{
 "cells": [
  {
   "cell_type": "code",
   "execution_count": null,
   "id": "85496a9a",
   "metadata": {},
   "outputs": [],
   "source": [
    "def custom_initialize_parse(self, X):\n",
    "    # set the networkx graph and other parameters\n",
    "    g1 = nx.Graph()\n",
    "\n",
    "    for (idx, x) in enumerate(iter(X)):\n",
    "\n",
    "        A = x.get_adjacency_matrix()\n",
    "        n = len(A)\n",
    "\n",
    "        nodes= np.arange(n)\n",
    "        g1.add_nodes_from(nodes)\n",
    "\n",
    "        rowid =0\n",
    "        for row in A:\n",
    "            colid = 0\n",
    "            for el in row:\n",
    "            \n",
    "                if el ==1:\n",
    "                    pair = (rowid, colid)\n",
    "                    g1.add_edge(pair)\n",
    "                    \n",
    "                colid+=1\n",
    "            rowid+=1\n",
    "        \n",
    "        # compute the q vector\n",
    "        q = nx.degree_centrality(g1)\n",
    "        \n",
    "        # save the weights\n",
    "        self.w = weights(A, q, self.beta)\n",
    "        \n",
    "\n",
    "# save the m most popular walks \n",
    "\n",
    "# run the walk with 2 highest probabilities \n",
    "\n",
    "\n",
    "# optimal assignment over the m^2 most popular match comparisons of walks"
   ]
  },
  {
   "cell_type": "code",
   "execution_count": null,
   "id": "6d0c5b10",
   "metadata": {},
   "outputs": [],
   "source": [
    "# halting: walks of longer length less significant\n",
    "\n",
    "# analysis of thm 1 for other method\n",
    "# https://proceedings.neurips.cc/paper/2015/file/31b3b31a1c2f8a370206f111127c0dbd-Paper.pdf\n",
    "\n",
    "\n",
    "# From the definition of the direct product of graphs, we can confirm the following relationships\n",
    "# between histogram kernels and the random walk kernel (pg. 4)\n"
   ]
  },
  {
   "cell_type": "code",
   "execution_count": 2,
   "id": "a0841236",
   "metadata": {},
   "outputs": [],
   "source": [
    "from queue import Queue\n",
    "q =Queue()"
   ]
  },
  {
   "cell_type": "code",
   "execution_count": null,
   "id": "0628b3e7",
   "metadata": {},
   "outputs": [],
   "source": []
  }
 ],
 "metadata": {
  "kernelspec": {
   "display_name": "Python 3 (ipykernel)",
   "language": "python",
   "name": "python3"
  },
  "language_info": {
   "codemirror_mode": {
    "name": "ipython",
    "version": 3
   },
   "file_extension": ".py",
   "mimetype": "text/x-python",
   "name": "python",
   "nbconvert_exporter": "python",
   "pygments_lexer": "ipython3",
   "version": "3.7.0"
  }
 },
 "nbformat": 4,
 "nbformat_minor": 5
}
