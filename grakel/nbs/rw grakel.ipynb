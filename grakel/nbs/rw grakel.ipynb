{
 "cells": [
  {
   "cell_type": "code",
   "execution_count": 2,
   "id": "66fe4abc",
   "metadata": {},
   "outputs": [],
   "source": [
    "import grakel\n",
    "import networkx as nx\n",
    "import numpy as np\n",
    "\n",
    "from grakel import Graph"
   ]
  },
  {
   "cell_type": "code",
   "execution_count": 3,
   "id": "1b1aa3fc",
   "metadata": {},
   "outputs": [],
   "source": [
    "edges_graph1 = {1:[2], 2:[1,3,4,5], 3:[2,4,6], 4:[2,3,5,6], 5:[2,4,6], 6:[3,4,5]}\n",
    "edges_graph1_edge_diff= {1:[2,3], 2:[1,3,4,5], 3:[1,2,4,6], 4:[2,3,5,6], 5:[2,4,6], 6:[3,4,5]}\n",
    "\n",
    "graph1 = Graph(edges_graph1)\n",
    "\n",
    "graph1_copy = Graph(edges_graph1)\n",
    "\n",
    "graph1_edge_diff = Graph(edges_graph1_edge_diff)"
   ]
  },
  {
   "cell_type": "code",
   "execution_count": 4,
   "id": "2d7ff699",
   "metadata": {},
   "outputs": [],
   "source": [
    "x = graph1.get_adjacency_matrix()"
   ]
  },
  {
   "cell_type": "code",
   "execution_count": 5,
   "id": "420c1004",
   "metadata": {},
   "outputs": [],
   "source": [
    "x1 = graph1_copy.get_adjacency_matrix()"
   ]
  },
  {
   "cell_type": "code",
   "execution_count": 6,
   "id": "ba33da65",
   "metadata": {},
   "outputs": [],
   "source": [
    "y = graph1_edge_diff.get_adjacency_matrix()"
   ]
  },
  {
   "cell_type": "code",
   "execution_count": 7,
   "id": "f1159ff2",
   "metadata": {},
   "outputs": [
    {
     "data": {
      "text/plain": [
       "array([[0., 1., 0., 0., 0., 0.],\n",
       "       [1., 0., 1., 1., 1., 0.],\n",
       "       [0., 1., 0., 1., 0., 1.],\n",
       "       [0., 1., 1., 0., 1., 1.],\n",
       "       [0., 1., 0., 1., 0., 1.],\n",
       "       [0., 0., 1., 1., 1., 0.]])"
      ]
     },
     "execution_count": 7,
     "metadata": {},
     "output_type": "execute_result"
    }
   ],
   "source": [
    "x"
   ]
  },
  {
   "cell_type": "code",
   "execution_count": 19,
   "id": "9e7d3413",
   "metadata": {},
   "outputs": [],
   "source": [
    "# test the triangle graphs\n",
    "edges_tri1 = {1:[2,3], 2:[1,3,4], 3:[1,2], 4:[2]}\n",
    "edges_tri2 = {1:[2,3], 2:[1,3,4], 3:[1,2,4], 4:[2,3]}\n",
    "\n",
    "tri1 = Graph(edges_tri1)\n",
    "tri2 = Graph(edges_tri2)\n",
    "\n",
    "# calculate for k= 3\n",
    "atri1 = tri1.get_adjacency_matrix()\n",
    "atri2 = tri2.get_adjacency_matrix()\n"
   ]
  },
  {
   "cell_type": "code",
   "execution_count": 24,
   "id": "1c7d9b0a",
   "metadata": {},
   "outputs": [
    {
     "data": {
      "text/plain": [
       "array([[0., 1., 1., 0.],\n",
       "       [1., 0., 1., 1.],\n",
       "       [1., 1., 0., 1.],\n",
       "       [0., 1., 1., 0.]])"
      ]
     },
     "execution_count": 24,
     "metadata": {},
     "output_type": "execute_result"
    }
   ],
   "source": [
    "atri2"
   ]
  },
  {
   "cell_type": "code",
   "execution_count": 20,
   "id": "31b98e72",
   "metadata": {},
   "outputs": [
    {
     "data": {
      "text/plain": [
       "array([[0., 1., 1., 0.],\n",
       "       [1., 0., 1., 1.],\n",
       "       [1., 1., 0., 0.],\n",
       "       [0., 1., 0., 0.]])"
      ]
     },
     "execution_count": 20,
     "metadata": {},
     "output_type": "execute_result"
    }
   ],
   "source": [
    "atri1 "
   ]
  },
  {
   "cell_type": "code",
   "execution_count": 21,
   "id": "26e0a46f",
   "metadata": {},
   "outputs": [
    {
     "data": {
      "text/plain": [
       "array([[2., 1., 1., 1.],\n",
       "       [1., 3., 1., 0.],\n",
       "       [1., 1., 2., 1.],\n",
       "       [1., 0., 1., 1.]])"
      ]
     },
     "execution_count": 21,
     "metadata": {},
     "output_type": "execute_result"
    }
   ],
   "source": [
    "np.linalg.matrix_power(atri1, 2)"
   ]
  },
  {
   "cell_type": "code",
   "execution_count": 22,
   "id": "27736010",
   "metadata": {},
   "outputs": [
    {
     "data": {
      "text/plain": [
       "array([[2., 4., 3., 1.],\n",
       "       [4., 2., 4., 3.],\n",
       "       [3., 4., 2., 1.],\n",
       "       [1., 3., 1., 0.]])"
      ]
     },
     "execution_count": 22,
     "metadata": {},
     "output_type": "execute_result"
    }
   ],
   "source": [
    "np.linalg.matrix_power(atri1, 3)"
   ]
  },
  {
   "cell_type": "code",
   "execution_count": 23,
   "id": "49118fca",
   "metadata": {},
   "outputs": [
    {
     "data": {
      "text/plain": [
       "array([[4., 6., 5., 2.],\n",
       "       [6., 5., 6., 4.],\n",
       "       [5., 6., 4., 2.],\n",
       "       [2., 4., 2., 1.]])"
      ]
     },
     "execution_count": 23,
     "metadata": {},
     "output_type": "execute_result"
    }
   ],
   "source": [
    "atri1+ np.linalg.matrix_power(atri1, 2) +np.linalg.matrix_power(atri1, 3)\n"
   ]
  },
  {
   "cell_type": "code",
   "execution_count": 8,
   "id": "a3f6a665",
   "metadata": {},
   "outputs": [
    {
     "name": "stdout",
     "output_type": "stream",
     "text": [
      "6\n",
      "6\n"
     ]
    }
   ],
   "source": [
    "# If A is an m × n matrix and B is a p × q matrix,\n",
    "# then the Kronecker product A ⊗ B is the pm × qn block matrix:\n",
    "\n",
    "print(len(x))\n",
    "print(len(x[0]))\n",
    "\n",
    "m=len(x)\n",
    "n = len(x[0])\n",
    "\n",
    "p = len(x1)\n",
    "q = len(x1[0])\n",
    "\n",
    "pm= p*m\n",
    "qn= q*n"
   ]
  },
  {
   "cell_type": "code",
   "execution_count": 9,
   "id": "bf91f5fe",
   "metadata": {},
   "outputs": [
    {
     "name": "stdout",
     "output_type": "stream",
     "text": [
      "The history saving thread hit an unexpected error (OperationalError('database or disk is full')).History will not be written to the database.\n"
     ]
    },
    {
     "ename": "AttributeError",
     "evalue": "'numpy.ndarray' object has no attribute 'keys'",
     "output_type": "error",
     "traceback": [
      "\u001b[0;31m---------------------------------------------------------------------------\u001b[0m",
      "\u001b[0;31mAttributeError\u001b[0m                            Traceback (most recent call last)",
      "\u001b[0;32m/var/folders/h4/9w7zckp13clcn6nvyrcs5ksm0000gn/T/ipykernel_2908/3776262894.py\u001b[0m in \u001b[0;36m<module>\u001b[0;34m\u001b[0m\n\u001b[1;32m      1\u001b[0m \u001b[0;31m#ck = set(X.keys()) & (set(Y.keys()))\u001b[0m\u001b[0;34m\u001b[0m\u001b[0;34m\u001b[0m\u001b[0m\n\u001b[0;32m----> 2\u001b[0;31m \u001b[0mset\u001b[0m\u001b[0;34m(\u001b[0m\u001b[0mx\u001b[0m\u001b[0;34m.\u001b[0m\u001b[0mkeys\u001b[0m\u001b[0;34m(\u001b[0m\u001b[0;34m)\u001b[0m\u001b[0;34m)\u001b[0m\u001b[0;34m\u001b[0m\u001b[0m\n\u001b[0m",
      "\u001b[0;31mAttributeError\u001b[0m: 'numpy.ndarray' object has no attribute 'keys'"
     ]
    }
   ],
   "source": [
    "#ck = set(X.keys()) & (set(Y.keys()))\n",
    "set(x.keys())"
   ]
  },
  {
   "cell_type": "code",
   "execution_count": 9,
   "id": "7c3c68a6",
   "metadata": {},
   "outputs": [],
   "source": [
    "# double check how kroneck prod works\n",
    "# Claculate Kronecker product matrix\n",
    "\n",
    "# X,Y are tuples of adj matrices\n",
    "X=x\n",
    "Y=x1\n",
    "\n",
    "ck = pm\n",
    "\n",
    "XY = np.zeros(shape=(pm, qn))\n",
    "\n",
    "xy_array = []\n",
    "\n",
    "for k in range(6):\n",
    "    \n",
    "    XY += np.kron(X[k], Y[k])\n",
    "    xy_array.append(np.kron(X[k], Y[k]))\n",
    "\n",
    "# XY is a square matrix\n",
    "s = XY.shape[0]"
   ]
  },
  {
   "cell_type": "code",
   "execution_count": 14,
   "id": "9530df2e",
   "metadata": {},
   "outputs": [],
   "source": [
    "XYkron = np.kron(X,Y)"
   ]
  },
  {
   "cell_type": "code",
   "execution_count": 18,
   "id": "4c7fe5fd",
   "metadata": {},
   "outputs": [
    {
     "data": {
      "text/plain": [
       "array([0., 1., 0., 1., 0., 1., 0., 0., 0., 0., 0., 0., 0., 1., 0., 1., 0.,\n",
       "       1., 0., 1., 0., 1., 0., 1., 0., 1., 0., 1., 0., 1., 0., 0., 0., 0.,\n",
       "       0., 0.])"
      ]
     },
     "execution_count": 18,
     "metadata": {},
     "output_type": "execute_result"
    }
   ],
   "source": [
    "XYkron[10]"
   ]
  },
  {
   "cell_type": "code",
   "execution_count": 13,
   "id": "555a4bb7",
   "metadata": {},
   "outputs": [
    {
     "data": {
      "text/plain": [
       "36"
      ]
     },
     "execution_count": 13,
     "metadata": {},
     "output_type": "execute_result"
    }
   ],
   "source": [
    "s"
   ]
  },
  {
   "cell_type": "code",
   "execution_count": 14,
   "id": "992d688f",
   "metadata": {},
   "outputs": [
    {
     "data": {
      "text/plain": [
       "array([[1., 0., 1., ..., 2., 1., 3.],\n",
       "       [1., 0., 1., ..., 2., 1., 3.],\n",
       "       [1., 0., 1., ..., 2., 1., 3.],\n",
       "       ...,\n",
       "       [1., 0., 1., ..., 2., 1., 3.],\n",
       "       [1., 0., 1., ..., 2., 1., 3.],\n",
       "       [1., 0., 1., ..., 2., 1., 3.]])"
      ]
     },
     "execution_count": 14,
     "metadata": {},
     "output_type": "execute_result"
    }
   ],
   "source": [
    "XY"
   ]
  },
  {
   "cell_type": "code",
   "execution_count": 10,
   "id": "6170578b",
   "metadata": {},
   "outputs": [
    {
     "data": {
      "text/plain": [
       "array([0., 0., 0., 0., 0., 0., 0., 1., 0., 0., 0., 0., 0., 0., 0., 0., 0.,\n",
       "       0., 0., 0., 0., 0., 0., 0., 0., 0., 0., 0., 0., 0., 0., 0., 0., 0.,\n",
       "       0., 0.])"
      ]
     },
     "execution_count": 10,
     "metadata": {},
     "output_type": "execute_result"
    }
   ],
   "source": [
    "xy_array[0]"
   ]
  },
  {
   "cell_type": "code",
   "execution_count": 11,
   "id": "71709e5a",
   "metadata": {},
   "outputs": [
    {
     "data": {
      "text/plain": [
       "array([1., 0., 1., 1., 1., 0., 0., 0., 0., 0., 0., 0., 1., 0., 1., 1., 1.,\n",
       "       0., 1., 0., 1., 1., 1., 0., 1., 0., 1., 1., 1., 0., 0., 0., 0., 0.,\n",
       "       0., 0.])"
      ]
     },
     "execution_count": 11,
     "metadata": {},
     "output_type": "execute_result"
    }
   ],
   "source": [
    "xy_array[1]"
   ]
  },
  {
   "cell_type": "code",
   "execution_count": 12,
   "id": "d6625e67",
   "metadata": {},
   "outputs": [
    {
     "data": {
      "text/plain": [
       "array([0., 0., 0., 0., 0., 0., 0., 1., 0., 1., 0., 1., 0., 0., 0., 0., 0.,\n",
       "       0., 0., 1., 0., 1., 0., 1., 0., 0., 0., 0., 0., 0., 0., 1., 0., 1.,\n",
       "       0., 1.])"
      ]
     },
     "execution_count": 12,
     "metadata": {},
     "output_type": "execute_result"
    }
   ],
   "source": [
    "xy_array[2]"
   ]
  },
  {
   "cell_type": "code",
   "execution_count": null,
   "id": "1364620e",
   "metadata": {},
   "outputs": [],
   "source": [
    "#if self.p is not None:\n",
    "\n",
    "mu0 = 1\n",
    "\n",
    "P = np.eye(XYkron.shape[0])\n",
    "S = mu0 * P\n",
    "for k in self.mu_[1:]:\n",
    "    P = np.matmul(P, XYkron)\n",
    "    S += k*P\n"
   ]
  },
  {
   "cell_type": "code",
   "execution_count": null,
   "id": "74adce6d",
   "metadata": {},
   "outputs": [],
   "source": [
    "#if self.kernel_type == \"geometric\":\n",
    "S_Geom = inv(np.identity(s) - self.lamda*XY).T\n",
    "#elif self.kernel_type == \"exponential\":\n",
    "\n",
    "S_exp = expm(self.lamda*XY).T\n",
    "        "
   ]
  },
  {
   "cell_type": "code",
   "execution_count": null,
   "id": "cad5981c",
   "metadata": {},
   "outputs": [],
   "source": [
    "# from random walk, parse input\n",
    "\n",
    "def parse_input(self, X):\n",
    "    \"\"\"Parse and create features for graphlet_sampling kernel.\n",
    "    Parameters\n",
    "    ----------\n",
    "    X : iterable\n",
    "        For the input to pass the test, we must have:\n",
    "        Each element must be an iterable with at most three features and at\n",
    "        least one. The first that is obligatory is a valid graph structure\n",
    "        (adjacency matrix or edge_dictionary) while the second is\n",
    "        node_labels and the third edge_labels (that correspond to the given\n",
    "        graph format). A valid input also consists of graph type objects.\n",
    "    Returns\n",
    "    -------\n",
    "    out : list\n",
    "        The extracted adjacency matrices for any given input.\n",
    "    \"\"\"\n",
    "    if not isinstance(X, collections.Iterable):\n",
    "        raise TypeError('input must be an iterable\\n')\n",
    "    else:\n",
    "        i = 0\n",
    "        proc = list()\n",
    "        for (idx, x) in enumerate(iter(X)):\n",
    "            is_iter = isinstance(x, collections.Iterable)\n",
    "            if is_iter:\n",
    "                x = list(x)\n",
    "            if is_iter and len(x) in [1, 2, 3]:\n",
    "                if len(x) == 0:\n",
    "                    warnings.warn('Ignoring empty element' +\n",
    "                                  ' on index: '+str(idx))\n",
    "                    continue\n",
    "                else:\n",
    "                    x = Graph(x[0], x[1], {}, self._graph_format)\n",
    "            elif type(x) is not Graph:\n",
    "                raise TypeError('each element of X must be either a ' +\n",
    "                                'graph or an iterable with at least 2 ' +\n",
    "                                'and at most 3 elements\\n')\n",
    "            i += 1\n",
    "            x.desired_format(\"adjacency\")\n",
    "            Ax = x.get_adjacency_matrix()\n",
    "            Lx = x.get_labels(purpose=\"adjacency\")\n",
    "            Lx = [Lx[idx] for idx in range(Ax.shape[0])]\n",
    "            proc.append((Ax, Lx, Ax.shape[0]))\n",
    "\n",
    "        out = list()\n",
    "        for Ax, Lx, s in proc:\n",
    "            amss = dict()\n",
    "            labels = set(Lx)\n",
    "            Lx = np.array(Lx)\n",
    "            for t in product(labels, labels):\n",
    "                selector = np.matmul(np.expand_dims(Lx == t[0], axis=1),\n",
    "                                     np.expand_dims(Lx == t[1], axis=0))\n",
    "                amss[t] = Ax * selector\n",
    "            out.append((amss, s))\n",
    "\n",
    "        if i == 0:\n",
    "            raise ValueError('parsed input is empty')\n",
    "\n",
    "        return out"
   ]
  }
 ],
 "metadata": {
  "kernelspec": {
   "display_name": "Python 3 (ipykernel)",
   "language": "python",
   "name": "python3"
  },
  "language_info": {
   "codemirror_mode": {
    "name": "ipython",
    "version": 3
   },
   "file_extension": ".py",
   "mimetype": "text/x-python",
   "name": "python",
   "nbconvert_exporter": "python",
   "pygments_lexer": "ipython3",
   "version": "3.7.0"
  }
 },
 "nbformat": 4,
 "nbformat_minor": 5
}
