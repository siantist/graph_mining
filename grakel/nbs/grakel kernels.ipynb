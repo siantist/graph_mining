{
 "cells": [
  {
   "cell_type": "code",
   "execution_count": 12,
   "id": "a7f8d236",
   "metadata": {},
   "outputs": [],
   "source": [
    "import grakel\n",
    "import networkx as nx\n",
    "import numpy as np"
   ]
  },
  {
   "cell_type": "code",
   "execution_count": 4,
   "id": "d5e950f3",
   "metadata": {},
   "outputs": [],
   "source": [
    "from grakel import Graph\n",
    "edges = {1: [2, 3], 2: [1], 3: [1]}\n",
    "G = Graph(edges)"
   ]
  },
  {
   "cell_type": "code",
   "execution_count": null,
   "id": "8a4dbc65",
   "metadata": {},
   "outputs": [],
   "source": [
    "#https://ysig.github.io/GraKeL/0.1a8/documentation/introduction.html"
   ]
  },
  {
   "cell_type": "code",
   "execution_count": 6,
   "id": "a3228c1e",
   "metadata": {},
   "outputs": [],
   "source": [
    "#edges2 = {1:[2,3,4], 2:[1,3,4], 3:[1,2], 4:[2,5], 5:[4]}\n",
    "edges2 = {1:[2,3], 2:[1,3], 3:[1,2,4,5,6], 4:[3,5], 5:[3,4,6], 6:[3,5]}\n",
    "\n",
    "G2 = Graph(edges2)"
   ]
  },
  {
   "cell_type": "code",
   "execution_count": 19,
   "id": "9a84dc64",
   "metadata": {},
   "outputs": [],
   "source": [
    "# make networkx graph\n",
    "G2 = nx.Graph()\n",
    "G2.add_nodes_from([1,2, 3,4,5,6])\n",
    "G2.add_edges_from([(1, 2), (1, 3), (2,3), (3,4), (3,5), (3,6), (5,6), (4,5), (1,6)])"
   ]
  },
  {
   "cell_type": "code",
   "execution_count": 20,
   "id": "73ba835a",
   "metadata": {},
   "outputs": [
    {
     "data": {
      "text/plain": [
       "9"
      ]
     },
     "execution_count": 20,
     "metadata": {},
     "output_type": "execute_result"
    }
   ],
   "source": [
    "G2.number_of_edges()"
   ]
  },
  {
   "cell_type": "code",
   "execution_count": 52,
   "id": "63f0adfb",
   "metadata": {},
   "outputs": [
    {
     "data": {
      "image/png": "[encoded data removed]",
      "text/plain": [
       "<Figure size 432x288 with 1 Axes>"
      ]
     },
     "metadata": {},
     "output_type": "display_data"
    }
   ],
   "source": [
    "nx.draw(G2)"
   ]
  },
  {
   "cell_type": "code",
   "execution_count": 80,
   "id": "eded753b",
   "metadata": {},
   "outputs": [
    {
     "name": "stdout",
     "output_type": "stream",
     "text": [
      "ilen is 2\n",
      "ilen is 1\n",
      "ilen is 1\n"
     ]
    }
   ],
   "source": [
    "p2 = Phi(G2, 2,2) # k+1 = 3"
   ]
  },
  {
   "cell_type": "code",
   "execution_count": 81,
   "id": "d485d934",
   "metadata": {},
   "outputs": [
    {
     "data": {
      "text/plain": [
       "(array([[0., 1., 0., 0.],\n",
       "        [1., 0., 0., 0.],\n",
       "        [0., 0., 0., 0.],\n",
       "        [0., 0., 0., 0.]]),\n",
       " [(1, 0), (0, 1)],\n",
       " [[1, 2, 3], [1, 3, 6], [3, 4, 5], [3, 5, 6]])"
      ]
     },
     "execution_count": 81,
     "metadata": {},
     "output_type": "execute_result"
    }
   ],
   "source": [
    "p2"
   ]
  },
  {
   "cell_type": "code",
   "execution_count": 69,
   "id": "81ded381",
   "metadata": {},
   "outputs": [],
   "source": [
    "ind1=0\n",
    "\n",
    "for x in k_cliques:\n",
    "    #print(\"x is\", x)\n",
    "    xtup = convert_tuple(x)\n",
    "    map1[ind1] = x         \n",
    "    map2[xtup] = ind1\n",
    "    ind1= ind1+1"
   ]
  },
  {
   "cell_type": "code",
   "execution_count": 70,
   "id": "1724e5ca",
   "metadata": {},
   "outputs": [
    {
     "data": {
      "text/plain": [
       "{0: [1, 2, 3], 1: [1, 3, 6], 2: [3, 4, 5], 3: [3, 5, 6]}"
      ]
     },
     "execution_count": 70,
     "metadata": {},
     "output_type": "execute_result"
    }
   ],
   "source": [
    "map1"
   ]
  },
  {
   "cell_type": "code",
   "execution_count": 71,
   "id": "ad15f410",
   "metadata": {},
   "outputs": [
    {
     "data": {
      "text/plain": [
       "{(1, 2, 3): 0, (1, 3, 6): 1, (3, 4, 5): 2, (3, 5, 6): 3}"
      ]
     },
     "execution_count": 71,
     "metadata": {},
     "output_type": "execute_result"
    }
   ],
   "source": [
    "map2"
   ]
  },
  {
   "cell_type": "code",
   "execution_count": 77,
   "id": "9cdc208f",
   "metadata": {},
   "outputs": [
    {
     "name": "stdout",
     "output_type": "stream",
     "text": [
      "ind 1 of c1 is  0\n",
      "c1 tup is: (1, 2, 3)\n",
      "c1 tup is: (1, 2, 3)\n",
      "c1 tup is: (1, 2, 3)\n",
      "c1 tup is: (1, 2, 3)\n",
      "ind 1 of c1 is  1\n",
      "c1 tup is: (1, 3, 6)\n",
      "setlist1 is, {1, 3, 6}\n",
      "setlist2 is, {1, 2, 3}\n",
      "ilen is 2\n",
      "greater\n",
      "c1 tup is: (1, 3, 6)\n",
      "c1 tup is: (1, 3, 6)\n",
      "c1 tup is: (1, 3, 6)\n",
      "ind 1 of c1 is  2\n",
      "c1 tup is: (3, 4, 5)\n",
      "setlist1 is, {3, 4, 5}\n",
      "setlist2 is, {1, 2, 3}\n",
      "ilen is 1\n",
      "c1 tup is: (3, 4, 5)\n",
      "c1 tup is: (3, 4, 5)\n",
      "c1 tup is: (3, 4, 5)\n",
      "ind 1 of c1 is  3\n",
      "c1 tup is: (3, 5, 6)\n",
      "setlist1 is, {3, 5, 6}\n",
      "setlist2 is, {1, 2, 3}\n",
      "ilen is 1\n",
      "c1 tup is: (3, 5, 6)\n",
      "c1 tup is: (3, 5, 6)\n",
      "c1 tup is: (3, 5, 6)\n"
     ]
    }
   ],
   "source": [
    "k_cliques = [[1, 2, 3], [1, 3, 6], [3, 4, 5], [3, 5, 6]]\n",
    "\n",
    "adj_mat = np.zeros((4,4))\n",
    "\n",
    "new_edge_list = []\n",
    "\n",
    "# check adjacency up to m vertices\n",
    "ind1 =0\n",
    "ind2 = 0\n",
    "n=2\n",
    "for c1 in k_cliques:\n",
    "    print(\"ind 1 of c1 is \", ind1)\n",
    "    for c2 in k_cliques:\n",
    "        c1tup = convert_tuple(c1)\n",
    "        c2tup = convert_tuple(c2)\n",
    "        print(\"c1 tup is:\", c1tup)\n",
    "        index1 = map2[c1tup]\n",
    "        index2 = map2[c2tup]\n",
    "        # compare lists for same elements\n",
    "        if ind1== ind2:#c1 == c2:\n",
    "            continue\n",
    "        counter1 = collections.Counter(c1)\n",
    "        counter2 = collections.Counter(c2)\n",
    "        set_list1 = set(tuple(d for d in sorted(counter1)))\n",
    "        set_list2 = set(tuple(d for d in sorted(counter2)))\n",
    "        intersect = set_list1.intersection(set_list2)\n",
    "        ilen = len(intersect)\n",
    "        print(\"setlist1 is,\", set_list1)\n",
    "        print(\"setlist2 is,\", set_list2)\n",
    "        print(\"ilen is\", ilen)\n",
    "        # modification to the operator: if there is n=1 or more vertices in common\n",
    "        if ilen>= n:\n",
    "            # add edge\n",
    "            print(\"greater\")\n",
    "            adj_mat[index1, index2] = 1\n",
    "            adj_mat[index2, index1] = 1\n",
    "            new_edge_list.append((index1, index2))\n",
    "            new_edge_list.append((index2, index1))\n",
    "        ind2 = ind2+1\n",
    "    \n",
    "    ind1 = ind1+1\n",
    "    \n"
   ]
  },
  {
   "cell_type": "code",
   "execution_count": 78,
   "id": "8ce9aa3b",
   "metadata": {},
   "outputs": [
    {
     "data": {
      "text/plain": [
       "array([[0., 1., 0., 0.],\n",
       "       [1., 0., 0., 0.],\n",
       "       [0., 0., 0., 0.],\n",
       "       [0., 0., 0., 0.]])"
      ]
     },
     "execution_count": 78,
     "metadata": {},
     "output_type": "execute_result"
    }
   ],
   "source": [
    "adj_mat"
   ]
  },
  {
   "cell_type": "code",
   "execution_count": 34,
   "id": "d8dd8ed4",
   "metadata": {},
   "outputs": [],
   "source": [
    "dic1 = {}\n",
    "dic1[(1,2,3)] = 4"
   ]
  },
  {
   "cell_type": "code",
   "execution_count": 37,
   "id": "f4d7ce64",
   "metadata": {},
   "outputs": [],
   "source": [
    "def convert_tuple(list):\n",
    "    return tuple(i for i in list)"
   ]
  },
  {
   "cell_type": "code",
   "execution_count": null,
   "id": "d4db64fb",
   "metadata": {},
   "outputs": [],
   "source": [
    "# save aggregated info \n"
   ]
  },
  {
   "cell_type": "code",
   "execution_count": 25,
   "id": "084487c0",
   "metadata": {},
   "outputs": [
    {
     "data": {
      "text/plain": [
       "(array([], shape=(0, 0), dtype=float64), [])"
      ]
     },
     "execution_count": 25,
     "metadata": {},
     "output_type": "execute_result"
    }
   ],
   "source": [
    "p2"
   ]
  },
  {
   "cell_type": "code",
   "execution_count": 4,
   "id": "84320200",
   "metadata": {},
   "outputs": [],
   "source": [
    "# from grakel/examples\n",
    "from grakel.datasets import fetch_dataset"
   ]
  },
  {
   "cell_type": "code",
   "execution_count": 5,
   "id": "c46e0f61",
   "metadata": {},
   "outputs": [],
   "source": [
    "from grakel.kernels import ShortestPath"
   ]
  },
  {
   "cell_type": "code",
   "execution_count": 6,
   "id": "5120ce38",
   "metadata": {},
   "outputs": [],
   "source": [
    "MUTAG = fetch_dataset(\"MUTAG\", verbose=False)"
   ]
  },
  {
   "cell_type": "code",
   "execution_count": 7,
   "id": "8d14209b",
   "metadata": {},
   "outputs": [],
   "source": [
    "G,y = MUTAG.data, MUTAG.target"
   ]
  },
  {
   "cell_type": "code",
   "execution_count": 9,
   "id": "4e343acf",
   "metadata": {},
   "outputs": [
    {
     "data": {
      "text/plain": [
       "188"
      ]
     },
     "execution_count": 9,
     "metadata": {},
     "output_type": "execute_result"
    }
   ],
   "source": [
    "len(G)"
   ]
  },
  {
   "cell_type": "code",
   "execution_count": 10,
   "id": "8af1a105",
   "metadata": {},
   "outputs": [
    {
     "data": {
      "text/plain": [
       "[{(18, 19),\n",
       "  (18, 27),\n",
       "  (19, 18),\n",
       "  (19, 20),\n",
       "  (20, 19),\n",
       "  (20, 21),\n",
       "  (20, 25),\n",
       "  (21, 20),\n",
       "  (21, 22),\n",
       "  (22, 21),\n",
       "  (22, 23),\n",
       "  (23, 22),\n",
       "  (23, 24),\n",
       "  (24, 23),\n",
       "  (24, 25),\n",
       "  (25, 20),\n",
       "  (25, 24),\n",
       "  (25, 26),\n",
       "  (26, 25),\n",
       "  (26, 27),\n",
       "  (26, 28),\n",
       "  (27, 18),\n",
       "  (27, 26),\n",
       "  (28, 26),\n",
       "  (28, 29),\n",
       "  (28, 30),\n",
       "  (29, 28),\n",
       "  (30, 28)},\n",
       " {18: 0,\n",
       "  19: 0,\n",
       "  20: 0,\n",
       "  21: 0,\n",
       "  22: 0,\n",
       "  23: 0,\n",
       "  24: 1,\n",
       "  25: 0,\n",
       "  26: 0,\n",
       "  27: 0,\n",
       "  28: 1,\n",
       "  29: 2,\n",
       "  30: 2},\n",
       " {(19, 18): 0,\n",
       "  (18, 19): 0,\n",
       "  (20, 19): 0,\n",
       "  (19, 20): 0,\n",
       "  (21, 20): 0,\n",
       "  (20, 21): 0,\n",
       "  (22, 21): 0,\n",
       "  (21, 22): 0,\n",
       "  (23, 22): 0,\n",
       "  (22, 23): 0,\n",
       "  (24, 23): 0,\n",
       "  (23, 24): 0,\n",
       "  (25, 24): 0,\n",
       "  (24, 25): 0,\n",
       "  (25, 20): 0,\n",
       "  (20, 25): 0,\n",
       "  (26, 25): 0,\n",
       "  (25, 26): 0,\n",
       "  (27, 26): 0,\n",
       "  (26, 27): 0,\n",
       "  (27, 18): 0,\n",
       "  (18, 27): 0,\n",
       "  (28, 26): 1,\n",
       "  (26, 28): 1,\n",
       "  (29, 28): 2,\n",
       "  (28, 29): 2,\n",
       "  (30, 28): 1,\n",
       "  (28, 30): 1}]"
      ]
     },
     "execution_count": 10,
     "metadata": {},
     "output_type": "execute_result"
    }
   ],
   "source": [
    "G[1]"
   ]
  },
  {
   "cell_type": "code",
   "execution_count": 11,
   "id": "9991ef85",
   "metadata": {},
   "outputs": [],
   "source": [
    "from sklearn.model_selection import train_test_split\n",
    "G_train, G_test, y_train, y_test = train_test_split(G,y, test_size=0.1, random_state= 30)"
   ]
  },
  {
   "cell_type": "code",
   "execution_count": null,
   "id": "37f24d83",
   "metadata": {},
   "outputs": [],
   "source": [
    "\n",
    "# Uses the shortest path kernel to generate the kernel matrices\n",
    "gk = ShortestPath(normalize=True)\n",
    "K_train = gk.fit_transform(G_train)\n",
    "K_test = gk.transform(G_test)\n",
    "\n",
    "# Uses the SVM classifier to perform classification\n",
    "clf = SVC(kernel=\"precomputed\")\n",
    "clf.fit(K_train, y_train)\n",
    "y_pred = clf.predict(K_test)\n",
    "\n",
    "# Computes and prints the classification accuracy\n",
    "acc = accuracy_score(y_test, y_pred)\n",
    "print(\"Accuracy:\", str(round(acc*100, 2)) + \"%\")"
   ]
  },
  {
   "cell_type": "markdown",
   "id": "193f3116",
   "metadata": {},
   "source": [
    "creating your own kernel:\n",
    "    \n",
    "https://ysig.github.io/GraKeL/0.1a8/documentation/creating_kernels.html\n",
    "\n",
    "\n",
    "The vertex-histogram-kernel, defined in [SB15] p.4 section 2.3 is a simple kernel, that calculates label histograms for each graph, that is: counts the number of occurrences for each label value and as a kernel between two graphs calculates the sum of products between frequencies of common occurrences.\n",
    "\n",
    "https://ysig.github.io/GraKeL/0.1a8/kernels/shortest_path.html\n",
    "\n",
    "https://github.com/ysig/GraKeL/blob/master/grakel/kernels/vertex_histogram.py\n",
    "\n",
    "\n",
    "Firstly the verbose, normalize, n_jobs parameters should be always included in the kernel definition and passed as is, to the father method by calling his __init__ method. \n",
    "\n",
    "\n",
    "The parse_input method actually produces all the features used from the kernel. The default procedure is that both fit and transform use parse_input to create features for each graph producing a list where each element corresponds to the index indicating that graph, from the corresponding iterable (while ignoring empty elements). Those lists are then used feeding single list elements to the pairwise_operation method, calculating a final kernel value.\n",
    "\n",
    "input to parse input method: X : iterable\n",
    "            For the input to pass the test, we must have:\n",
    "            Each element must be an iterable with at *most* three features ( $\\leq 3$) and at\n",
    "            least one. The first that is obligatory is a valid graph structure\n",
    "            (adjacency matrix or edge_dictionary) while the second is\n",
    "            node_labels and the *third* edge_labels (that fitting the given graph\n",
    "            format)."
   ]
  },
  {
   "cell_type": "code",
   "execution_count": null,
   "id": "62b958e5",
   "metadata": {},
   "outputs": [],
   "source": [
    "# idea: compare the results of edge histogram after transforming the graph\n",
    "\n"
   ]
  },
  {
   "cell_type": "code",
   "execution_count": 40,
   "id": "82868d1b",
   "metadata": {},
   "outputs": [],
   "source": [
    "# import library elements\n",
    "\n",
    "import collections\n",
    "from warnings import warn\n",
    "from collections import Counter, Iterable\n",
    "from grakel import Kernel, Graph\n"
   ]
  },
  {
   "cell_type": "code",
   "execution_count": null,
   "id": "6bbf304e",
   "metadata": {},
   "outputs": [],
   "source": [
    "class VertexHistogram_modified(Kernel):\n",
    "        \n",
    "    def __init__(self, n_jobs=None, normalize=False, verbose=False, sparse='auto'):\n",
    "        \"\"\"Initialise a vertex histogram kernel.\"\"\"\n",
    "        super(VertexHistogram, self).__init__(n_jobs=n_jobs, normalize=normalize, verbose=verbose)\n",
    "        self.sparse = sparse\n",
    "        self._initialized.update({'sparse': True})\n",
    "        \n",
    "    def _initialized(self):\n",
    "        \"\"\"Initialize all transformer arguments, needing initialization.\"\"\"\n",
    "        if not self._initialized[\"n_jobs\"]:\n",
    "            if self.n_jobs is not None:\n",
    "                warn('no implemented parallelization for VertexHistogram')\n",
    "            self._initialized[\"n_jobs\"] = True\n",
    "        if not self._initialized[\"sparse\"]:\n",
    "            if self.sparse not in ['auto', False, True]:\n",
    "                TypeError('sparse could be False, True or auto')\n",
    "            self._initialized[\"sparse\"] = True"
   ]
  },
  {
   "cell_type": "code",
   "execution_count": 79,
   "id": "f1d89869",
   "metadata": {},
   "outputs": [],
   "source": [
    "# Phi_{k,n} operator has k-simplices of G as vertices\n",
    "# 2 subgraphs are adjacent if they lie in common simplex with at most n vertices (pg. 136) \n",
    "# https://docs.scipy.org/doc/scipy/reference/generated/scipy.spatial.Delaunay.html\n",
    "\n",
    "# k simplex is complex graph with k+1 vertices\n",
    "\n",
    "def convert_tuple(list):\n",
    "    return tuple(i for i in list)\n",
    "\n",
    "def Phi(g, k,n):\n",
    "    \n",
    "    all_cliques= nx.enumerate_all_cliques(g)\n",
    "\n",
    "    k_cliques=[x for x in all_cliques if len(x)== k+1 ]\n",
    "    \n",
    "    # must generate simplex of m vertices\n",
    "    n_cliques = [x for x in all_cliques if len(x) <= n]\n",
    "\n",
    "    # create new graph with vertex set k_cliques\n",
    "\n",
    "    # map from index to set\n",
    "    map1 = {}\n",
    "    map2 = {} # backwards map\n",
    "    ind1=0\n",
    "\n",
    "    for x in k_cliques:\n",
    "        #print(\"x is\", x)\n",
    "        xtup = convert_tuple(x)\n",
    "        map1[ind1] = x         \n",
    "        map2[xtup] = ind1\n",
    "        ind1= ind1+1\n",
    "\n",
    "    adj_mat = np.zeros((ind1,ind1))\n",
    "    new_edge_list = []\n",
    "\n",
    "    # check adjacency up to m vertices\n",
    "    ind1 =0\n",
    "    ind2 = 0\n",
    "    for c1 in k_cliques:\n",
    "        for c2 in k_cliques:\n",
    "            c1tup = convert_tuple(c1)\n",
    "            c2tup = convert_tuple(c2)\n",
    "            index1 = map2[c1tup]\n",
    "            index2 = map2[c2tup]\n",
    "            # compare lists for same elements\n",
    "            if ind1== ind2:#c1 == c2:\n",
    "                continue\n",
    "            counter1 = collections.Counter(c1)\n",
    "            counter2 = collections.Counter(c2)\n",
    "            set_list1 = set(tuple(d for d in sorted(counter1)))\n",
    "            set_list2 = set(tuple(d for d in sorted(counter2)))\n",
    "            intersect = set_list1.intersection(set_list2)\n",
    "            ilen = len(intersect)\n",
    "            print(\"ilen is\", ilen)\n",
    "            # modification to the input of the operator: if there is n=1 or more vertices in common\n",
    "            if ilen>= n:\n",
    "                # add edge\n",
    "                adj_mat[index1, index2] = 1\n",
    "                adj_mat[index2, index1] = 1\n",
    "                new_edge_list.append((index1, index2))\n",
    "                new_edge_list.append((index2, index1))\n",
    "            ind2 = ind2+1\n",
    "        ind1 = ind1+1\n",
    "\n",
    "    return adj_mat, new_edge_list, k_cliques    "
   ]
  },
  {
   "cell_type": "code",
   "execution_count": null,
   "id": "d8b6d158",
   "metadata": {},
   "outputs": [],
   "source": [
    "# now apply the grakel kernels to the graph\n",
    "\n",
    "# subgraph kernel,\n",
    "\n",
    "# optimize Rademacher complexity among different groupings of vertices / edges\n"
   ]
  },
  {
   "cell_type": "markdown",
   "id": "3a626fe0",
   "metadata": {},
   "source": [
    "https://ysig.github.io/GraKeL/0.1a8/kernels/subgraph_matching.html\n",
    "\n",
    "https://citeseerx.ist.psu.edu/viewdoc/download?doi=10.1.1.465.9324&rep=rep1&type=pdf\n",
    "\n",
    "A graph g is called a maximum common subgraph of two graphs, g1\n",
    "and g2, if there exists no other common subgraph of g1 and g2 that has more\n",
    "nodes than g. \n",
    "\n",
    "-> recursively compute MCS in each group / between groups \n",
    "\n"
   ]
  },
  {
   "cell_type": "code",
   "execution_count": null,
   "id": "0c6db21a",
   "metadata": {},
   "outputs": [],
   "source": [
    "# take the direct product (shortest path kernel ) of transformed graphs\n"
   ]
  },
  {
   "cell_type": "markdown",
   "id": "d350a72d",
   "metadata": {},
   "source": [
    "https://static.googleusercontent.com/media/research.google.com/en//pubs/archive/42029.pdf\n",
    "    local RC\n",
    "    \n",
    "For kernel-based hypotheses, the local Rademacher complexity can\n",
    "be both upper- and lower-bounded in terms of the tail sum of the eigenvalues of the kernel matrix\n",
    "[13]. This motivates the introduction of two natural families of hypotheses based on non-negative\n",
    "combinations of base kernels with kernels constrained by a tail sum of the eigenvalues."
   ]
  },
  {
   "cell_type": "code",
   "execution_count": null,
   "id": "62042fc1",
   "metadata": {},
   "outputs": [],
   "source": [
    "# calculate the tail sum of eigenvalues of kernel matrix\n",
    "\n",
    "def tail_sum_eig(kmatrix, n): # n eigenvalues from tail \n",
    "    \n",
    "    eigs, evecs = linalg.eig(kmatrix)\n",
    "    \n",
    "    # sort them \n",
    "    eig_sorted = np.sort(eigs)\n",
    "    \n",
    "    tot_len = len(eigs)\n",
    "    tot_len_minus_n = tot_len - n\n",
    "    # sum the tail\n",
    "    eig_tail = eig_sorted[tot_len_minus_n: tot_len]\n",
    "    \n",
    "    return(sum(eig_tail))\n",
    "\n",
    "# operate on boolean addition/ product  of matrices\n"
   ]
  },
  {
   "cell_type": "code",
   "execution_count": null,
   "id": "f024e6fa",
   "metadata": {},
   "outputs": [],
   "source": [
    "# linear sum assignment : want min sum_i sum_j C_{ij} X_{ij}\n",
    "\n",
    "cost = np.array([[4, 1, 3], [2, 0, 5], [3, 2, 2]])\n",
    "\n",
    "from scipy.optimize import linear_sum_assignment\n",
    "\n",
    "row_ind, col_ind = linear_sum_assignment(cost)\n",
    "\n",
    "# recalculate the vertex labels based on the assignment\n",
    "\n",
    "\n",
    "\n"
   ]
  },
  {
   "cell_type": "code",
   "execution_count": null,
   "id": "6ff11dd3",
   "metadata": {},
   "outputs": [],
   "source": [
    "# lin sum assignment basic version : base kernel is vertex hist \n"
   ]
  },
  {
   "cell_type": "markdown",
   "id": "0248b428",
   "metadata": {},
   "source": [
    "The neighborhood hash kernel assumes node-labeled graphs [HK09]. It compares graphs by updating their node labels and counting the number of common labels. The kernel replaces the discrete node labels with binary arrays of fixed length, and it then employs logical operations to update the labels so that they contain information regarding the neighborhood structure of each vertex."
   ]
  },
  {
   "cell_type": "code",
   "execution_count": null,
   "id": "13d56893",
   "metadata": {},
   "outputs": [],
   "source": []
  },
  {
   "cell_type": "code",
   "execution_count": null,
   "id": "43692b5d",
   "metadata": {},
   "outputs": [],
   "source": [
    "# stationary distribution\n",
    "\n",
    "# pref navigation random walk\n",
    "\n",
    "def preferential_navigation_stationary_i(A, q, beta,i):\n",
    "    n = len(A)\n",
    "    new_adj_mat = np.zeros((n,n))\n",
    "    x_ind = 0\n",
    "    numerator = 0\n",
    "    for ell in range(n):\n",
    "        numerator = numerator+ np.pow(q[i]*q[ell], beta)*A[i,ell]\n",
    "    denominator =0 \n",
    "    for ell in range(n):\n",
    "        for m in range(n):\n",
    "            denominator= denominator+ np.pow(q[ell]*q[m], beta)*A[ell, m]\n",
    "    return (numerator)/(denominator)\n",
    "\n",
    "\n",
    "# max entropy random walks\n",
    "\n",
    "def max_entropy_random_walk_i(eps, i):\n",
    "    \n",
    "    return np.pow(eps[i], 2)\n",
    "\n"
   ]
  },
  {
   "cell_type": "code",
   "execution_count": null,
   "id": "6c280fc6",
   "metadata": {},
   "outputs": [],
   "source": [
    "# preprocess for max entropy rw \n",
    "\n",
    "eigs, evecs = linalg.eig(kmatrix)\n",
    "eig_sorted = np.sort(eigs)\n",
    "\n",
    "# normalize\n"
   ]
  },
  {
   "cell_type": "code",
   "execution_count": null,
   "id": "cbc29b41",
   "metadata": {},
   "outputs": [],
   "source": []
  },
  {
   "cell_type": "code",
   "execution_count": 120,
   "id": "f33b969e",
   "metadata": {},
   "outputs": [],
   "source": [
    "from grakel.datasets import fetch_dataset"
   ]
  },
  {
   "cell_type": "code",
   "execution_count": 121,
   "id": "a51c3826",
   "metadata": {},
   "outputs": [],
   "source": [
    "ENZYMES_attr = fetch_dataset(\"ENZYMES\", prefer_attr_nodes=True, verbose=False)\n",
    "G, y = ENZYMES_attr.data, ENZYMES_attr.target"
   ]
  },
  {
   "cell_type": "code",
   "execution_count": null,
   "id": "c16e1162",
   "metadata": {},
   "outputs": [],
   "source": []
  },
  {
   "cell_type": "code",
   "execution_count": 122,
   "id": "9d16edc1",
   "metadata": {},
   "outputs": [],
   "source": [
    "from sklearn.model_selection import train_test_split\n",
    "\n",
    "G_train, G_test, y_train, y_test = train_test_split(G, y, test_size=0.1, random_state=42)"
   ]
  },
  {
   "cell_type": "code",
   "execution_count": 123,
   "id": "aae1e877",
   "metadata": {},
   "outputs": [],
   "source": [
    "from grakel.kernels import PropagationAttr\n",
    "\n",
    "gk = PropagationAttr(normalize=True)\n",
    "K_train = gk.fit_transform(G_train)\n"
   ]
  },
  {
   "cell_type": "markdown",
   "id": "4c26eba6",
   "metadata": {},
   "source": [
    "fit transform (fit and transform on same dataset)\n",
    "\n",
    "returns:\n",
    "     K : numpy array, shape = [n_targets, n_input_graphs]\n",
    "            corresponding to the kernel matrix, a calculation between\n",
    "            all pairs of graphs between target an features\n",
    "            \n",
    "            \n",
    "fit: self.X = self.parse_input(X) \n",
    "\n",
    "transform:  (Transform - calculate kernel matrix) \n",
    "        km = self._calculate_kernel_matrix(Y)\n",
    "        self._Y = Y\n",
    "\n",
    "        ( Self transform must appear before the diagonal call on normilization)\n",
    "        \n",
    "        self._is_transformed = True\n",
    "        if self.normalize:\n",
    "            X_diag, Y_diag = self.diagonal()\n",
    "            km /= np.sqrt(np.outer(Y_diag, X_diag))\n",
    "        return km\n",
    "\n",
    "def _calculate_kernel_matrix(self, Y=None):\n",
    "        \"\"\"Calculate the kernel matrix given a target_graph and a kernel"
   ]
  },
  {
   "cell_type": "code",
   "execution_count": 124,
   "id": "b056f7f4",
   "metadata": {},
   "outputs": [
    {
     "data": {
      "text/plain": [
       "array([[1.        , 0.01076826, 0.        , ..., 0.        , 0.01082997,\n",
       "        0.01667738],\n",
       "       [0.01076826, 1.        , 0.        , ..., 0.        , 0.08000131,\n",
       "        0.07479775],\n",
       "       [0.        , 0.        , 1.        , ..., 0.        , 0.        ,\n",
       "        0.        ],\n",
       "       ...,\n",
       "       [0.        , 0.        , 0.        , ..., 1.        , 0.00739828,\n",
       "        0.00284821],\n",
       "       [0.01082997, 0.08000131, 0.        , ..., 0.00739828, 1.        ,\n",
       "        0.04425082],\n",
       "       [0.01667738, 0.07479775, 0.        , ..., 0.00284821, 0.04425082,\n",
       "        1.        ]])"
      ]
     },
     "execution_count": 124,
     "metadata": {},
     "output_type": "execute_result"
    }
   ],
   "source": [
    "K_train"
   ]
  },
  {
   "cell_type": "markdown",
   "id": "0be7e0d3",
   "metadata": {},
   "source": [
    " subgraph matching kernel : counts number of matchings btwn subgraphs of bounded size in 2 graphs\n",
    " \n",
    "A graph isomorphism is a bijection $\\phi: V-> V'$ that preserves adjacencies or $u,v \\in V: (v,u) \\in E \\leftrightarrow (\\phi(v), \\phi(u)) \\in E'$\n",
    "\n",
    "and $\\psi : V \\times V \\rightarrow V' \\times V'$ is mapping of vertex pairs implied by the bijection $\\phi$ s.t. $\\psi ((v,u)) = (\\phi(v), \\phi(u))$ \n",
    "\n",
    " \n",
    "Let $B(G,G')$ be the set of bijections between sets $S\\subseteq V, S' \\subseteq V'$ and $\\lambda: B(G, G') \\rightarrow R+$ be a weight function. The subgraph matching kernel is:\n",
    "\n",
    "$k(G, G') = \\sum_{\\phi \\in B(G,G')} \\lambda(\\phi) \\Pi_{v \\in S} k_V(v, \\phi(v)) \\Pi_{e \\in S \\times S} k_E (e, \\psi(e))$\n",
    "\n",
    "\n",
    "To count the number of isomorphisms between subgraphs, the kernel capitalizes on a classical result of Levi [Lev73] which makes a connection between common subgraphs of two graphs and cliques in their product graph. More specifically, each maximum clique in the product graph is associated with a maximum common subgraph of the factor graphs. This allows someone to compute the common subgraph isomorphism kernel by enumerating the cliques of the product graph.\n",
    "\n",
    "sm_kernel: returns\n",
    "tv_np : np.array\n",
    "        An array holding values for all clique sizes from 0 to k."
   ]
  },
  {
   "cell_type": "code",
   "execution_count": null,
   "id": "12631d81",
   "metadata": {},
   "outputs": [],
   "source": [
    "# instead return array holding groups \n",
    "\n",
    "def sm_kernel_operator(x, y, kv, ke, k):\n",
    "    "
   ]
  },
  {
   "cell_type": "code",
   "execution_count": 10,
   "id": "22b93c7c",
   "metadata": {},
   "outputs": [],
   "source": [
    "# try running the sm_kernel function on sample data\n",
    "from grakel.kernels._c_functions import sm_kernel"
   ]
  },
  {
   "cell_type": "code",
   "execution_count": null,
   "id": "af618db3",
   "metadata": {},
   "outputs": [],
   "source": []
  },
  {
   "cell_type": "code",
   "execution_count": 2,
   "id": "cc07a25f",
   "metadata": {},
   "outputs": [],
   "source": [
    "from grakel.kernels import SubgraphMatching"
   ]
  },
  {
   "cell_type": "code",
   "execution_count": 3,
   "id": "a63fdc40",
   "metadata": {},
   "outputs": [],
   "source": [
    "k1 = SubgraphMatching()"
   ]
  },
  {
   "cell_type": "code",
   "execution_count": 8,
   "id": "c07bcf76",
   "metadata": {},
   "outputs": [],
   "source": [
    "current_graph = [({(1, 2), (2, 3), (2, 1), (3, 2)},\n",
    "       {1: 'N', 2: 'C', 3: 'O'},\n",
    "       {(1, 2): ('N', 'C'), (2, 1): ('C', 'N'),\n",
    "        (2, 3): ('C', 'O'), (3, 2): ('O', 'C')})]"
   ]
  },
  {
   "cell_type": "code",
   "execution_count": 4,
   "id": "969ac3c0",
   "metadata": {},
   "outputs": [
    {
     "data": {
      "text/plain": [
       "SubgraphMatching()"
      ]
     },
     "execution_count": 4,
     "metadata": {},
     "output_type": "execute_result"
    }
   ],
   "source": [
    "k1.fit([({(1, 2), (2, 3), (2, 1), (3, 2)},\n",
    "       {1: 'N', 2: 'C', 3: 'O'},\n",
    "       {(1, 2): ('N', 'C'), (2, 1): ('C', 'N'),\n",
    "        (2, 3): ('C', 'O'), (3, 2): ('O', 'C')})])"
   ]
  },
  {
   "cell_type": "code",
   "execution_count": 5,
   "id": "d5f238e1",
   "metadata": {},
   "outputs": [],
   "source": [
    "other_graphs = [({(1, 2), (2, 3), (3, 4), (3, 5), (5, 6),\n",
    "                         (2, 1), (3, 2), (4, 3), (5, 3), (6, 5)},\n",
    "                        {1: 'O', 2: 'C', 3: 'N', 4: 'C', 5: 'C', 6: 'O'},\n",
    "                        {(1, 2): ('O', 'C'), (2, 3): ('C', 'N'),\n",
    "                         (3, 4): ('N', 'C'), (3, 5): ('N', 'C'),\n",
    "                         (5, 6): ('C', 'O'), (2, 1): ('C', 'O'),\n",
    "                         (3, 2): ('N', 'C'), (4, 3): ('C', 'N'),\n",
    "                         (5, 3): ('C', 'N'), (6, 5): ('O', 'C')})]"
   ]
  },
  {
   "cell_type": "code",
   "execution_count": 7,
   "id": "52c88587",
   "metadata": {},
   "outputs": [
    {
     "data": {
      "text/plain": [
       "({(1, 2),\n",
       "  (2, 1),\n",
       "  (2, 3),\n",
       "  (3, 2),\n",
       "  (3, 4),\n",
       "  (3, 5),\n",
       "  (4, 3),\n",
       "  (5, 3),\n",
       "  (5, 6),\n",
       "  (6, 5)},\n",
       " {1: 'O', 2: 'C', 3: 'N', 4: 'C', 5: 'C', 6: 'O'},\n",
       " {(1, 2): ('O', 'C'),\n",
       "  (2, 3): ('C', 'N'),\n",
       "  (3, 4): ('N', 'C'),\n",
       "  (3, 5): ('N', 'C'),\n",
       "  (5, 6): ('C', 'O'),\n",
       "  (2, 1): ('C', 'O'),\n",
       "  (3, 2): ('N', 'C'),\n",
       "  (4, 3): ('C', 'N'),\n",
       "  (5, 3): ('C', 'N'),\n",
       "  (6, 5): ('O', 'C')})"
      ]
     },
     "execution_count": 7,
     "metadata": {},
     "output_type": "execute_result"
    }
   ],
   "source": [
    "other_graphs[0]"
   ]
  },
  {
   "cell_type": "code",
   "execution_count": 16,
   "id": "a6728968",
   "metadata": {},
   "outputs": [
    {
     "data": {
      "text/plain": [
       "array([[1., 1., 1., 1., 1., 1.]])"
      ]
     },
     "execution_count": 16,
     "metadata": {},
     "output_type": "execute_result"
    }
   ],
   "source": [
    "# print self lambdas\n",
    "k1.lambdas_"
   ]
  },
  {
   "cell_type": "code",
   "execution_count": 14,
   "id": "040c378e",
   "metadata": {},
   "outputs": [
    {
     "ename": "ValueError",
     "evalue": "need more than 1 value to unpack",
     "output_type": "error",
     "traceback": [
      "\u001b[0;31m---------------------------------------------------------------------------\u001b[0m",
      "\u001b[0;31mValueError\u001b[0m                                Traceback (most recent call last)",
      "\u001b[0;32m/var/folders/8m/pt7_wvd11vbfl5hhydrtd5t00000gn/T/ipykernel_2654/723709224.py\u001b[0m in \u001b[0;36m<module>\u001b[0;34m\u001b[0m\n\u001b[1;32m      1\u001b[0m \u001b[0;31m# test sm_kernel output:\u001b[0m\u001b[0;34m\u001b[0m\u001b[0;34m\u001b[0m\u001b[0m\n\u001b[1;32m      2\u001b[0m \u001b[0;34m\u001b[0m\u001b[0m\n\u001b[0;32m----> 3\u001b[0;31m \u001b[0msm_kernel\u001b[0m\u001b[0;34m(\u001b[0m\u001b[0mcurrent_graph\u001b[0m\u001b[0;34m,\u001b[0m \u001b[0mother_graphs\u001b[0m\u001b[0;34m,\u001b[0m \u001b[0mk1\u001b[0m\u001b[0;34m.\u001b[0m\u001b[0mkv\u001b[0m\u001b[0;34m,\u001b[0m \u001b[0mk1\u001b[0m\u001b[0;34m.\u001b[0m\u001b[0mke\u001b[0m\u001b[0;34m,\u001b[0m \u001b[0mk1\u001b[0m\u001b[0;34m.\u001b[0m\u001b[0mk\u001b[0m\u001b[0;34m)\u001b[0m\u001b[0;34m\u001b[0m\u001b[0m\n\u001b[0m\u001b[1;32m      4\u001b[0m \u001b[0;34m\u001b[0m\u001b[0m\n\u001b[1;32m      5\u001b[0m \u001b[0;31m#  Returns\u001b[0m\u001b[0;34m\u001b[0m\u001b[0;34m\u001b[0m\u001b[0m\n",
      "\u001b[0;32mgrakel/kernels/_c_functions/functions.pyx\u001b[0m in \u001b[0;36mgrakel.kernels._c_functions.sm_kernel\u001b[0;34m()\u001b[0m\n",
      "\u001b[0;31mValueError\u001b[0m: need more than 1 value to unpack"
     ]
    }
   ],
   "source": [
    "# test sm_kernel output: \n",
    "\n",
    "sm_kernel(current_graph, other_graphs, k1.kv, k1.ke, k1.k)\n",
    "\n",
    "#  Returns\n",
    "\"\"\"\n",
    "    tv_np : np.array\n",
    "        An array holding values for all clique sizes from 0 to k.\"\"\"\n"
   ]
  },
  {
   "cell_type": "code",
   "execution_count": null,
   "id": "294be13a",
   "metadata": {},
   "outputs": [],
   "source": [
    "# fit -> initialize and parse input\n",
    "\n",
    "# pairwise operation in _calculate_kernel_matrix method, which is called in transform / fit_transform\n",
    "\n",
    "# https://github.com/ysig/GraKeL/blob/master/grakel/kernels/kernel.py"
   ]
  },
  {
   "cell_type": "markdown",
   "id": "fb45d13d",
   "metadata": {},
   "source": [
    "\n",
    "lambdas_ : np.array, shape=(1, k+1)\n",
    "        All the lambdas corresponding to all the valid sizes of subgraphs.\n",
    "    \n",
    "$\\lambda : B(G,G') \\rightarrow R^+ $ is a weight function where $B(G,G')$ is the set of all bijections between sets S in V and S' in V'. "
   ]
  },
  {
   "cell_type": "code",
   "execution_count": 17,
   "id": "13a715f7",
   "metadata": {},
   "outputs": [
    {
     "data": {
      "text/plain": [
       "array([[1., 1., 1., 1., 1., 1.]])"
      ]
     },
     "execution_count": 17,
     "metadata": {},
     "output_type": "execute_result"
    }
   ],
   "source": [
    "k.lambdas_"
   ]
  },
  {
   "cell_type": "code",
   "execution_count": 13,
   "id": "f49fd585",
   "metadata": {},
   "outputs": [
    {
     "name": "stdout",
     "output_type": "stream",
     "text": [
      "fit\n",
      "transform\n",
      "[[13.]]\n"
     ]
    }
   ],
   "source": [
    "k = SubgraphMatching()\n",
    "\n",
    "print(\"fit\")\n",
    "k.fit([({(1, 2), (2, 3), (2, 1), (3, 2)},\n",
    "       {1: 'N', 2: 'C', 3: 'O'},\n",
    "       {(1, 2): ('N', 'C'), (2, 1): ('C', 'N'),\n",
    "        (2, 3): ('C', 'O'), (3, 2): ('O', 'C')})])\n",
    "\n",
    "print(\"transform\")\n",
    "print(k.transform([({(1, 2), (2, 3), (3, 4), (3, 5), (5, 6),\n",
    "                     (2, 1), (3, 2), (4, 3), (5, 3), (6, 5)},\n",
    "                    {1: 'O', 2: 'C', 3: 'N', 4: 'C', 5: 'C', 6: 'O'},\n",
    "                    {(1, 2): ('O', 'C'), (2, 3): ('C', 'N'),\n",
    "                     (3, 4): ('N', 'C'), (3, 5): ('N', 'C'),\n",
    "                     (5, 6): ('C', 'O'), (2, 1): ('C', 'O'),\n",
    "                     (3, 2): ('N', 'C'), (4, 3): ('C', 'N'),\n",
    "                     (5, 3): ('C', 'N'), (6, 5): ('O', 'C')})]))"
   ]
  },
  {
   "cell_type": "markdown",
   "id": "fa8e44e1",
   "metadata": {},
   "source": [
    "system of linear eqns of fractional isomorphism:\n",
    "\n",
    "$AX = XB$, \n",
    "\n",
    "$ X 1_{V(H)} = 1_{V(G)}$, \n",
    "\n",
    "$ 1_{V(G)}^T X = 1_{V(H)}^T$\n",
    "\n",
    "\n",
    "relate these distances with WL kernel (color refinement)"
   ]
  },
  {
   "cell_type": "code",
   "execution_count": null,
   "id": "adb6e076",
   "metadata": {},
   "outputs": [],
   "source": []
  },
  {
   "cell_type": "markdown",
   "id": "3f8f325a",
   "metadata": {},
   "source": [
    "https://davidbieber.com/post/2019-05-10-weisfeiler-lehman-isomorphism-test/"
   ]
  },
  {
   "cell_type": "markdown",
   "id": "2460fafe",
   "metadata": {},
   "source": [
    "A note on the derivation of maximal common subgraph ... [73] \n",
    "\n",
    "Node reordering algorithm: \n",
    "\n",
    "\n",
    "Cuthill McKee\n",
    "for i =1,2, ..., \n",
    "iterate the following while $|R| < n$:\n",
    "\n",
    "- Construct the adjacency set $A_i$ of $R_i$ ( i-th component of R) and exclude vertices already in R\n",
    "$A_i = Adj(R_i) \\setminus R$ \n",
    "- Sort $A_i$ ascending order (vertex degree) by min predecessor (already-visited nbr with earliest position in R)\n",
    "- Append $A_i$ to R \n",
    "\n",
    "( number the vertices according to level structure (by BFS) s.t. vertices in each level visited in order of their predecessor's numbering from lowest to highest) "
   ]
  },
  {
   "cell_type": "code",
   "execution_count": null,
   "id": "294d5a8a",
   "metadata": {},
   "outputs": [],
   "source": [
    "adjacency1 = []\n",
    "\n",
    "degrees = []\n"
   ]
  },
  {
   "cell_type": "code",
   "execution_count": 19,
   "id": "456b1e23",
   "metadata": {},
   "outputs": [],
   "source": [
    "adjacency1 = {1:[3, 8, 9], 2:[6, 7, 3, 8], 3:[1, 2], 4:[12,13], 5:[13,16], 6:[2,7], 7:[2,6,10], 8:[1,2,10,15], 9:[1,15], 10:[8,7], 11:[12,13,14],12:[4,11],13:[5,16,4,11],14:[11,16],15:[9,8],16:[13,5,14]}"
   ]
  },
  {
   "cell_type": "code",
   "execution_count": 20,
   "id": "c85d3a9f",
   "metadata": {},
   "outputs": [],
   "source": [
    "degrees1 = {1:3,2:4,3:2,4:2,5:2,6:2,7:3,8:4,9:2,10:2,11:3,12:2,13:4,14:2,15:2,16:3}"
   ]
  },
  {
   "cell_type": "code",
   "execution_count": 96,
   "id": "cb41e59a",
   "metadata": {},
   "outputs": [
    {
     "name": "stdout",
     "output_type": "stream",
     "text": [
      "2\n",
      "[3, 4, 5, 6, 9, 10, 12, 14, 15]\n"
     ]
    }
   ],
   "source": [
    "tmp = min(degrees1.values())\n",
    "print(tmp)\n",
    "res= [key for key in degrees1 if degrees1[key] == tmp]\n",
    "print(res)"
   ]
  },
  {
   "cell_type": "code",
   "execution_count": 93,
   "id": "cbf509f9",
   "metadata": {},
   "outputs": [
    {
     "name": "stdout",
     "output_type": "stream",
     "text": [
      "n is 16\n",
      "degs  is [2, 3]\n",
      "arr degs is  [2 3]\n",
      "std degs is  [0 1]\n",
      "sted list is  [ 4 11]\n",
      "degs  is [2, 4, 2]\n",
      "arr degs is  [2 4 2]\n",
      "std degs is  [0 2 1]\n",
      "sted list is  [12 14 13]\n",
      "t is : [12 14 13]\n",
      "R is:  [12, 4, 11]\n",
      "degs  is [3, 3]\n",
      "arr degs is  [3 3]\n",
      "std degs is  [0 1]\n",
      "sted list is  [11 16]\n",
      "t is : [11 16]\n",
      "R is:  [12, 4, 11, 14, 13]\n",
      "degs  is [2, 3, 2, 3]\n",
      "arr degs is  [2 3 2 3]\n",
      "std degs is  [0 2 1 3]\n",
      "sted list is  [ 5  4 16 11]\n",
      "t is : [ 5  4 16 11]\n",
      "R is:  [12, 4, 11, 14, 13, 16]\n",
      "degs  is [4, 2, 2]\n",
      "arr degs is  [4 2 2]\n",
      "std degs is  [1 2 0]\n",
      "sted list is  [ 5 14 13]\n",
      "t is : [ 5 14 13]\n",
      "R is:  [12, 4, 11, 14, 13, 16, 5]\n",
      "degs  is [4, 3]\n",
      "arr degs is  [4 3]\n",
      "std degs is  [1 0]\n",
      "sted list is  [16 13]\n",
      "t is : [16 13]\n",
      "R is:  [12, 4, 11, 14, 13, 16, 5]\n"
     ]
    },
    {
     "ename": "IndexError",
     "evalue": "list index out of range",
     "output_type": "error",
     "traceback": [
      "\u001b[0;31m---------------------------------------------------------------------------\u001b[0m",
      "\u001b[0;31mIndexError\u001b[0m                                Traceback (most recent call last)",
      "\u001b[0;32m/var/folders/8m/pt7_wvd11vbfl5hhydrtd5t00000gn/T/ipykernel_2654/2941969987.py\u001b[0m in \u001b[0;36m<module>\u001b[0;34m\u001b[0m\n\u001b[0;32m----> 1\u001b[0;31m \u001b[0mRCM\u001b[0m\u001b[0;34m(\u001b[0m\u001b[0madjacency1\u001b[0m\u001b[0;34m,\u001b[0m \u001b[0mdegrees1\u001b[0m\u001b[0;34m,\u001b[0m \u001b[0;36m9\u001b[0m\u001b[0;34m,\u001b[0m \u001b[0;36m12\u001b[0m\u001b[0;34m)\u001b[0m\u001b[0;34m\u001b[0m\u001b[0m\n\u001b[0m",
      "\u001b[0;32m/var/folders/8m/pt7_wvd11vbfl5hhydrtd5t00000gn/T/ipykernel_2654/2645564434.py\u001b[0m in \u001b[0;36mRCM\u001b[0;34m(adjacency, degrees, P, Q)\u001b[0m\n\u001b[1;32m     18\u001b[0m \u001b[0;34m\u001b[0m\u001b[0m\n\u001b[1;32m     19\u001b[0m         \u001b[0;32melse\u001b[0m\u001b[0;34m:\u001b[0m\u001b[0;34m\u001b[0m\u001b[0m\n\u001b[0;32m---> 20\u001b[0;31m             \u001b[0mt\u001b[0m \u001b[0;34m=\u001b[0m \u001b[0msort_adjacency_i\u001b[0m\u001b[0;34m(\u001b[0m\u001b[0madjacency\u001b[0m\u001b[0;34m[\u001b[0m\u001b[0mR\u001b[0m\u001b[0;34m[\u001b[0m\u001b[0mi\u001b[0m\u001b[0;34m]\u001b[0m\u001b[0;34m]\u001b[0m\u001b[0;34m,\u001b[0m \u001b[0mdegrees\u001b[0m\u001b[0;34m)\u001b[0m\u001b[0;34m\u001b[0m\u001b[0m\n\u001b[0m\u001b[1;32m     21\u001b[0m             \u001b[0mprint\u001b[0m\u001b[0;34m(\u001b[0m\u001b[0;34m\"t is :\"\u001b[0m\u001b[0;34m,\u001b[0m \u001b[0mt\u001b[0m\u001b[0;34m)\u001b[0m\u001b[0;34m\u001b[0m\u001b[0m\n\u001b[1;32m     22\u001b[0m             \u001b[0mprint\u001b[0m\u001b[0;34m(\u001b[0m\u001b[0;34m\"R is: \"\u001b[0m\u001b[0;34m,\u001b[0m \u001b[0mR\u001b[0m\u001b[0;34m)\u001b[0m\u001b[0;34m\u001b[0m\u001b[0m\n",
      "\u001b[0;31mIndexError\u001b[0m: list index out of range"
     ]
    }
   ],
   "source": [
    "RCM(adjacency1, degrees1, 9, 12)"
   ]
  },
  {
   "cell_type": "code",
   "execution_count": 58,
   "id": "f8169d30",
   "metadata": {},
   "outputs": [],
   "source": [
    "def sort_adjacency_by_degrees(a_mat):\n",
    "    degs= []\n",
    "    n = len(a_mat)\n",
    "    list_n = np.array(range(n))\n",
    "    for row in a_mat:\n",
    "        s = sum(row)\n",
    "        degs.append(s)\n",
    "        \n",
    "    # sort by degrees\n",
    "    #lis= range(len(a_mat))\n",
    "    degs= np.array(degs)\n",
    "    sted_degs = degs.argsort()\n",
    "    \n",
    "    sted_list = list_n[sted_degs]\n",
    "    \n",
    "    return sted_list\n"
   ]
  },
  {
   "cell_type": "code",
   "execution_count": 85,
   "id": "2b6f8e7d",
   "metadata": {},
   "outputs": [
    {
     "data": {
      "text/plain": [
       "array([3, 4, 2])"
      ]
     },
     "execution_count": 85,
     "metadata": {},
     "output_type": "execute_result"
    }
   ],
   "source": [
    "degs1 = [3,4 ,2]\n",
    "np.array(degs1)"
   ]
  },
  {
   "cell_type": "code",
   "execution_count": 86,
   "id": "31081887",
   "metadata": {},
   "outputs": [],
   "source": [
    "def sort_adjacency_i(alist, degrees): # degrees is dictionary -> replace with dictionary of another property \n",
    "    degs = []\n",
    "    \n",
    "    for v in alist:\n",
    "        vdeg = degrees[v]\n",
    "        degs.append(vdeg)\n",
    "    \n",
    "    print(\"degs  is\", degs)\n",
    "    adegs = np.array(degs)\n",
    "    \n",
    "    print(\"arr degs is \", adegs)\n",
    "        \n",
    "    sted_degs = adegs.argsort()\n",
    "    \n",
    "    print(\"std degs is \", sted_degs)\n",
    "    \n",
    "    alist = np.array(alist)\n",
    "    \n",
    "    sted_list = alist[sted_degs]\n",
    "    \n",
    "    print(\"sted list is \", sted_list)\n",
    "    return sted_list\n"
   ]
  },
  {
   "cell_type": "code",
   "execution_count": 34,
   "id": "3e8aa536",
   "metadata": {},
   "outputs": [
    {
     "ename": "ValueError",
     "evalue": "Cannot specify order when the array has no fields.",
     "output_type": "error",
     "traceback": [
      "\u001b[0;31m---------------------------------------------------------------------------\u001b[0m",
      "\u001b[0;31mValueError\u001b[0m                                Traceback (most recent call last)",
      "\u001b[0;32m/var/folders/8m/pt7_wvd11vbfl5hhydrtd5t00000gn/T/ipykernel_2654/2191269737.py\u001b[0m in \u001b[0;36m<module>\u001b[0;34m\u001b[0m\n\u001b[1;32m      2\u001b[0m \u001b[0mdegs\u001b[0m \u001b[0;34m=\u001b[0m \u001b[0;34m[\u001b[0m\u001b[0;36m5\u001b[0m\u001b[0;34m,\u001b[0m\u001b[0;36m1\u001b[0m\u001b[0;34m,\u001b[0m\u001b[0;36m2\u001b[0m\u001b[0;34m,\u001b[0m\u001b[0;36m3\u001b[0m\u001b[0;34m,\u001b[0m\u001b[0;36m4\u001b[0m\u001b[0;34m]\u001b[0m\u001b[0;34m\u001b[0m\u001b[0m\n\u001b[1;32m      3\u001b[0m \u001b[0mmatvals\u001b[0m \u001b[0;34m=\u001b[0m \u001b[0;34m[\u001b[0m\u001b[0;36m0\u001b[0m\u001b[0;34m,\u001b[0m\u001b[0;36m1\u001b[0m\u001b[0;34m,\u001b[0m\u001b[0;36m2\u001b[0m\u001b[0;34m,\u001b[0m\u001b[0;36m3\u001b[0m\u001b[0;34m,\u001b[0m\u001b[0;36m4\u001b[0m\u001b[0;34m]\u001b[0m\u001b[0;34m\u001b[0m\u001b[0m\n\u001b[0;32m----> 4\u001b[0;31m \u001b[0mnp\u001b[0m\u001b[0;34m.\u001b[0m\u001b[0msort\u001b[0m\u001b[0;34m(\u001b[0m\u001b[0mmatvals\u001b[0m\u001b[0;34m,\u001b[0m \u001b[0morder\u001b[0m\u001b[0;34m=\u001b[0m \u001b[0mdegs\u001b[0m\u001b[0;34m)\u001b[0m\u001b[0;34m\u001b[0m\u001b[0m\n\u001b[0m",
      "\u001b[0;32m<__array_function__ internals>\u001b[0m in \u001b[0;36msort\u001b[0;34m(*args, **kwargs)\u001b[0m\n",
      "\u001b[0;32m/Library/Frameworks/Python.framework/Versions/3.7/lib/python3.7/site-packages/numpy/core/fromnumeric.py\u001b[0m in \u001b[0;36msort\u001b[0;34m(a, axis, kind, order)\u001b[0m\n\u001b[1;32m    996\u001b[0m     \u001b[0;32melse\u001b[0m\u001b[0;34m:\u001b[0m\u001b[0;34m\u001b[0m\u001b[0m\n\u001b[1;32m    997\u001b[0m         \u001b[0ma\u001b[0m \u001b[0;34m=\u001b[0m \u001b[0masanyarray\u001b[0m\u001b[0;34m(\u001b[0m\u001b[0ma\u001b[0m\u001b[0;34m)\u001b[0m\u001b[0;34m.\u001b[0m\u001b[0mcopy\u001b[0m\u001b[0;34m(\u001b[0m\u001b[0morder\u001b[0m\u001b[0;34m=\u001b[0m\u001b[0;34m\"K\"\u001b[0m\u001b[0;34m)\u001b[0m\u001b[0;34m\u001b[0m\u001b[0m\n\u001b[0;32m--> 998\u001b[0;31m     \u001b[0ma\u001b[0m\u001b[0;34m.\u001b[0m\u001b[0msort\u001b[0m\u001b[0;34m(\u001b[0m\u001b[0maxis\u001b[0m\u001b[0;34m=\u001b[0m\u001b[0maxis\u001b[0m\u001b[0;34m,\u001b[0m \u001b[0mkind\u001b[0m\u001b[0;34m=\u001b[0m\u001b[0mkind\u001b[0m\u001b[0;34m,\u001b[0m \u001b[0morder\u001b[0m\u001b[0;34m=\u001b[0m\u001b[0morder\u001b[0m\u001b[0;34m)\u001b[0m\u001b[0;34m\u001b[0m\u001b[0m\n\u001b[0m\u001b[1;32m    999\u001b[0m     \u001b[0;32mreturn\u001b[0m \u001b[0ma\u001b[0m\u001b[0;34m\u001b[0m\u001b[0m\n\u001b[1;32m   1000\u001b[0m \u001b[0;34m\u001b[0m\u001b[0m\n",
      "\u001b[0;31mValueError\u001b[0m: Cannot specify order when the array has no fields."
     ]
    }
   ],
   "source": [
    "import numpy as np\n",
    "degs = [5,1,2,3,4]\n",
    "matvals = [0,1,2,3,4]\n",
    "np.sort(matvals, order= degs)"
   ]
  },
  {
   "cell_type": "code",
   "execution_count": 74,
   "id": "7a72dc82",
   "metadata": {},
   "outputs": [],
   "source": [
    "degs = [0,9,5,8,3]\n",
    "matvals= [3,1,2,4,0]"
   ]
  },
  {
   "cell_type": "code",
   "execution_count": 32,
   "id": "f710c8ae",
   "metadata": {},
   "outputs": [],
   "source": [
    "#sorted([degs], key = matvals)\n",
    "#degs.sort()"
   ]
  },
  {
   "cell_type": "code",
   "execution_count": 35,
   "id": "1a66abf6",
   "metadata": {},
   "outputs": [],
   "source": [
    "zipped = zip(degs, matvals)"
   ]
  },
  {
   "cell_type": "code",
   "execution_count": 51,
   "id": "82ffb5cf",
   "metadata": {},
   "outputs": [],
   "source": [
    "# zipped \n",
    "z = [x for _,x in sorted(zip(matvals, degs))]"
   ]
  },
  {
   "cell_type": "code",
   "execution_count": 52,
   "id": "41467901",
   "metadata": {},
   "outputs": [
    {
     "data": {
      "text/plain": [
       "[3, 9, 5, 0, 8]"
      ]
     },
     "execution_count": 52,
     "metadata": {},
     "output_type": "execute_result"
    }
   ],
   "source": [
    "z"
   ]
  },
  {
   "cell_type": "code",
   "execution_count": 82,
   "id": "744b77b0",
   "metadata": {},
   "outputs": [],
   "source": [
    "np_degs = np.array(degs)\n",
    "np_matvals = np.array(matvals)\n",
    "\n",
    "inds = np_matvals.argsort()\n",
    "\n",
    "sted_degs = np_degs[matvals]\n",
    "\n",
    "sted_degs2 = np_degs[inds]"
   ]
  },
  {
   "cell_type": "code",
   "execution_count": 84,
   "id": "8f57a1ca",
   "metadata": {},
   "outputs": [
    {
     "data": {
      "text/plain": [
       "array([8, 9, 5, 3, 0])"
      ]
     },
     "execution_count": 84,
     "metadata": {},
     "output_type": "execute_result"
    }
   ],
   "source": [
    "sted_degs"
   ]
  },
  {
   "cell_type": "code",
   "execution_count": 83,
   "id": "07235bea",
   "metadata": {},
   "outputs": [
    {
     "data": {
      "text/plain": [
       "array([3, 9, 5, 0, 8])"
      ]
     },
     "execution_count": 83,
     "metadata": {},
     "output_type": "execute_result"
    }
   ],
   "source": [
    "sted_degs2"
   ]
  },
  {
   "cell_type": "code",
   "execution_count": 76,
   "id": "f733ca2f",
   "metadata": {},
   "outputs": [
    {
     "data": {
      "text/plain": [
       "array([4, 1, 2, 0, 3])"
      ]
     },
     "execution_count": 76,
     "metadata": {},
     "output_type": "execute_result"
    }
   ],
   "source": [
    "inds"
   ]
  },
  {
   "cell_type": "code",
   "execution_count": null,
   "id": "566848ef",
   "metadata": {},
   "outputs": [],
   "source": []
  },
  {
   "cell_type": "code",
   "execution_count": 92,
   "id": "f95b39ef",
   "metadata": {},
   "outputs": [],
   "source": [
    "# node reordering\n",
    "# adjacency is dictionary: int -> vector(int)\n",
    "# degrees is dict: int -> int\n",
    "#p, q are int's\n",
    "def RCM(adjacency, degrees, P, Q):\n",
    "    n = len(adjacency)\n",
    "    print(\"n is\", n)\n",
    "    R = []\n",
    "    #step 1 \n",
    "    for i in range(1, n):\n",
    "        if i > len(R):\n",
    "            R.append(Q) \n",
    "            #push!(R, Q)\n",
    "            A = sort_adjacency_i(adjacency[Q], degrees)\n",
    "            for b in A:\n",
    "                if b not in R:\n",
    "                    R.append(b)\n",
    "                \n",
    "        else:\n",
    "            t = sort_adjacency_i(adjacency[R[i]], degrees)\n",
    "            print(\"t is :\", t)\n",
    "            print(\"R is: \", R)\n",
    "            for T in t:\n",
    "                if T not in R:\n",
    "                    R.append(T)\n",
    "\n",
    "    new_order = reverse(R)\n",
    "    return new_order\n"
   ]
  },
  {
   "cell_type": "code",
   "execution_count": null,
   "id": "d59ccc06",
   "metadata": {},
   "outputs": [],
   "source": [
    "\n",
    "def adj_set(adjacency, v):\n",
    "    row_v = adjacency[v]\n",
    "    index = 0\n",
    "    result=[]\n",
    "    for el in row_v:\n",
    "        if el == 1:\n",
    "            result.append(index)\n",
    "        index+=1\n",
    "    \n",
    "    return result\n",
    "    \n",
    "# Cuthill McKee\n",
    "def CM(adjacency, degrees, P, Q):\n",
    "    # choose peripheral vertex x (of lowest degree), set R = {x}\n",
    "    tmp = min(degrees.values())\n",
    "    #print(tmp)\n",
    "    res= [key for key in degrees if degrees[key] == tmp]\n",
    "    # take any vertex x\n",
    "    x = res[0]\n",
    "    R = [x]\n",
    "    n = len(adjacency)\n",
    "    for i in range(n):\n",
    "        while len(R) < n:\n",
    "            # construct A_i of R_i and exclude vertices in R\n",
    "            adj_R = adj_set(R) # adjacency set of R \n",
    "            Ai = []\n",
    "            for r in adj_R:\n",
    "                if r not in R:\n",
    "                    Ai.append(r)\n",
    "            \n",
    "            # sort A_i by min predecessor , ascending by vertex degree\n",
    "            Ai_sorted= sort_adjacency_i(Ai,degrees)\n",
    "            \n",
    "            R.extend(Ai_sorted)\n",
    "    \n",
    "    return R\n",
    "\n",
    "    \n",
    "    "
   ]
  },
  {
   "cell_type": "code",
   "execution_count": null,
   "id": "22ca4e84",
   "metadata": {},
   "outputs": [],
   "source": [
    "\n",
    "# https://docs.scipy.org/doc/scipy/reference/generated/scipy.sparse.csgraph.reverse_cuthill_mckee.html\n",
    "from scipy.sparse import csr_matrix\n",
    "from scipy.sparse.csgraph import reverse_cuthill_mckee\n"
   ]
  },
  {
   "cell_type": "code",
   "execution_count": null,
   "id": "4afa316e",
   "metadata": {},
   "outputs": [],
   "source": [
    "# fractional isomorphisms from \"Graph sim. and hom. densities\"\n",
    "\n",
    "# distance measure based on permutations of rows/cols of fractional isomorphism\n",
    "\n",
    "def fract_iso_dist(G, H):\n",
    "    gsize = len(G)\n",
    "    hsize = len(H)\n",
    "    tensors = np.zeros((gsize, hsize))\n",
    "    scores =[]\n",
    "    for X in tensors:\n",
    "        # compute \n",
    "        s = np.abs(np.matmul(A,X) - np.matmul(X,B))\n",
    "        \n",
    "        \n",
    "        \n",
    "# idea: eigendecomposition of the linear system ; tail eigenvalues and Rad Complexity\n"
   ]
  },
  {
   "cell_type": "code",
   "execution_count": null,
   "id": "6e645bec",
   "metadata": {},
   "outputs": [],
   "source": [
    "# path densities, distance <- derive from Path_k operator \n",
    "\n",
    "\n",
    "# path_k -> path density "
   ]
  },
  {
   "cell_type": "code",
   "execution_count": null,
   "id": "2b6c5c86",
   "metadata": {},
   "outputs": [],
   "source": [
    "# distance transform to similarity embedding \n"
   ]
  },
  {
   "cell_type": "code",
   "execution_count": null,
   "id": "c56a42b1",
   "metadata": {},
   "outputs": [],
   "source": [
    "#pg  14"
   ]
  },
  {
   "cell_type": "code",
   "execution_count": null,
   "id": "99aa0238",
   "metadata": {},
   "outputs": [],
   "source": []
  },
  {
   "cell_type": "code",
   "execution_count": null,
   "id": "b996770a",
   "metadata": {},
   "outputs": [],
   "source": [
    "# probabilistically best permutation of vertices\n",
    "\n",
    "# calculate the fractional distances "
   ]
  }
 ],
 "metadata": {
  "kernelspec": {
   "display_name": "Python 3 (ipykernel)",
   "language": "python",
   "name": "python3"
  },
  "language_info": {
   "codemirror_mode": {
    "name": "ipython",
    "version": 3
   },
   "file_extension": ".py",
   "mimetype": "text/x-python",
   "name": "python",
   "nbconvert_exporter": "python",
   "pygments_lexer": "ipython3",
   "version": "3.7.0"
  }
 },
 "nbformat": 4,
 "nbformat_minor": 5
}
